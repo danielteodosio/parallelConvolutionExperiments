{
 "cells": [
  {
   "cell_type": "markdown",
   "metadata": {},
   "source": [
    "# Criando transformações"
   ]
  },
  {
   "cell_type": "markdown",
   "metadata": {},
   "source": [
    "Precisamos de um dicionário que mapeia cada permutação do nosso alfabeto para sua representação binária... sem one hot vectors"
   ]
  },
  {
   "cell_type": "code",
   "execution_count": 42,
   "metadata": {},
   "outputs": [],
   "source": [
    "import itertools \n",
    "import numpy as np\n",
    "import pandas as pd\n",
    "import matplotlib.pyplot as plt\n",
    "from PIL import Image"
   ]
  },
  {
   "cell_type": "code",
   "execution_count": 7,
   "metadata": {},
   "outputs": [],
   "source": [
    "arrangement = []\n",
    "\n",
    "for word in itertools.product(['a', 'c', 'g', 't'], repeat=3):\n",
    "   newString = ''.join(word)\n",
    "   #print(newString)\n",
    "   arrangement.append(newString)\n",
    "\n",
    "sorted_arrangement = sorted(arrangement)\n",
    "\n"
   ]
  },
  {
   "cell_type": "code",
   "execution_count": 8,
   "metadata": {},
   "outputs": [
    {
     "name": "stdout",
     "output_type": "stream",
     "text": [
      "(6,)\n",
      "[[5. 7. 9. 1. 2. 3.]\n",
      " [5. 7. 9. 1. 2. 3.]]\n"
     ]
    }
   ],
   "source": [
    "x = np.empty((0,6))\n",
    "k = np.array([])\n",
    "y = np.array([5, 7, 9])\n",
    "w = np.array([1, 2, 3])\n",
    "z0 = np.append(k, y)\n",
    "z0 = np.append(z0, w)\n",
    "print(z0.shape)\n",
    "\n",
    "a = np.vstack((x, z0))\n",
    "b = np.vstack((a, a))\n",
    "print(b)"
   ]
  },
  {
   "cell_type": "code",
   "execution_count": 9,
   "metadata": {},
   "outputs": [],
   "source": [
    "def generateArrangementsOfsizeN(nucleotideAlphabetList, subSeqSize):\n",
    "    arrangement = []\n",
    "\n",
    "    for word in itertools.product(nucleotideAlphabetList, repeat=subSeqSize):\n",
    "        newString = ''.join(word)\n",
    "        arrangement.append(newString)\n",
    "\n",
    "    sorted_arrangement = sorted(arrangement)\n",
    "\n",
    "    return sorted_arrangement\n",
    "\n",
    "\n",
    "def intToBinaryCharArray(number, numOfBits):\n",
    "    return list(bin(number)[2:].zfill(numOfBits))\n",
    "\n",
    "def binaryCharArrayToBinaryIntArray(binaryCharArray):\n",
    "    binaryIntArray = []\n",
    "    for c in binaryCharArray:\n",
    "        binaryIntArray.append(int(c))\n",
    "    return binaryIntArray\n",
    "\n",
    "\n",
    "def numToBinaryArray(num, numOfBits):\n",
    "    l0 = intToBinaryCharArray(num, numOfBits)\n",
    "    l1 = binaryCharArrayToBinaryIntArray(l0)\n",
    "    return l1\n",
    "\n",
    "def createDictForNucleotidesAlphabet(nucleotideAlphabet, subSeqSize, numOfBits):\n",
    "    gen_dict={}\n",
    "    subSeqs = generateArrangementsOfsizeN(nucleotideAlphabet, subSeqSize)\n",
    "    for i in range(0, len(subSeqs)):\n",
    "        gen_dict[subSeqs[i]] = numToBinaryArray(i+1, numOfBits)\n",
    "    \n",
    "    return gen_dict\n",
    "\n",
    "\n"
   ]
  },
  {
   "cell_type": "code",
   "execution_count": 10,
   "metadata": {},
   "outputs": [],
   "source": [
    "def testIfSeqWindowAndStrideMatches(seqSize, windowSize, strideSize):\n",
    "    last_window_start = 0\n",
    "    nOfStrides = 0\n",
    "    while (last_window_start + windowSize - 1) < (seqSize - 1):\n",
    "        last_window_start = strideSize * nOfStrides\n",
    "        nOfStrides = nOfStrides + 1\n",
    "        #print(last_window_start)\n",
    "        #print(nOfStrides)\n",
    "        #print(' ')\n",
    "\n",
    "    print('n of windows: ' + str(nOfStrides))\n",
    "    print('last window start: ' + str(last_window_start))\n",
    "    print('last window end: ' + str(last_window_start + windowSize - 1))\n",
    "    print('max seq position: ' + str(seqSize - 1))\n",
    "\n"
   ]
  },
  {
   "cell_type": "code",
   "execution_count": 24,
   "metadata": {},
   "outputs": [
    {
     "data": {
      "text/plain": [
       "{'aaa': [0, 0, 0, 0, 0, 0, 0, 1],\n",
       " 'aac': [0, 0, 0, 0, 0, 0, 1, 0],\n",
       " 'aag': [0, 0, 0, 0, 0, 0, 1, 1],\n",
       " 'aat': [0, 0, 0, 0, 0, 1, 0, 0],\n",
       " 'aca': [0, 0, 0, 0, 0, 1, 0, 1],\n",
       " 'acc': [0, 0, 0, 0, 0, 1, 1, 0],\n",
       " 'acg': [0, 0, 0, 0, 0, 1, 1, 1],\n",
       " 'act': [0, 0, 0, 0, 1, 0, 0, 0],\n",
       " 'aga': [0, 0, 0, 0, 1, 0, 0, 1],\n",
       " 'agc': [0, 0, 0, 0, 1, 0, 1, 0],\n",
       " 'agg': [0, 0, 0, 0, 1, 0, 1, 1],\n",
       " 'agt': [0, 0, 0, 0, 1, 1, 0, 0],\n",
       " 'ata': [0, 0, 0, 0, 1, 1, 0, 1],\n",
       " 'atc': [0, 0, 0, 0, 1, 1, 1, 0],\n",
       " 'atg': [0, 0, 0, 0, 1, 1, 1, 1],\n",
       " 'att': [0, 0, 0, 1, 0, 0, 0, 0],\n",
       " 'caa': [0, 0, 0, 1, 0, 0, 0, 1],\n",
       " 'cac': [0, 0, 0, 1, 0, 0, 1, 0],\n",
       " 'cag': [0, 0, 0, 1, 0, 0, 1, 1],\n",
       " 'cat': [0, 0, 0, 1, 0, 1, 0, 0],\n",
       " 'cca': [0, 0, 0, 1, 0, 1, 0, 1],\n",
       " 'ccc': [0, 0, 0, 1, 0, 1, 1, 0],\n",
       " 'ccg': [0, 0, 0, 1, 0, 1, 1, 1],\n",
       " 'cct': [0, 0, 0, 1, 1, 0, 0, 0],\n",
       " 'cga': [0, 0, 0, 1, 1, 0, 0, 1],\n",
       " 'cgc': [0, 0, 0, 1, 1, 0, 1, 0],\n",
       " 'cgg': [0, 0, 0, 1, 1, 0, 1, 1],\n",
       " 'cgt': [0, 0, 0, 1, 1, 1, 0, 0],\n",
       " 'cta': [0, 0, 0, 1, 1, 1, 0, 1],\n",
       " 'ctc': [0, 0, 0, 1, 1, 1, 1, 0],\n",
       " 'ctg': [0, 0, 0, 1, 1, 1, 1, 1],\n",
       " 'ctt': [0, 0, 1, 0, 0, 0, 0, 0],\n",
       " 'gaa': [0, 0, 1, 0, 0, 0, 0, 1],\n",
       " 'gac': [0, 0, 1, 0, 0, 0, 1, 0],\n",
       " 'gag': [0, 0, 1, 0, 0, 0, 1, 1],\n",
       " 'gat': [0, 0, 1, 0, 0, 1, 0, 0],\n",
       " 'gca': [0, 0, 1, 0, 0, 1, 0, 1],\n",
       " 'gcc': [0, 0, 1, 0, 0, 1, 1, 0],\n",
       " 'gcg': [0, 0, 1, 0, 0, 1, 1, 1],\n",
       " 'gct': [0, 0, 1, 0, 1, 0, 0, 0],\n",
       " 'gga': [0, 0, 1, 0, 1, 0, 0, 1],\n",
       " 'ggc': [0, 0, 1, 0, 1, 0, 1, 0],\n",
       " 'ggg': [0, 0, 1, 0, 1, 0, 1, 1],\n",
       " 'ggt': [0, 0, 1, 0, 1, 1, 0, 0],\n",
       " 'gta': [0, 0, 1, 0, 1, 1, 0, 1],\n",
       " 'gtc': [0, 0, 1, 0, 1, 1, 1, 0],\n",
       " 'gtg': [0, 0, 1, 0, 1, 1, 1, 1],\n",
       " 'gtt': [0, 0, 1, 1, 0, 0, 0, 0],\n",
       " 'taa': [0, 0, 1, 1, 0, 0, 0, 1],\n",
       " 'tac': [0, 0, 1, 1, 0, 0, 1, 0],\n",
       " 'tag': [0, 0, 1, 1, 0, 0, 1, 1],\n",
       " 'tat': [0, 0, 1, 1, 0, 1, 0, 0],\n",
       " 'tca': [0, 0, 1, 1, 0, 1, 0, 1],\n",
       " 'tcc': [0, 0, 1, 1, 0, 1, 1, 0],\n",
       " 'tcg': [0, 0, 1, 1, 0, 1, 1, 1],\n",
       " 'tct': [0, 0, 1, 1, 1, 0, 0, 0],\n",
       " 'tga': [0, 0, 1, 1, 1, 0, 0, 1],\n",
       " 'tgc': [0, 0, 1, 1, 1, 0, 1, 0],\n",
       " 'tgg': [0, 0, 1, 1, 1, 0, 1, 1],\n",
       " 'tgt': [0, 0, 1, 1, 1, 1, 0, 0],\n",
       " 'tta': [0, 0, 1, 1, 1, 1, 0, 1],\n",
       " 'ttc': [0, 0, 1, 1, 1, 1, 1, 0],\n",
       " 'ttg': [0, 0, 1, 1, 1, 1, 1, 1],\n",
       " 'ttt': [0, 1, 0, 0, 0, 0, 0, 0]}"
      ]
     },
     "execution_count": 24,
     "metadata": {},
     "output_type": "execute_result"
    }
   ],
   "source": [
    "dict_test = createDictForNucleotidesAlphabet(['a','c','g','t'], 3, 8)\n",
    "\n",
    "dict_test"
   ]
  },
  {
   "cell_type": "code",
   "execution_count": 12,
   "metadata": {},
   "outputs": [
    {
     "name": "stdout",
     "output_type": "stream",
     "text": [
      "n of windows: 55\n",
      "last window start: 54\n",
      "last window end: 56\n",
      "max seq position: 56\n"
     ]
    }
   ],
   "source": [
    "testIfSeqWindowAndStrideMatches(57, 3, 1)\n",
    "\n"
   ]
  },
  {
   "cell_type": "code",
   "execution_count": 13,
   "metadata": {},
   "outputs": [
    {
     "name": "stdout",
     "output_type": "stream",
     "text": [
      "['gta', 'tac', 'act', 'cta', 'tag', 'aga', 'gag', 'aga', 'gaa', 'aac', 'act', 'cta', 'tag', 'agt', 'gtg', 'tgc', 'gca', 'cat', 'att', 'tta', 'tag', 'agc', 'gct', 'ctt', 'tta', 'tat', 'att', 'ttt', 'ttt', 'ttt', 'ttt', 'ttt', 'ttg', 'tgt', 'gtt', 'tta', 'tat', 'atc', 'tca', 'cat', 'atg', 'tgc', 'gct', 'cta', 'taa', 'aac', 'acc', 'cca', 'cac', 'acc', 'ccc', 'ccg', 'cgg', 'ggc', 'gcg']\n",
      "57\n",
      "55\n"
     ]
    }
   ],
   "source": [
    "\n",
    "seqTeste = 'gtactagagaactagtgcattagcttatttttttgttatcatgctaaccacccggcg'\n",
    "windowSize = 3\n",
    "strideSize = 1\n",
    "seqSize = len(seqTeste)\n",
    "start = 0\n",
    "\n",
    "listSubSeqs = []\n",
    "while start + (windowSize - 1) <= (seqSize -1):\n",
    "    listSubSeqs.append(seqTeste[start : start + windowSize])\n",
    "    start = start + strideSize\n",
    "\n",
    "print(listSubSeqs)\n",
    "print(seqSize)\n",
    "print(len(listSubSeqs))\n",
    "\n",
    "\n",
    "\n",
    "\n",
    "\n",
    "\n",
    "\n",
    "\n"
   ]
  },
  {
   "cell_type": "code",
   "execution_count": null,
   "metadata": {},
   "outputs": [],
   "source": [
    "def generateSubSeqsFromSeq(seq, windowSize = 3, strideSize = 1, printInfo = False):\n",
    "    windowSize = 3\n",
    "    strideSize = 1\n",
    "    seqSize = len(seq)\n",
    "    start = 0\n",
    "\n",
    "    listSubSeqs = []\n",
    "    while start + (windowSize - 1) <= (seqSize -1):\n",
    "        listSubSeqs.append(seq[start : start + windowSize])\n",
    "        start = start + strideSize\n",
    "    \n",
    "    if printInfo:\n",
    "        print(listSubSeqs)\n",
    "        print(seqSize)\n",
    "        print(len(listSubSeqs))\n",
    "\n",
    "    return listSubSeqs\n",
    "    \n",
    "    \n"
   ]
  },
  {
   "cell_type": "code",
   "execution_count": 21,
   "metadata": {},
   "outputs": [
    {
     "data": {
      "text/plain": [
       "array([['gta', 'tac'],\n",
       "       ['tac', 'act'],\n",
       "       ['act', 'cta'],\n",
       "       ['cta', 'tag'],\n",
       "       ['tag', 'aga'],\n",
       "       ['aga', 'gag'],\n",
       "       ['gag', 'aga'],\n",
       "       ['aga', 'gaa'],\n",
       "       ['gaa', 'aac'],\n",
       "       ['aac', 'act'],\n",
       "       ['act', 'cta'],\n",
       "       ['cta', 'tag'],\n",
       "       ['tag', 'agt'],\n",
       "       ['agt', 'gtg'],\n",
       "       ['gtg', 'tgc'],\n",
       "       ['tgc', 'gca'],\n",
       "       ['gca', 'cat'],\n",
       "       ['cat', 'att'],\n",
       "       ['att', 'tta'],\n",
       "       ['tta', 'tag'],\n",
       "       ['tag', 'agc'],\n",
       "       ['agc', 'gct'],\n",
       "       ['gct', 'ctt'],\n",
       "       ['ctt', 'tta'],\n",
       "       ['tta', 'tat'],\n",
       "       ['tat', 'att'],\n",
       "       ['att', 'ttt'],\n",
       "       ['ttt', 'ttt'],\n",
       "       ['ttt', 'ttt'],\n",
       "       ['ttt', 'ttt'],\n",
       "       ['ttt', 'ttt'],\n",
       "       ['ttt', 'ttg'],\n",
       "       ['ttg', 'tgt'],\n",
       "       ['tgt', 'gtt'],\n",
       "       ['gtt', 'tta'],\n",
       "       ['tta', 'tat'],\n",
       "       ['tat', 'atc'],\n",
       "       ['atc', 'tca'],\n",
       "       ['tca', 'cat'],\n",
       "       ['cat', 'atg'],\n",
       "       ['atg', 'tgc'],\n",
       "       ['tgc', 'gct'],\n",
       "       ['gct', 'cta'],\n",
       "       ['cta', 'taa'],\n",
       "       ['taa', 'aac'],\n",
       "       ['aac', 'acc'],\n",
       "       ['acc', 'cca'],\n",
       "       ['cca', 'cac'],\n",
       "       ['cac', 'acc'],\n",
       "       ['acc', 'ccc'],\n",
       "       ['ccc', 'ccg'],\n",
       "       ['ccg', 'cgg'],\n",
       "       ['cgg', 'ggc'],\n",
       "       ['ggc', 'gcg']], dtype='<U32')"
      ]
     },
     "execution_count": 21,
     "metadata": {},
     "output_type": "execute_result"
    }
   ],
   "source": [
    "# TODO: testar...\n",
    "genMatrix = np.empty((0,2))\n",
    "regionSize = 2\n",
    "subseqIndex = 0\n",
    "subSeqLength = len(listSubSeqs)\n",
    "subSeqLastIndex = subSeqLength - 1\n",
    "while subseqIndex <= (subSeqLastIndex - (regionSize - 1)):\n",
    "    newColumnStart = subseqIndex\n",
    "    newColumn = np.array([])\n",
    "    while newColumnStart < subseqIndex + regionSize:\n",
    "        newColumn = np.append(newColumn, listSubSeqs[newColumnStart])   #listSubSeqs[newColumnStart])\n",
    "        newColumnStart = newColumnStart + 1\n",
    "    genMatrix = np.vstack((genMatrix, newColumn))\n",
    "    subseqIndex = subseqIndex + 1\n",
    "\n",
    "genMatrix"
   ]
  },
  {
   "cell_type": "code",
   "execution_count": null,
   "metadata": {},
   "outputs": [],
   "source": [
    "def organizeSubSeqs(listSubSeqs, regionSize = 2):\n",
    "\n",
    "    genMatrix = np.empty((0,regionSize))\n",
    "    #regionSize = regionSize\n",
    "    subseqIndex = 0\n",
    "    subSeqLength = len(listSubSeqs)\n",
    "    subSeqLastIndex = subSeqLength - 1\n",
    "    while subseqIndex <= (subSeqLastIndex - (regionSize - 1)):\n",
    "        newColumnStart = subseqIndex\n",
    "        newColumn = np.array([])\n",
    "        while newColumnStart < subseqIndex + regionSize:\n",
    "            newColumn = np.append(newColumn, listSubSeqs[newColumnStart])   #listSubSeqs[newColumnStart])\n",
    "            newColumnStart = newColumnStart + 1\n",
    "        genMatrix = np.vstack((genMatrix, newColumn))\n",
    "        subseqIndex = subseqIndex + 1\n",
    "\n",
    "    return genMatrix\n",
    "\n"
   ]
  },
  {
   "cell_type": "code",
   "execution_count": 39,
   "metadata": {},
   "outputs": [
    {
     "data": {
      "text/plain": [
       "array([[0., 0., 1., 0., 1., 1., 0., 1., 0., 0., 1., 1., 0., 0., 1., 0.],\n",
       "       [0., 0., 1., 1., 0., 0., 1., 0., 0., 0., 0., 0., 1., 0., 0., 0.],\n",
       "       [0., 0., 0., 0., 1., 0., 0., 0., 0., 0., 0., 1., 1., 1., 0., 1.],\n",
       "       [0., 0., 0., 1., 1., 1., 0., 1., 0., 0., 1., 1., 0., 0., 1., 1.],\n",
       "       [0., 0., 1., 1., 0., 0., 1., 1., 0., 0., 0., 0., 1., 0., 0., 1.],\n",
       "       [0., 0., 0., 0., 1., 0., 0., 1., 0., 0., 1., 0., 0., 0., 1., 1.],\n",
       "       [0., 0., 1., 0., 0., 0., 1., 1., 0., 0., 0., 0., 1., 0., 0., 1.],\n",
       "       [0., 0., 0., 0., 1., 0., 0., 1., 0., 0., 1., 0., 0., 0., 0., 1.],\n",
       "       [0., 0., 1., 0., 0., 0., 0., 1., 0., 0., 0., 0., 0., 0., 1., 0.],\n",
       "       [0., 0., 0., 0., 0., 0., 1., 0., 0., 0., 0., 0., 1., 0., 0., 0.],\n",
       "       [0., 0., 0., 0., 1., 0., 0., 0., 0., 0., 0., 1., 1., 1., 0., 1.],\n",
       "       [0., 0., 0., 1., 1., 1., 0., 1., 0., 0., 1., 1., 0., 0., 1., 1.],\n",
       "       [0., 0., 1., 1., 0., 0., 1., 1., 0., 0., 0., 0., 1., 1., 0., 0.],\n",
       "       [0., 0., 0., 0., 1., 1., 0., 0., 0., 0., 1., 0., 1., 1., 1., 1.],\n",
       "       [0., 0., 1., 0., 1., 1., 1., 1., 0., 0., 1., 1., 1., 0., 1., 0.],\n",
       "       [0., 0., 1., 1., 1., 0., 1., 0., 0., 0., 1., 0., 0., 1., 0., 1.],\n",
       "       [0., 0., 1., 0., 0., 1., 0., 1., 0., 0., 0., 1., 0., 1., 0., 0.],\n",
       "       [0., 0., 0., 1., 0., 1., 0., 0., 0., 0., 0., 1., 0., 0., 0., 0.],\n",
       "       [0., 0., 0., 1., 0., 0., 0., 0., 0., 0., 1., 1., 1., 1., 0., 1.],\n",
       "       [0., 0., 1., 1., 1., 1., 0., 1., 0., 0., 1., 1., 0., 0., 1., 1.],\n",
       "       [0., 0., 1., 1., 0., 0., 1., 1., 0., 0., 0., 0., 1., 0., 1., 0.],\n",
       "       [0., 0., 0., 0., 1., 0., 1., 0., 0., 0., 1., 0., 1., 0., 0., 0.],\n",
       "       [0., 0., 1., 0., 1., 0., 0., 0., 0., 0., 1., 0., 0., 0., 0., 0.],\n",
       "       [0., 0., 1., 0., 0., 0., 0., 0., 0., 0., 1., 1., 1., 1., 0., 1.],\n",
       "       [0., 0., 1., 1., 1., 1., 0., 1., 0., 0., 1., 1., 0., 1., 0., 0.],\n",
       "       [0., 0., 1., 1., 0., 1., 0., 0., 0., 0., 0., 1., 0., 0., 0., 0.],\n",
       "       [0., 0., 0., 1., 0., 0., 0., 0., 0., 1., 0., 0., 0., 0., 0., 0.],\n",
       "       [0., 1., 0., 0., 0., 0., 0., 0., 0., 1., 0., 0., 0., 0., 0., 0.],\n",
       "       [0., 1., 0., 0., 0., 0., 0., 0., 0., 1., 0., 0., 0., 0., 0., 0.],\n",
       "       [0., 1., 0., 0., 0., 0., 0., 0., 0., 1., 0., 0., 0., 0., 0., 0.],\n",
       "       [0., 1., 0., 0., 0., 0., 0., 0., 0., 1., 0., 0., 0., 0., 0., 0.],\n",
       "       [0., 1., 0., 0., 0., 0., 0., 0., 0., 0., 1., 1., 1., 1., 1., 1.],\n",
       "       [0., 0., 1., 1., 1., 1., 1., 1., 0., 0., 1., 1., 1., 1., 0., 0.],\n",
       "       [0., 0., 1., 1., 1., 1., 0., 0., 0., 0., 1., 1., 0., 0., 0., 0.],\n",
       "       [0., 0., 1., 1., 0., 0., 0., 0., 0., 0., 1., 1., 1., 1., 0., 1.],\n",
       "       [0., 0., 1., 1., 1., 1., 0., 1., 0., 0., 1., 1., 0., 1., 0., 0.],\n",
       "       [0., 0., 1., 1., 0., 1., 0., 0., 0., 0., 0., 0., 1., 1., 1., 0.],\n",
       "       [0., 0., 0., 0., 1., 1., 1., 0., 0., 0., 1., 1., 0., 1., 0., 1.],\n",
       "       [0., 0., 1., 1., 0., 1., 0., 1., 0., 0., 0., 1., 0., 1., 0., 0.],\n",
       "       [0., 0., 0., 1., 0., 1., 0., 0., 0., 0., 0., 0., 1., 1., 1., 1.],\n",
       "       [0., 0., 0., 0., 1., 1., 1., 1., 0., 0., 1., 1., 1., 0., 1., 0.],\n",
       "       [0., 0., 1., 1., 1., 0., 1., 0., 0., 0., 1., 0., 1., 0., 0., 0.],\n",
       "       [0., 0., 1., 0., 1., 0., 0., 0., 0., 0., 0., 1., 1., 1., 0., 1.],\n",
       "       [0., 0., 0., 1., 1., 1., 0., 1., 0., 0., 1., 1., 0., 0., 0., 1.],\n",
       "       [0., 0., 1., 1., 0., 0., 0., 1., 0., 0., 0., 0., 0., 0., 1., 0.],\n",
       "       [0., 0., 0., 0., 0., 0., 1., 0., 0., 0., 0., 0., 0., 1., 1., 0.],\n",
       "       [0., 0., 0., 0., 0., 1., 1., 0., 0., 0., 0., 1., 0., 1., 0., 1.],\n",
       "       [0., 0., 0., 1., 0., 1., 0., 1., 0., 0., 0., 1., 0., 0., 1., 0.],\n",
       "       [0., 0., 0., 1., 0., 0., 1., 0., 0., 0., 0., 0., 0., 1., 1., 0.],\n",
       "       [0., 0., 0., 0., 0., 1., 1., 0., 0., 0., 0., 1., 0., 1., 1., 0.],\n",
       "       [0., 0., 0., 1., 0., 1., 1., 0., 0., 0., 0., 1., 0., 1., 1., 1.],\n",
       "       [0., 0., 0., 1., 0., 1., 1., 1., 0., 0., 0., 1., 1., 0., 1., 1.],\n",
       "       [0., 0., 0., 1., 1., 0., 1., 1., 0., 0., 1., 0., 1., 0., 1., 0.],\n",
       "       [0., 0., 1., 0., 1., 0., 1., 0., 0., 0., 1., 0., 0., 1., 1., 1.]])"
      ]
     },
     "execution_count": 39,
     "metadata": {},
     "output_type": "execute_result"
    }
   ],
   "source": [
    "num_lines = genMatrix.shape[0]\n",
    "num_cols = genMatrix.shape[1]\n",
    "bitsMatrix = np.empty((0,16))\n",
    "\n",
    "\n",
    "for l in range(0, num_lines):\n",
    "    bitsLine = np.array([])\n",
    "    for c in range(0, num_cols):\n",
    "        bitsLine = np.append(bitsLine, dict_test[genMatrix[l][c]])\n",
    "    \n",
    "    bitsMatrix = np.vstack((bitsMatrix, bitsLine))\n",
    "\n",
    "bitsMatrix\n",
    "\n",
    "\n",
    "\n",
    "\n",
    "\n",
    "\n",
    "\n",
    "\n",
    "    \n",
    "\n"
   ]
  },
  {
   "cell_type": "code",
   "execution_count": null,
   "metadata": {},
   "outputs": [],
   "source": [
    "def genBitMatrixFromSubSeqMatrix(subSeqMatrix, dictSubSeqToArrayBit, colSize = 16):\n",
    "    num_lines = subSeqMatrix.shape[0]\n",
    "    num_cols = subSeqMatrix.shape[1]\n",
    "    bitsMatrix = np.empty((0,colSize))  #TODO: fixo\n",
    "\n",
    "\n",
    "    for l in range(0, num_lines):\n",
    "        bitsLine = np.array([])\n",
    "        for c in range(0, num_cols):\n",
    "            bitsLine = np.append(bitsLine, dictSubSeqToArrayBit[subSeqMatrix[l][c]])\n",
    "        \n",
    "        bitsMatrix = np.vstack((bitsMatrix, bitsLine))\n",
    "\n",
    "    return bitsMatrix"
   ]
  },
  {
   "cell_type": "code",
   "execution_count": 48,
   "metadata": {},
   "outputs": [],
   "source": [
    "#img = Image.fromarray(bitsMatrix)\n",
    "#img\n",
    "img = Image.fromarray(np.uint8(bitsMatrix * 255) , 'L')\n",
    "img.save('teste00.png')\n",
    "img.show()"
   ]
  },
  {
   "cell_type": "markdown",
   "metadata": {},
   "source": [
    "Fizemos a primeira transformação de sequência de nucleotídeos em uma matriz que supostamente respeita informação  posicional da sequência. Próximos passos é transformar esses trechos de código em métodos genéricos e gerar representações para o dataset todo. Depois, podemos implementar uma rede pra ver se essa joça funciona de alguma forma."
   ]
  }
 ],
 "metadata": {
  "kernelspec": {
   "display_name": "base",
   "language": "python",
   "name": "python3"
  },
  "language_info": {
   "codemirror_mode": {
    "name": "ipython",
    "version": 3
   },
   "file_extension": ".py",
   "mimetype": "text/x-python",
   "name": "python",
   "nbconvert_exporter": "python",
   "pygments_lexer": "ipython3",
   "version": "3.10.9"
  }
 },
 "nbformat": 4,
 "nbformat_minor": 2
}
