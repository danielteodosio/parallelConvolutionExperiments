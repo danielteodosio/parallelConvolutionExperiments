{
 "cells": [
  {
   "cell_type": "code",
   "execution_count": 1,
   "metadata": {},
   "outputs": [],
   "source": [
    "import numpy as np\n",
    "import pandas as pd\n",
    "import matplotlib.pyplot as plt\n",
    "import tensorflow as tf\n",
    "from tensorflow import keras\n",
    "from sklearn.model_selection import train_test_split\n",
    "from sklearn.preprocessing import StandardScaler\n",
    "import pickle\n"
   ]
  },
  {
   "cell_type": "code",
   "execution_count": 3,
   "metadata": {},
   "outputs": [],
   "source": [
    "#utils\n",
    "\n",
    "def carregar_pickle(nome_arquivo):\n",
    "  with open(nome_arquivo, 'rb') as arquivo:\n",
    "    objeto = pickle.load(arquivo)\n",
    "  return objeto"
   ]
  },
  {
   "cell_type": "markdown",
   "metadata": {},
   "source": [
    "#### carregando h3 w3_s1"
   ]
  },
  {
   "cell_type": "code",
   "execution_count": 253,
   "metadata": {},
   "outputs": [],
   "source": [
    "raw_data_set1 = carregar_pickle('dataset_H3_W3S1.pkl')\n",
    "input_full1 = raw_data_set1['inputs']\n",
    "output_full1 = raw_data_set1['outputs']\n",
    "sequences_full1 = raw_data_set1['sequences']"
   ]
  },
  {
   "cell_type": "markdown",
   "metadata": {},
   "source": [
    "#### carregando h3 w12_s4"
   ]
  },
  {
   "cell_type": "code",
   "execution_count": 5,
   "metadata": {},
   "outputs": [],
   "source": [
    "raw_data_set2 = carregar_pickle('dataset_H3_W12S4.pkl')\n",
    "input_full2 = raw_data_set2['inputs']\n",
    "output_full2 = raw_data_set2['outputs']\n",
    "sequences_full2 = raw_data_set2['sequences']"
   ]
  },
  {
   "cell_type": "markdown",
   "metadata": {},
   "source": [
    "#### carregando multiplas representações"
   ]
  },
  {
   "cell_type": "code",
   "execution_count": 5,
   "metadata": {},
   "outputs": [],
   "source": [
    "raw_data_setR0 = carregar_pickle('dataset_H3_W3S1.pkl')\n",
    "input_fullR0 = raw_data_setR0['inputs']\n",
    "output_fullR0 = raw_data_setR0['outputs']\n",
    "sequences_fullR0 = raw_data_setR0['sequences']\n",
    "\n",
    "raw_data_setR1 = carregar_pickle('dataset_H3_W4S2.pkl')\n",
    "input_fullR1 = raw_data_setR1['inputs']\n",
    "output_fullR1 = raw_data_setR1['outputs']\n",
    "sequences_fullR1 = raw_data_setR1['sequences']"
   ]
  },
  {
   "cell_type": "code",
   "execution_count": 7,
   "metadata": {},
   "outputs": [
    {
     "name": "stdout",
     "output_type": "stream",
     "text": [
      "n of difs: 0\n",
      "Ordem OK\n"
     ]
    }
   ],
   "source": [
    "validaSequencesOrder(sequences_fullR0, sequences_fullR1)"
   ]
  },
  {
   "cell_type": "code",
   "execution_count": 8,
   "metadata": {},
   "outputs": [
    {
     "data": {
      "text/plain": [
       "(14963, 497, 16)"
      ]
     },
     "execution_count": 8,
     "metadata": {},
     "output_type": "execute_result"
    }
   ],
   "source": [
    "input_fullR0.shape"
   ]
  },
  {
   "cell_type": "markdown",
   "metadata": {},
   "source": [
    "#### criando datasets w3_s1"
   ]
  },
  {
   "cell_type": "code",
   "execution_count": 297,
   "metadata": {},
   "outputs": [],
   "source": [
    "input_train1, input_test1, output_train1, output_test1, sequence_train1, sequence_test1 = train_test_split(input_full1, output_full1, \n",
    "sequences_full1, train_size=0.75 , shuffle= True, random_state = 0);"
   ]
  },
  {
   "cell_type": "markdown",
   "metadata": {},
   "source": [
    "#### criando datasets w12_s4"
   ]
  },
  {
   "cell_type": "code",
   "execution_count": 10,
   "metadata": {},
   "outputs": [],
   "source": [
    "input_train2, input_test2, output_train2, output_test2, sequence_train2, sequence_test2 = train_test_split(input_full2, output_full2, \n",
    "sequences_full2, train_size=0.75 , shuffle= True, random_state = 0);"
   ]
  },
  {
   "cell_type": "markdown",
   "metadata": {},
   "source": [
    "#### criando dataset conjunto"
   ]
  },
  {
   "cell_type": "code",
   "execution_count": 93,
   "metadata": {},
   "outputs": [],
   "source": [
    "input_trainR0, input_testR0, input_trainR1, input_testR1, output_trainConj, output_testConj, sequence_trainConj, sequence_testConj = train_test_split(input_fullR0, input_fullR1, output_fullR0, \n",
    "sequences_fullR0, train_size=0.75 , shuffle= True, random_state = 0);"
   ]
  },
  {
   "cell_type": "code",
   "execution_count": 6,
   "metadata": {},
   "outputs": [
    {
     "ename": "NameError",
     "evalue": "name 'input_trainR1' is not defined",
     "output_type": "error",
     "traceback": [
      "\u001b[1;31m---------------------------------------------------------------------------\u001b[0m",
      "\u001b[1;31mNameError\u001b[0m                                 Traceback (most recent call last)",
      "Cell \u001b[1;32mIn[6], line 1\u001b[0m\n\u001b[1;32m----> 1\u001b[0m \u001b[43minput_trainR1\u001b[49m\u001b[38;5;241m.\u001b[39mshape\n",
      "\u001b[1;31mNameError\u001b[0m: name 'input_trainR1' is not defined"
     ]
    }
   ],
   "source": [
    "input_trainR1.shape"
   ]
  },
  {
   "cell_type": "code",
   "execution_count": 7,
   "metadata": {},
   "outputs": [],
   "source": [
    "#utils\n",
    "\n",
    "# binariza resultado da classificação da RN. \n",
    "#param: array -> Rn output, corte -> x > corte significa 1\n",
    "def myClassify(array, corte):\n",
    "    classifiedArray = []\n",
    "    for x in array:\n",
    "        if(x > corte):\n",
    "            classifiedArray.append(1)\n",
    "        else:\n",
    "            classifiedArray.append(0)\n",
    "    \n",
    "    return classifiedArray\n",
    "\n",
    "# Retorna lista com Ok/Nok para predição binarizada  e valor real\n",
    "# param: arrPredict -> predict da rede\n",
    "# param: arrReal -> valores reais de referência\n",
    "def comparePredictOkNok(arrPredict, arrReal):\n",
    "\n",
    "    sizePredict = len(arrPredict)\n",
    "    sizeArrReal = len(arrReal)\n",
    "\n",
    "    if(sizePredict != sizeArrReal):\n",
    "        print('tamanho dos arrays é imcompatível')\n",
    "        return\n",
    "\n",
    "    size = sizeArrReal\n",
    "\n",
    "    arrOkNok = []\n",
    "    for i in range(0, size):\n",
    "        if(arrPredict[i] == arrReal[i]):\n",
    "            arrOkNok.append('OK')\n",
    "        else:\n",
    "            arrOkNok.append('NOK')\n",
    "    \n",
    "    return arrOkNok\n",
    "\n",
    "\n",
    "\n",
    "# Retorna lista com Ok/Nok para predição binarizada  e valor real\n",
    "# param: arrPredict -> predict da rede\n",
    "# param: arrReal -> valores reais de referência\n",
    "# param: sequenceTest -> sequencia correspondente\n",
    "def comparePredictOkNokWithSeq(arrPredict, arrReal, sequenceTest):\n",
    "\n",
    "    sizePredict = len(arrPredict)\n",
    "    sizeArrReal = len(arrReal)\n",
    "\n",
    "    if(sizePredict != sizeArrReal):\n",
    "        print('tamanho dos arrays é imcompatível')\n",
    "        return\n",
    "\n",
    "    size = sizeArrReal\n",
    "\n",
    "    arrOkNok = []\n",
    "    for i in range(0, size):\n",
    "        if(arrPredict[i] == arrReal[i]):\n",
    "            arrOkNok.append('OK' + ' : ' + sequenceTest[i])\n",
    "        else:\n",
    "            arrOkNok.append('NOK' + ' : ' + sequenceTest[i])\n",
    "    \n",
    "    return arrOkNok\n",
    "        \n"
   ]
  },
  {
   "cell_type": "code",
   "execution_count": 3,
   "metadata": {},
   "outputs": [],
   "source": [
    "def verifyIfSeqWindowAndStrideMatches(seqSize, windowSize, strideSize):\n",
    "    last_window_start = 0\n",
    "    nOfStrides = 0\n",
    "    while (last_window_start + windowSize - 1) < (seqSize - 1):\n",
    "        last_window_start = strideSize * nOfStrides\n",
    "        nOfStrides = nOfStrides + 1\n",
    "        #print(last_window_start)\n",
    "        #print(nOfStrides)\n",
    "        #print(' ')\n",
    "\n",
    "    print('n of windows: ' + str(nOfStrides))\n",
    "    print('last window start: ' + str(last_window_start))\n",
    "    print('last window end: ' + str(last_window_start + windowSize - 1))\n",
    "    print('max seq position: ' + str(seqSize - 1))\n",
    "\n",
    "\n",
    "\n",
    "def validaSequencesOrder(seq0, seq1):\n",
    "    i = 0\n",
    "    d = 0\n",
    "    while i < len(seq0):\n",
    "        #print(seq0[i][0:15] + ' - ' + seq1[i][0:15])\n",
    "        if(seq0[i] != seq1[i]):\n",
    "            d = d+1\n",
    "        i = i + 1\n",
    "\n",
    "    if d > 0:\n",
    "        print('n of difs: ' + str(d))\n",
    "        print('Ordem NOK')\n",
    "    else:\n",
    "        print('n of difs: ' + str(d))\n",
    "        print('Ordem OK')\n",
    "\n"
   ]
  },
  {
   "cell_type": "code",
   "execution_count": 10,
   "metadata": {},
   "outputs": [
    {
     "name": "stdout",
     "output_type": "stream",
     "text": [
      "n of windows: 489\n",
      "last window start: 488\n",
      "last window end: 496\n",
      "max seq position: 496\n"
     ]
    }
   ],
   "source": [
    "verifyIfSeqWindowAndStrideMatches(497, 9, 1)   # 38,8,5 -> 7    #163, 37, 21 => 7"
   ]
  },
  {
   "cell_type": "code",
   "execution_count": 12,
   "metadata": {},
   "outputs": [
    {
     "data": {
      "text/plain": [
       "(497, 16)"
      ]
     },
     "execution_count": 12,
     "metadata": {},
     "output_type": "execute_result"
    }
   ],
   "source": [
    "input_train1[0].shape"
   ]
  },
  {
   "cell_type": "markdown",
   "metadata": {},
   "source": [
    "#### implementação funcional paralela"
   ]
  },
  {
   "cell_type": "code",
   "execution_count": 15,
   "metadata": {},
   "outputs": [],
   "source": [
    "uniqueInput = keras.Input(shape=(497, 16)) \n",
    "\n",
    "conv1R0 = keras.layers.Conv1D(10, kernel_size= 1, strides= 1, padding='same', activation='relu', input_shape = (497, 16), use_bias= True)(uniqueInput)\n",
    "pool1R0 = keras.layers.AveragePooling1D(pool_size=11, strides= 3, padding='valid')(conv1R0)\n",
    "conv2R0 = keras.layers.Conv1D(35, kernel_size= 1, strides= 1, padding='valid', activation='relu', input_shape = (163, 10), use_bias= True)(pool1R0)\n",
    "pool2R0 = keras.layers.AveragePooling1D(pool_size=37, strides= 21, padding='valid')(conv2R0)\n",
    "conv3R0 = keras.layers.Conv1D(60, kernel_size= 1, strides= 1, padding='valid', activation='relu', input_shape = (35, 7), use_bias= True)(pool2R0)\n",
    "pool3R0 = keras.layers.GlobalAveragePooling1D()(conv3R0)\n",
    "flat0 =  keras.layers.Flatten()(pool3R0)\n",
    "\n",
    "conv1R1 = keras.layers.Conv1D(10, kernel_size= 3, strides= 1, padding='same', activation='relu', input_shape = (497, 16), use_bias= True)(uniqueInput)\n",
    "pool1R1 = keras.layers.AveragePooling1D(pool_size=11, strides= 3, padding='valid')(conv1R1)\n",
    "conv2R1 = keras.layers.Conv1D(35, kernel_size= 1, strides= 1, padding='valid', activation='relu', input_shape = (163, 10), use_bias= True)(pool1R1)\n",
    "pool2R1 = keras.layers.AveragePooling1D(pool_size=37, strides= 21, padding='valid')(conv2R1)\n",
    "conv3R1 = keras.layers.Conv1D(60, kernel_size= 1, strides= 1, padding='valid', activation='relu', input_shape = (35, 7), use_bias= True)(pool2R1)\n",
    "pool3R1 = keras.layers.GlobalAveragePooling1D()(conv3R1)\n",
    "flat1 =  keras.layers.Flatten()(pool3R1)\n",
    "\n",
    "conv1R2 = keras.layers.Conv1D(10, kernel_size= 6, strides= 1, padding='same', activation='relu', input_shape = (497, 16), use_bias= True)(uniqueInput)\n",
    "pool1R2 = keras.layers.AveragePooling1D(pool_size=11, strides= 3, padding='valid')(conv1R2)\n",
    "conv2R2 = keras.layers.Conv1D(35, kernel_size= 1, strides= 1, padding='valid', activation='relu', input_shape = (162, 10), use_bias= True)(pool1R2)\n",
    "pool2R2 = keras.layers.AveragePooling1D(pool_size=36, strides= 21, padding='valid')(conv2R2)\n",
    "conv3R2 = keras.layers.Conv1D(60, kernel_size= 1, strides= 1, padding='valid', activation='relu', input_shape = (35, 7), use_bias= True)(pool2R2)\n",
    "pool3R2 = keras.layers.GlobalAveragePooling1D()(conv3R2)\n",
    "flat2 =  keras.layers.Flatten()(pool3R2)\n",
    "\n",
    "concatenated_filters = keras.layers.concatenate([flat0, flat1, flat2])\n",
    "\n",
    "\n",
    "dense1 = keras.layers.Dense(32, activation=keras.layers.LeakyReLU(alpha=0.3))(concatenated_filters)  #keras.layers.LeakyReLU(alpha=0.3)\n",
    "dense2 = keras.layers.Dense(20, activation=keras.layers.LeakyReLU(alpha=0.3))(dense1)\n",
    "#dense3 = keras.layers.Dense(10, activation=keras.layers.LeakyReLU(alpha=0.3))(dense2)\n",
    "outpu1 = keras.layers.Dense(1, activation='sigmoid')(dense2)\n",
    "\n",
    "model = keras.Model(inputs= uniqueInput, outputs=outpu1)"
   ]
  },
  {
   "cell_type": "code",
   "execution_count": 16,
   "metadata": {},
   "outputs": [
    {
     "name": "stdout",
     "output_type": "stream",
     "text": [
      "Model: \"model_2\"\n",
      "__________________________________________________________________________________________________\n",
      " Layer (type)                   Output Shape         Param #     Connected to                     \n",
      "==================================================================================================\n",
      " input_3 (InputLayer)           [(None, 497, 16)]    0           []                               \n",
      "                                                                                                  \n",
      " conv1d_18 (Conv1D)             (None, 497, 10)      170         ['input_3[0][0]']                \n",
      "                                                                                                  \n",
      " conv1d_21 (Conv1D)             (None, 497, 10)      490         ['input_3[0][0]']                \n",
      "                                                                                                  \n",
      " conv1d_24 (Conv1D)             (None, 497, 10)      970         ['input_3[0][0]']                \n",
      "                                                                                                  \n",
      " average_pooling1d_12 (AverageP  (None, 163, 10)     0           ['conv1d_18[0][0]']              \n",
      " ooling1D)                                                                                        \n",
      "                                                                                                  \n",
      " average_pooling1d_14 (AverageP  (None, 163, 10)     0           ['conv1d_21[0][0]']              \n",
      " ooling1D)                                                                                        \n",
      "                                                                                                  \n",
      " average_pooling1d_16 (AverageP  (None, 163, 10)     0           ['conv1d_24[0][0]']              \n",
      " ooling1D)                                                                                        \n",
      "                                                                                                  \n",
      " conv1d_19 (Conv1D)             (None, 163, 35)      385         ['average_pooling1d_12[0][0]']   \n",
      "                                                                                                  \n",
      " conv1d_22 (Conv1D)             (None, 163, 35)      385         ['average_pooling1d_14[0][0]']   \n",
      "                                                                                                  \n",
      " conv1d_25 (Conv1D)             (None, 163, 35)      385         ['average_pooling1d_16[0][0]']   \n",
      "                                                                                                  \n",
      " average_pooling1d_13 (AverageP  (None, 7, 35)       0           ['conv1d_19[0][0]']              \n",
      " ooling1D)                                                                                        \n",
      "                                                                                                  \n",
      " average_pooling1d_15 (AverageP  (None, 7, 35)       0           ['conv1d_22[0][0]']              \n",
      " ooling1D)                                                                                        \n",
      "                                                                                                  \n",
      " average_pooling1d_17 (AverageP  (None, 7, 35)       0           ['conv1d_25[0][0]']              \n",
      " ooling1D)                                                                                        \n",
      "                                                                                                  \n",
      " conv1d_20 (Conv1D)             (None, 7, 60)        2160        ['average_pooling1d_13[0][0]']   \n",
      "                                                                                                  \n",
      " conv1d_23 (Conv1D)             (None, 7, 60)        2160        ['average_pooling1d_15[0][0]']   \n",
      "                                                                                                  \n",
      " conv1d_26 (Conv1D)             (None, 7, 60)        2160        ['average_pooling1d_17[0][0]']   \n",
      "                                                                                                  \n",
      " global_average_pooling1d_6 (Gl  (None, 60)          0           ['conv1d_20[0][0]']              \n",
      " obalAveragePooling1D)                                                                            \n",
      "                                                                                                  \n",
      " global_average_pooling1d_7 (Gl  (None, 60)          0           ['conv1d_23[0][0]']              \n",
      " obalAveragePooling1D)                                                                            \n",
      "                                                                                                  \n",
      " global_average_pooling1d_8 (Gl  (None, 60)          0           ['conv1d_26[0][0]']              \n",
      " obalAveragePooling1D)                                                                            \n",
      "                                                                                                  \n",
      " flatten_6 (Flatten)            (None, 60)           0           ['global_average_pooling1d_6[0][0\n",
      "                                                                 ]']                              \n",
      "                                                                                                  \n",
      " flatten_7 (Flatten)            (None, 60)           0           ['global_average_pooling1d_7[0][0\n",
      "                                                                 ]']                              \n",
      "                                                                                                  \n",
      " flatten_8 (Flatten)            (None, 60)           0           ['global_average_pooling1d_8[0][0\n",
      "                                                                 ]']                              \n",
      "                                                                                                  \n",
      " concatenate_2 (Concatenate)    (None, 180)          0           ['flatten_6[0][0]',              \n",
      "                                                                  'flatten_7[0][0]',              \n",
      "                                                                  'flatten_8[0][0]']              \n",
      "                                                                                                  \n",
      " dense_6 (Dense)                (None, 32)           5792        ['concatenate_2[0][0]']          \n",
      "                                                                                                  \n",
      " dense_7 (Dense)                (None, 20)           660         ['dense_6[0][0]']                \n",
      "                                                                                                  \n",
      " dense_8 (Dense)                (None, 1)            21          ['dense_7[0][0]']                \n",
      "                                                                                                  \n",
      "==================================================================================================\n",
      "Total params: 15,738\n",
      "Trainable params: 15,738\n",
      "Non-trainable params: 0\n",
      "__________________________________________________________________________________________________\n"
     ]
    }
   ],
   "source": [
    "model.summary();\n",
    "keras.utils.plot_model(model);"
   ]
  },
  {
   "cell_type": "markdown",
   "metadata": {},
   "source": [
    "#### implemetação paralela"
   ]
  },
  {
   "cell_type": "code",
   "execution_count": 300,
   "metadata": {},
   "outputs": [],
   "source": [
    "model.compile(loss=keras.losses.BinaryCrossentropy(reduction='sum_over_batch_size'), metrics=['accuracy']\n",
    "            , optimizer= keras.optimizers.Adam(learning_rate=0.001))   #sum_over_batch_size"
   ]
  },
  {
   "cell_type": "code",
   "execution_count": 301,
   "metadata": {},
   "outputs": [
    {
     "name": "stdout",
     "output_type": "stream",
     "text": [
      "Epoch 1/200\n",
      "211/211 [==============================] - 43s 187ms/step - loss: 0.6215 - accuracy: 0.6395 - val_loss: 0.5128 - val_accuracy: 0.7632\n",
      "Epoch 2/200\n",
      "211/211 [==============================] - 42s 200ms/step - loss: 0.4862 - accuracy: 0.7711 - val_loss: 0.4755 - val_accuracy: 0.7808\n",
      "Epoch 3/200\n",
      "211/211 [==============================] - 74s 351ms/step - loss: 0.4770 - accuracy: 0.7768 - val_loss: 0.4837 - val_accuracy: 0.7757\n",
      "Epoch 4/200\n",
      "211/211 [==============================] - 63s 300ms/step - loss: 0.4484 - accuracy: 0.7931 - val_loss: 0.4548 - val_accuracy: 0.7888\n",
      "Epoch 5/200\n",
      "211/211 [==============================] - 38s 180ms/step - loss: 0.4351 - accuracy: 0.8056 - val_loss: 0.4433 - val_accuracy: 0.7997\n",
      "Epoch 6/200\n",
      "211/211 [==============================] - 42s 199ms/step - loss: 0.4218 - accuracy: 0.8118 - val_loss: 0.4100 - val_accuracy: 0.8220\n",
      "Epoch 7/200\n",
      "211/211 [==============================] - 52s 247ms/step - loss: 0.4171 - accuracy: 0.8118 - val_loss: 0.4734 - val_accuracy: 0.7832\n",
      "Epoch 8/200\n",
      "211/211 [==============================] - 67s 319ms/step - loss: 0.4153 - accuracy: 0.8161 - val_loss: 0.4209 - val_accuracy: 0.8171\n",
      "Epoch 9/200\n",
      "211/211 [==============================] - 55s 258ms/step - loss: 0.4011 - accuracy: 0.8292 - val_loss: 0.4146 - val_accuracy: 0.8213\n",
      "Epoch 10/200\n",
      "211/211 [==============================] - 47s 225ms/step - loss: 0.3937 - accuracy: 0.8310 - val_loss: 0.3939 - val_accuracy: 0.8352\n",
      "Epoch 11/200\n",
      "211/211 [==============================] - 58s 278ms/step - loss: 0.3896 - accuracy: 0.8314 - val_loss: 0.4142 - val_accuracy: 0.8189\n",
      "Epoch 12/200\n",
      "211/211 [==============================] - 45s 215ms/step - loss: 0.3908 - accuracy: 0.8308 - val_loss: 0.4164 - val_accuracy: 0.8184\n",
      "Epoch 13/200\n",
      "211/211 [==============================] - 59s 279ms/step - loss: 0.3881 - accuracy: 0.8307 - val_loss: 0.3874 - val_accuracy: 0.8389\n",
      "Epoch 14/200\n",
      "211/211 [==============================] - 55s 255ms/step - loss: 0.3819 - accuracy: 0.8365 - val_loss: 0.3959 - val_accuracy: 0.8289\n",
      "Epoch 15/200\n",
      "211/211 [==============================] - 56s 265ms/step - loss: 0.3893 - accuracy: 0.8296 - val_loss: 0.3905 - val_accuracy: 0.8416\n",
      "Epoch 16/200\n",
      "211/211 [==============================] - 61s 291ms/step - loss: 0.3931 - accuracy: 0.8298 - val_loss: 0.4788 - val_accuracy: 0.7792\n",
      "Epoch 17/200\n",
      "211/211 [==============================] - 43s 205ms/step - loss: 0.3749 - accuracy: 0.8402 - val_loss: 0.4247 - val_accuracy: 0.8093\n",
      "Epoch 18/200\n",
      "211/211 [==============================] - 49s 233ms/step - loss: 0.3830 - accuracy: 0.8380 - val_loss: 0.3783 - val_accuracy: 0.8434\n",
      "Epoch 19/200\n",
      "211/211 [==============================] - 74s 352ms/step - loss: 0.3743 - accuracy: 0.8418 - val_loss: 0.3896 - val_accuracy: 0.8363\n",
      "Epoch 20/200\n",
      "211/211 [==============================] - 39s 186ms/step - loss: 0.3694 - accuracy: 0.8426 - val_loss: 0.3774 - val_accuracy: 0.8456\n",
      "Epoch 21/200\n",
      "211/211 [==============================] - 38s 179ms/step - loss: 0.3715 - accuracy: 0.8412 - val_loss: 0.3758 - val_accuracy: 0.8443\n",
      "Epoch 22/200\n",
      "211/211 [==============================] - 51s 243ms/step - loss: 0.3712 - accuracy: 0.8408 - val_loss: 0.4193 - val_accuracy: 0.8153\n",
      "Epoch 23/200\n",
      "211/211 [==============================] - 45s 212ms/step - loss: 0.3694 - accuracy: 0.8430 - val_loss: 0.3810 - val_accuracy: 0.8367\n",
      "Epoch 24/200\n",
      "211/211 [==============================] - 45s 211ms/step - loss: 0.3667 - accuracy: 0.8449 - val_loss: 0.3823 - val_accuracy: 0.8338\n",
      "Epoch 25/200\n",
      "211/211 [==============================] - 46s 217ms/step - loss: 0.3627 - accuracy: 0.8449 - val_loss: 0.3975 - val_accuracy: 0.8294\n",
      "Epoch 26/200\n",
      "211/211 [==============================] - 42s 199ms/step - loss: 0.3657 - accuracy: 0.8415 - val_loss: 0.3853 - val_accuracy: 0.8327\n",
      "Epoch 27/200\n",
      "211/211 [==============================] - 52s 249ms/step - loss: 0.3652 - accuracy: 0.8409 - val_loss: 0.4475 - val_accuracy: 0.8006\n",
      "Epoch 28/200\n",
      "211/211 [==============================] - 39s 183ms/step - loss: 0.3672 - accuracy: 0.8377 - val_loss: 0.3805 - val_accuracy: 0.8405\n",
      "Epoch 29/200\n",
      "211/211 [==============================] - 38s 179ms/step - loss: 0.3536 - accuracy: 0.8507 - val_loss: 0.3661 - val_accuracy: 0.8463\n",
      "Epoch 30/200\n",
      "211/211 [==============================] - 46s 220ms/step - loss: 0.3540 - accuracy: 0.8490 - val_loss: 0.3674 - val_accuracy: 0.8458\n",
      "Epoch 31/200\n",
      "211/211 [==============================] - 49s 233ms/step - loss: 0.3601 - accuracy: 0.8464 - val_loss: 0.3583 - val_accuracy: 0.8519\n",
      "Epoch 32/200\n",
      "211/211 [==============================] - 47s 223ms/step - loss: 0.3512 - accuracy: 0.8503 - val_loss: 0.3668 - val_accuracy: 0.8458\n",
      "Epoch 33/200\n",
      "211/211 [==============================] - 43s 202ms/step - loss: 0.3520 - accuracy: 0.8490 - val_loss: 0.3528 - val_accuracy: 0.8563\n",
      "Epoch 34/200\n",
      "211/211 [==============================] - 46s 219ms/step - loss: 0.3484 - accuracy: 0.8492 - val_loss: 0.3640 - val_accuracy: 0.8470\n",
      "Epoch 35/200\n",
      "211/211 [==============================] - 43s 202ms/step - loss: 0.3525 - accuracy: 0.8455 - val_loss: 0.3564 - val_accuracy: 0.8496\n",
      "Epoch 36/200\n",
      "211/211 [==============================] - 46s 216ms/step - loss: 0.3462 - accuracy: 0.8519 - val_loss: 0.4186 - val_accuracy: 0.8196\n",
      "Epoch 37/200\n",
      "211/211 [==============================] - 54s 258ms/step - loss: 0.3568 - accuracy: 0.8451 - val_loss: 0.3983 - val_accuracy: 0.8227\n",
      "Epoch 38/200\n",
      "211/211 [==============================] - 53s 251ms/step - loss: 0.3418 - accuracy: 0.8522 - val_loss: 0.3568 - val_accuracy: 0.8476\n",
      "Epoch 39/200\n",
      "211/211 [==============================] - 52s 244ms/step - loss: 0.3390 - accuracy: 0.8573 - val_loss: 0.3476 - val_accuracy: 0.8505\n",
      "Epoch 40/200\n",
      "211/211 [==============================] - 45s 215ms/step - loss: 0.3432 - accuracy: 0.8561 - val_loss: 0.3451 - val_accuracy: 0.8581\n",
      "Epoch 41/200\n",
      "211/211 [==============================] - 39s 186ms/step - loss: 0.3364 - accuracy: 0.8573 - val_loss: 0.3482 - val_accuracy: 0.8523\n",
      "Epoch 42/200\n",
      "211/211 [==============================] - 54s 258ms/step - loss: 0.3394 - accuracy: 0.8555 - val_loss: 0.3485 - val_accuracy: 0.8519\n",
      "Epoch 43/200\n",
      "211/211 [==============================] - 59s 278ms/step - loss: 0.3416 - accuracy: 0.8580 - val_loss: 0.3693 - val_accuracy: 0.8401\n",
      "Epoch 44/200\n",
      "211/211 [==============================] - 71s 337ms/step - loss: 0.3329 - accuracy: 0.8625 - val_loss: 0.3360 - val_accuracy: 0.8561\n",
      "Epoch 45/200\n",
      "211/211 [==============================] - 64s 301ms/step - loss: 0.3381 - accuracy: 0.8553 - val_loss: 0.3414 - val_accuracy: 0.8574\n",
      "Epoch 46/200\n",
      "211/211 [==============================] - 53s 249ms/step - loss: 0.3326 - accuracy: 0.8583 - val_loss: 0.3382 - val_accuracy: 0.8548\n",
      "Epoch 47/200\n",
      "211/211 [==============================] - 55s 259ms/step - loss: 0.3327 - accuracy: 0.8583 - val_loss: 0.3365 - val_accuracy: 0.8539\n",
      "Epoch 48/200\n",
      "211/211 [==============================] - 48s 228ms/step - loss: 0.3295 - accuracy: 0.8565 - val_loss: 0.3878 - val_accuracy: 0.8316\n",
      "Epoch 49/200\n",
      "211/211 [==============================] - 55s 259ms/step - loss: 0.3338 - accuracy: 0.8589 - val_loss: 0.4386 - val_accuracy: 0.8131\n",
      "Epoch 50/200\n",
      "211/211 [==============================] - 53s 253ms/step - loss: 0.3263 - accuracy: 0.8643 - val_loss: 0.3398 - val_accuracy: 0.8563\n",
      "Epoch 51/200\n",
      "211/211 [==============================] - 38s 178ms/step - loss: 0.3212 - accuracy: 0.8656 - val_loss: 0.3373 - val_accuracy: 0.8532\n",
      "Epoch 52/200\n",
      "211/211 [==============================] - 36s 173ms/step - loss: 0.3274 - accuracy: 0.8605 - val_loss: 0.3807 - val_accuracy: 0.8347\n",
      "Epoch 53/200\n",
      "211/211 [==============================] - 50s 239ms/step - loss: 0.3257 - accuracy: 0.8653 - val_loss: 0.3208 - val_accuracy: 0.8592\n",
      "Epoch 54/200\n",
      "211/211 [==============================] - 48s 227ms/step - loss: 0.3185 - accuracy: 0.8645 - val_loss: 0.3527 - val_accuracy: 0.8474\n",
      "Epoch 55/200\n",
      "211/211 [==============================] - 45s 215ms/step - loss: 0.3217 - accuracy: 0.8656 - val_loss: 0.3383 - val_accuracy: 0.8545\n",
      "Epoch 56/200\n",
      "211/211 [==============================] - 72s 344ms/step - loss: 0.3138 - accuracy: 0.8669 - val_loss: 0.3369 - val_accuracy: 0.8507\n",
      "Epoch 57/200\n",
      "211/211 [==============================] - 50s 235ms/step - loss: 0.3191 - accuracy: 0.8620 - val_loss: 0.3139 - val_accuracy: 0.8628\n",
      "Epoch 58/200\n",
      "211/211 [==============================] - 41s 195ms/step - loss: 0.3197 - accuracy: 0.8638 - val_loss: 0.3562 - val_accuracy: 0.8481\n",
      "Epoch 59/200\n",
      "211/211 [==============================] - 40s 188ms/step - loss: 0.3175 - accuracy: 0.8672 - val_loss: 0.3390 - val_accuracy: 0.8545\n",
      "Epoch 60/200\n",
      "211/211 [==============================] - 42s 198ms/step - loss: 0.3096 - accuracy: 0.8686 - val_loss: 0.3149 - val_accuracy: 0.8672\n",
      "Epoch 61/200\n",
      "211/211 [==============================] - 42s 200ms/step - loss: 0.3156 - accuracy: 0.8675 - val_loss: 0.3909 - val_accuracy: 0.8407\n",
      "Epoch 62/200\n",
      "211/211 [==============================] - 37s 178ms/step - loss: 0.3138 - accuracy: 0.8645 - val_loss: 0.3383 - val_accuracy: 0.8487\n",
      "Epoch 63/200\n",
      "211/211 [==============================] - 43s 202ms/step - loss: 0.3096 - accuracy: 0.8720 - val_loss: 0.3098 - val_accuracy: 0.8670\n",
      "Epoch 64/200\n",
      "211/211 [==============================] - 43s 204ms/step - loss: 0.3104 - accuracy: 0.8672 - val_loss: 0.3181 - val_accuracy: 0.8628\n",
      "Epoch 65/200\n",
      "211/211 [==============================] - 59s 276ms/step - loss: 0.3005 - accuracy: 0.8744 - val_loss: 0.3142 - val_accuracy: 0.8637\n",
      "Epoch 66/200\n",
      "211/211 [==============================] - 57s 271ms/step - loss: 0.3064 - accuracy: 0.8706 - val_loss: 0.3245 - val_accuracy: 0.8628\n",
      "Epoch 67/200\n",
      "211/211 [==============================] - 58s 276ms/step - loss: 0.3066 - accuracy: 0.8709 - val_loss: 0.3222 - val_accuracy: 0.8623\n",
      "Epoch 68/200\n",
      "211/211 [==============================] - 63s 298ms/step - loss: 0.3095 - accuracy: 0.8678 - val_loss: 0.3514 - val_accuracy: 0.8548\n",
      "Epoch 69/200\n",
      "211/211 [==============================] - 63s 299ms/step - loss: 0.3047 - accuracy: 0.8741 - val_loss: 0.3461 - val_accuracy: 0.8565\n",
      "Epoch 70/200\n",
      "211/211 [==============================] - 38s 178ms/step - loss: 0.3048 - accuracy: 0.8708 - val_loss: 0.3165 - val_accuracy: 0.8643\n",
      "Epoch 71/200\n",
      "211/211 [==============================] - 38s 181ms/step - loss: 0.3056 - accuracy: 0.8745 - val_loss: 0.3335 - val_accuracy: 0.8650\n",
      "Epoch 72/200\n",
      "211/211 [==============================] - 37s 175ms/step - loss: 0.3033 - accuracy: 0.8741 - val_loss: 0.3044 - val_accuracy: 0.8708\n",
      "Epoch 73/200\n",
      "211/211 [==============================] - 37s 177ms/step - loss: 0.2942 - accuracy: 0.8770 - val_loss: 0.3243 - val_accuracy: 0.8563\n",
      "Epoch 74/200\n",
      "211/211 [==============================] - 37s 176ms/step - loss: 0.2989 - accuracy: 0.8763 - val_loss: 0.3073 - val_accuracy: 0.8701\n",
      "Epoch 75/200\n",
      "211/211 [==============================] - 37s 174ms/step - loss: 0.2967 - accuracy: 0.8751 - val_loss: 0.3234 - val_accuracy: 0.8556\n",
      "Epoch 76/200\n",
      "211/211 [==============================] - 37s 176ms/step - loss: 0.2961 - accuracy: 0.8770 - val_loss: 0.3228 - val_accuracy: 0.8617\n",
      "Epoch 77/200\n",
      "211/211 [==============================] - 42s 198ms/step - loss: 0.2932 - accuracy: 0.8776 - val_loss: 0.3486 - val_accuracy: 0.8499\n",
      "Epoch 78/200\n",
      "211/211 [==============================] - 36s 170ms/step - loss: 0.3013 - accuracy: 0.8738 - val_loss: 0.3542 - val_accuracy: 0.8501\n",
      "Epoch 79/200\n",
      "211/211 [==============================] - 38s 178ms/step - loss: 0.2964 - accuracy: 0.8754 - val_loss: 0.2991 - val_accuracy: 0.8719\n",
      "Epoch 80/200\n",
      "211/211 [==============================] - 38s 182ms/step - loss: 0.2907 - accuracy: 0.8790 - val_loss: 0.3179 - val_accuracy: 0.8650\n",
      "Epoch 81/200\n",
      "211/211 [==============================] - 37s 174ms/step - loss: 0.2931 - accuracy: 0.8754 - val_loss: 0.3525 - val_accuracy: 0.8503\n",
      "Epoch 82/200\n",
      "211/211 [==============================] - 36s 173ms/step - loss: 0.2942 - accuracy: 0.8745 - val_loss: 0.3142 - val_accuracy: 0.8688\n",
      "Epoch 83/200\n",
      "211/211 [==============================] - 43s 204ms/step - loss: 0.2978 - accuracy: 0.8746 - val_loss: 0.2985 - val_accuracy: 0.8735\n",
      "Epoch 84/200\n",
      "211/211 [==============================] - 44s 206ms/step - loss: 0.2900 - accuracy: 0.8790 - val_loss: 0.3634 - val_accuracy: 0.8456\n",
      "Epoch 85/200\n",
      "211/211 [==============================] - 41s 196ms/step - loss: 0.2902 - accuracy: 0.8782 - val_loss: 0.2999 - val_accuracy: 0.8730\n",
      "Epoch 86/200\n",
      "211/211 [==============================] - 38s 179ms/step - loss: 0.2903 - accuracy: 0.8788 - val_loss: 0.3178 - val_accuracy: 0.8626\n",
      "Epoch 87/200\n",
      "211/211 [==============================] - 38s 181ms/step - loss: 0.2837 - accuracy: 0.8828 - val_loss: 0.3130 - val_accuracy: 0.8657\n",
      "Epoch 88/200\n",
      "211/211 [==============================] - 39s 183ms/step - loss: 0.2871 - accuracy: 0.8764 - val_loss: 0.3096 - val_accuracy: 0.8632\n",
      "Epoch 89/200\n",
      "211/211 [==============================] - 39s 186ms/step - loss: 0.2862 - accuracy: 0.8828 - val_loss: 0.3100 - val_accuracy: 0.8712\n",
      "Epoch 90/200\n",
      "211/211 [==============================] - 56s 266ms/step - loss: 0.2770 - accuracy: 0.8842 - val_loss: 0.3607 - val_accuracy: 0.8514\n",
      "Epoch 91/200\n",
      "211/211 [==============================] - 41s 192ms/step - loss: 0.2886 - accuracy: 0.8830 - val_loss: 0.3586 - val_accuracy: 0.8452\n",
      "Epoch 92/200\n",
      "211/211 [==============================] - 38s 180ms/step - loss: 0.2849 - accuracy: 0.8806 - val_loss: 0.3163 - val_accuracy: 0.8646\n",
      "Epoch 93/200\n",
      "211/211 [==============================] - 42s 200ms/step - loss: 0.2784 - accuracy: 0.8847 - val_loss: 0.3459 - val_accuracy: 0.8485\n",
      "Epoch 94/200\n",
      "211/211 [==============================] - 39s 184ms/step - loss: 0.2872 - accuracy: 0.8782 - val_loss: 0.3559 - val_accuracy: 0.8443\n",
      "Epoch 95/200\n",
      "211/211 [==============================] - 39s 184ms/step - loss: 0.2834 - accuracy: 0.8828 - val_loss: 0.3082 - val_accuracy: 0.8706\n",
      "Epoch 96/200\n",
      "211/211 [==============================] - 38s 181ms/step - loss: 0.2764 - accuracy: 0.8882 - val_loss: 0.3059 - val_accuracy: 0.8699\n",
      "Epoch 97/200\n",
      "211/211 [==============================] - 38s 180ms/step - loss: 0.2825 - accuracy: 0.8837 - val_loss: 0.3125 - val_accuracy: 0.8708\n",
      "Epoch 98/200\n",
      "211/211 [==============================] - 50s 239ms/step - loss: 0.2882 - accuracy: 0.8803 - val_loss: 0.3424 - val_accuracy: 0.8476\n",
      "Epoch 99/200\n",
      "211/211 [==============================] - 37s 177ms/step - loss: 0.2857 - accuracy: 0.8810 - val_loss: 0.3314 - val_accuracy: 0.8601\n",
      "Epoch 100/200\n",
      "211/211 [==============================] - 38s 178ms/step - loss: 0.2793 - accuracy: 0.8840 - val_loss: 0.3155 - val_accuracy: 0.8648\n",
      "Epoch 101/200\n",
      "211/211 [==============================] - 43s 203ms/step - loss: 0.2793 - accuracy: 0.8801 - val_loss: 0.3358 - val_accuracy: 0.8556\n",
      "Epoch 102/200\n",
      "211/211 [==============================] - 38s 177ms/step - loss: 0.2771 - accuracy: 0.8871 - val_loss: 0.3419 - val_accuracy: 0.8621\n",
      "Epoch 103/200\n",
      "211/211 [==============================] - 37s 174ms/step - loss: 0.2703 - accuracy: 0.8880 - val_loss: 0.3122 - val_accuracy: 0.8663\n",
      "Epoch 104/200\n",
      "211/211 [==============================] - 37s 174ms/step - loss: 0.2782 - accuracy: 0.8821 - val_loss: 0.3368 - val_accuracy: 0.8630\n",
      "Epoch 105/200\n",
      "211/211 [==============================] - 37s 177ms/step - loss: 0.2728 - accuracy: 0.8868 - val_loss: 0.2975 - val_accuracy: 0.8755\n",
      "Epoch 106/200\n",
      "211/211 [==============================] - 39s 184ms/step - loss: 0.2673 - accuracy: 0.8885 - val_loss: 0.3083 - val_accuracy: 0.8679\n",
      "Epoch 107/200\n",
      "211/211 [==============================] - 38s 179ms/step - loss: 0.2781 - accuracy: 0.8858 - val_loss: 0.3138 - val_accuracy: 0.8670\n",
      "Epoch 108/200\n",
      "211/211 [==============================] - 37s 175ms/step - loss: 0.2648 - accuracy: 0.8907 - val_loss: 0.3201 - val_accuracy: 0.8623\n",
      "Epoch 109/200\n",
      "211/211 [==============================] - 42s 199ms/step - loss: 0.2741 - accuracy: 0.8833 - val_loss: 0.3065 - val_accuracy: 0.8701\n",
      "Epoch 110/200\n",
      "211/211 [==============================] - 37s 176ms/step - loss: 0.2754 - accuracy: 0.8849 - val_loss: 0.3203 - val_accuracy: 0.8683\n",
      "Epoch 111/200\n",
      "211/211 [==============================] - 37s 175ms/step - loss: 0.2679 - accuracy: 0.8885 - val_loss: 0.3040 - val_accuracy: 0.8728\n",
      "Epoch 112/200\n",
      "211/211 [==============================] - 37s 176ms/step - loss: 0.2654 - accuracy: 0.8919 - val_loss: 0.3209 - val_accuracy: 0.8643\n",
      "Epoch 113/200\n",
      "211/211 [==============================] - 37s 174ms/step - loss: 0.2661 - accuracy: 0.8895 - val_loss: 0.2988 - val_accuracy: 0.8744\n",
      "Epoch 114/200\n",
      "211/211 [==============================] - 50s 237ms/step - loss: 0.2647 - accuracy: 0.8904 - val_loss: 0.3298 - val_accuracy: 0.8608\n",
      "Epoch 115/200\n",
      "211/211 [==============================] - 38s 180ms/step - loss: 0.2651 - accuracy: 0.8874 - val_loss: 0.3363 - val_accuracy: 0.8639\n",
      "Epoch 116/200\n",
      "211/211 [==============================] - 38s 178ms/step - loss: 0.2598 - accuracy: 0.8922 - val_loss: 0.3086 - val_accuracy: 0.8695\n",
      "Epoch 117/200\n",
      "211/211 [==============================] - 41s 196ms/step - loss: 0.2658 - accuracy: 0.8892 - val_loss: 0.3495 - val_accuracy: 0.8536\n",
      "Epoch 118/200\n",
      "211/211 [==============================] - 38s 180ms/step - loss: 0.2629 - accuracy: 0.8905 - val_loss: 0.3310 - val_accuracy: 0.8545\n",
      "Epoch 119/200\n",
      "211/211 [==============================] - 38s 176ms/step - loss: 0.2588 - accuracy: 0.8923 - val_loss: 0.3036 - val_accuracy: 0.8761\n",
      "Epoch 120/200\n",
      "211/211 [==============================] - 39s 182ms/step - loss: 0.2640 - accuracy: 0.8868 - val_loss: 0.3223 - val_accuracy: 0.8654\n",
      "Epoch 121/200\n",
      "211/211 [==============================] - 37s 178ms/step - loss: 0.2668 - accuracy: 0.8865 - val_loss: 0.3213 - val_accuracy: 0.8639\n",
      "Epoch 122/200\n",
      "211/211 [==============================] - 36s 173ms/step - loss: 0.2701 - accuracy: 0.8892 - val_loss: 0.3201 - val_accuracy: 0.8628\n",
      "Epoch 123/200\n",
      "211/211 [==============================] - 38s 178ms/step - loss: 0.2578 - accuracy: 0.8934 - val_loss: 0.3326 - val_accuracy: 0.8630\n",
      "Epoch 124/200\n",
      "211/211 [==============================] - 39s 186ms/step - loss: 0.2498 - accuracy: 0.8996 - val_loss: 0.3230 - val_accuracy: 0.8639\n",
      "Epoch 125/200\n",
      "211/211 [==============================] - 38s 178ms/step - loss: 0.2551 - accuracy: 0.8950 - val_loss: 0.3104 - val_accuracy: 0.8739\n",
      "Epoch 126/200\n",
      "211/211 [==============================] - 42s 201ms/step - loss: 0.2545 - accuracy: 0.8954 - val_loss: 0.3052 - val_accuracy: 0.8748\n",
      "Epoch 127/200\n",
      "211/211 [==============================] - 37s 177ms/step - loss: 0.2533 - accuracy: 0.8956 - val_loss: 0.3190 - val_accuracy: 0.8688\n",
      "Epoch 128/200\n",
      "211/211 [==============================] - 37s 174ms/step - loss: 0.2597 - accuracy: 0.8922 - val_loss: 0.3305 - val_accuracy: 0.8612\n",
      "Epoch 129/200\n",
      "211/211 [==============================] - 49s 232ms/step - loss: 0.2551 - accuracy: 0.8948 - val_loss: 0.3036 - val_accuracy: 0.8753\n",
      "Epoch 130/200\n",
      "211/211 [==============================] - 38s 180ms/step - loss: 0.2474 - accuracy: 0.8981 - val_loss: 0.3125 - val_accuracy: 0.8741\n",
      "Epoch 131/200\n",
      "211/211 [==============================] - 37s 174ms/step - loss: 0.2498 - accuracy: 0.8972 - val_loss: 0.3099 - val_accuracy: 0.8737\n",
      "Epoch 132/200\n",
      "211/211 [==============================] - 37s 177ms/step - loss: 0.2485 - accuracy: 0.8947 - val_loss: 0.3034 - val_accuracy: 0.8732\n",
      "Epoch 133/200\n",
      "211/211 [==============================] - 38s 178ms/step - loss: 0.2527 - accuracy: 0.8953 - val_loss: 0.3112 - val_accuracy: 0.8728\n",
      "Epoch 134/200\n",
      "211/211 [==============================] - 43s 203ms/step - loss: 0.2443 - accuracy: 0.8980 - val_loss: 0.3978 - val_accuracy: 0.8369\n",
      "Epoch 135/200\n",
      "211/211 [==============================] - 38s 180ms/step - loss: 0.2446 - accuracy: 0.9018 - val_loss: 0.3120 - val_accuracy: 0.8710\n",
      "Epoch 136/200\n",
      "211/211 [==============================] - 38s 180ms/step - loss: 0.2478 - accuracy: 0.8969 - val_loss: 0.3434 - val_accuracy: 0.8614\n",
      "Epoch 137/200\n",
      "211/211 [==============================] - 38s 178ms/step - loss: 0.2460 - accuracy: 0.9018 - val_loss: 0.3675 - val_accuracy: 0.8514\n",
      "Epoch 138/200\n",
      "211/211 [==============================] - 38s 181ms/step - loss: 0.2530 - accuracy: 0.8945 - val_loss: 0.2970 - val_accuracy: 0.8744\n",
      "Epoch 139/200\n",
      "211/211 [==============================] - 38s 180ms/step - loss: 0.2423 - accuracy: 0.9003 - val_loss: 0.3098 - val_accuracy: 0.8721\n",
      "Epoch 140/200\n",
      "211/211 [==============================] - 38s 179ms/step - loss: 0.2444 - accuracy: 0.9006 - val_loss: 0.3424 - val_accuracy: 0.8570\n",
      "Epoch 141/200\n",
      "211/211 [==============================] - 37s 177ms/step - loss: 0.2338 - accuracy: 0.9021 - val_loss: 0.3173 - val_accuracy: 0.8681\n",
      "Epoch 142/200\n",
      "211/211 [==============================] - 42s 197ms/step - loss: 0.2384 - accuracy: 0.9011 - val_loss: 0.3145 - val_accuracy: 0.8699\n",
      "Epoch 143/200\n",
      "211/211 [==============================] - 38s 182ms/step - loss: 0.2365 - accuracy: 0.9027 - val_loss: 0.3182 - val_accuracy: 0.8695\n",
      "Epoch 144/200\n",
      "211/211 [==============================] - 46s 217ms/step - loss: 0.2352 - accuracy: 0.9015 - val_loss: 0.3121 - val_accuracy: 0.8746\n",
      "Epoch 145/200\n",
      "211/211 [==============================] - 42s 200ms/step - loss: 0.2390 - accuracy: 0.9029 - val_loss: 0.3306 - val_accuracy: 0.8699\n",
      "Epoch 146/200\n",
      "211/211 [==============================] - 38s 178ms/step - loss: 0.2359 - accuracy: 0.9041 - val_loss: 0.3324 - val_accuracy: 0.8637\n",
      "Epoch 147/200\n",
      "211/211 [==============================] - 38s 181ms/step - loss: 0.2366 - accuracy: 0.9011 - val_loss: 0.3315 - val_accuracy: 0.8617\n",
      "Epoch 148/200\n",
      "211/211 [==============================] - 38s 178ms/step - loss: 0.2267 - accuracy: 0.9078 - val_loss: 0.4635 - val_accuracy: 0.8318\n",
      "Epoch 149/200\n",
      "211/211 [==============================] - 37s 175ms/step - loss: 0.2448 - accuracy: 0.8984 - val_loss: 0.3135 - val_accuracy: 0.8715\n",
      "Epoch 150/200\n",
      "211/211 [==============================] - 40s 190ms/step - loss: 0.2270 - accuracy: 0.9070 - val_loss: 0.3508 - val_accuracy: 0.8597\n",
      "Epoch 151/200\n",
      "211/211 [==============================] - 39s 186ms/step - loss: 0.2318 - accuracy: 0.9082 - val_loss: 0.3363 - val_accuracy: 0.8646\n",
      "Epoch 152/200\n",
      "211/211 [==============================] - 38s 180ms/step - loss: 0.2308 - accuracy: 0.9072 - val_loss: 0.3595 - val_accuracy: 0.8556\n",
      "Epoch 153/200\n",
      "211/211 [==============================] - 39s 183ms/step - loss: 0.2352 - accuracy: 0.9018 - val_loss: 0.3287 - val_accuracy: 0.8626\n",
      "Epoch 154/200\n",
      "211/211 [==============================] - 57s 269ms/step - loss: 0.2366 - accuracy: 0.9039 - val_loss: 0.3159 - val_accuracy: 0.8717\n",
      "Epoch 155/200\n",
      "211/211 [==============================] - 58s 273ms/step - loss: 0.2331 - accuracy: 0.9069 - val_loss: 0.3542 - val_accuracy: 0.8626\n",
      "Epoch 156/200\n",
      "211/211 [==============================] - 56s 268ms/step - loss: 0.2235 - accuracy: 0.9073 - val_loss: 0.3896 - val_accuracy: 0.8445\n",
      "Epoch 157/200\n",
      "211/211 [==============================] - 63s 296ms/step - loss: 0.2249 - accuracy: 0.9060 - val_loss: 0.3421 - val_accuracy: 0.8650\n",
      "Epoch 158/200\n",
      "211/211 [==============================] - 67s 320ms/step - loss: 0.2233 - accuracy: 0.9088 - val_loss: 0.3197 - val_accuracy: 0.8692\n",
      "Epoch 159/200\n",
      "211/211 [==============================] - 38s 181ms/step - loss: 0.2193 - accuracy: 0.9125 - val_loss: 0.3713 - val_accuracy: 0.8545\n",
      "Epoch 160/200\n",
      "211/211 [==============================] - 39s 184ms/step - loss: 0.2175 - accuracy: 0.9116 - val_loss: 0.3454 - val_accuracy: 0.8663\n",
      "Epoch 161/200\n",
      "211/211 [==============================] - 39s 184ms/step - loss: 0.2211 - accuracy: 0.9101 - val_loss: 0.3335 - val_accuracy: 0.8699\n",
      "Epoch 162/200\n",
      "211/211 [==============================] - 38s 178ms/step - loss: 0.2166 - accuracy: 0.9115 - val_loss: 0.3526 - val_accuracy: 0.8634\n",
      "Epoch 163/200\n",
      "211/211 [==============================] - 38s 178ms/step - loss: 0.2316 - accuracy: 0.9041 - val_loss: 0.3420 - val_accuracy: 0.8634\n",
      "Epoch 164/200\n",
      "211/211 [==============================] - 42s 199ms/step - loss: 0.2271 - accuracy: 0.9048 - val_loss: 0.3388 - val_accuracy: 0.8632\n",
      "Epoch 165/200\n",
      "211/211 [==============================] - 39s 186ms/step - loss: 0.2237 - accuracy: 0.9090 - val_loss: 0.3355 - val_accuracy: 0.8668\n",
      "Epoch 166/200\n",
      "211/211 [==============================] - 38s 180ms/step - loss: 0.2136 - accuracy: 0.9142 - val_loss: 0.3687 - val_accuracy: 0.8610\n",
      "Epoch 167/200\n",
      "211/211 [==============================] - 37s 177ms/step - loss: 0.2198 - accuracy: 0.9106 - val_loss: 0.3497 - val_accuracy: 0.8626\n",
      "Epoch 168/200\n",
      "211/211 [==============================] - 40s 185ms/step - loss: 0.2328 - accuracy: 0.9024 - val_loss: 0.3986 - val_accuracy: 0.8472\n",
      "Epoch 169/200\n",
      "211/211 [==============================] - 38s 182ms/step - loss: 0.2157 - accuracy: 0.9106 - val_loss: 0.3332 - val_accuracy: 0.8737\n",
      "Epoch 170/200\n",
      "211/211 [==============================] - 38s 180ms/step - loss: 0.2246 - accuracy: 0.9058 - val_loss: 0.3274 - val_accuracy: 0.8661\n",
      "Epoch 171/200\n",
      "211/211 [==============================] - 38s 178ms/step - loss: 0.2242 - accuracy: 0.9054 - val_loss: 0.3370 - val_accuracy: 0.8735\n",
      "Epoch 172/200\n",
      "211/211 [==============================] - 38s 178ms/step - loss: 0.2180 - accuracy: 0.9125 - val_loss: 0.3695 - val_accuracy: 0.8541\n",
      "Epoch 173/200\n",
      "211/211 [==============================] - 58s 276ms/step - loss: 0.2176 - accuracy: 0.9115 - val_loss: 0.3462 - val_accuracy: 0.8690\n",
      "Epoch 174/200\n",
      "211/211 [==============================] - 39s 184ms/step - loss: 0.2123 - accuracy: 0.9149 - val_loss: 0.4080 - val_accuracy: 0.8481\n",
      "Epoch 175/200\n",
      "211/211 [==============================] - 38s 178ms/step - loss: 0.2186 - accuracy: 0.9101 - val_loss: 0.3394 - val_accuracy: 0.8690\n",
      "Epoch 176/200\n",
      "211/211 [==============================] - 38s 179ms/step - loss: 0.2054 - accuracy: 0.9146 - val_loss: 0.3884 - val_accuracy: 0.8556\n",
      "Epoch 177/200\n",
      "211/211 [==============================] - 38s 180ms/step - loss: 0.2075 - accuracy: 0.9107 - val_loss: 0.3505 - val_accuracy: 0.8679\n",
      "Epoch 178/200\n",
      "211/211 [==============================] - 38s 180ms/step - loss: 0.2162 - accuracy: 0.9094 - val_loss: 0.3492 - val_accuracy: 0.8681\n",
      "Epoch 179/200\n",
      "211/211 [==============================] - 38s 182ms/step - loss: 0.2063 - accuracy: 0.9124 - val_loss: 0.3525 - val_accuracy: 0.8661\n",
      "Epoch 180/200\n",
      "211/211 [==============================] - 38s 181ms/step - loss: 0.2114 - accuracy: 0.9143 - val_loss: 0.3683 - val_accuracy: 0.8588\n",
      "Epoch 181/200\n",
      "211/211 [==============================] - 42s 201ms/step - loss: 0.2079 - accuracy: 0.9168 - val_loss: 0.3612 - val_accuracy: 0.8686\n",
      "Epoch 182/200\n",
      "211/211 [==============================] - 38s 181ms/step - loss: 0.1987 - accuracy: 0.9192 - val_loss: 0.3505 - val_accuracy: 0.8663\n",
      "Epoch 183/200\n",
      "211/211 [==============================] - 40s 188ms/step - loss: 0.2069 - accuracy: 0.9155 - val_loss: 0.3519 - val_accuracy: 0.8690\n",
      "Epoch 184/200\n",
      "211/211 [==============================] - 38s 183ms/step - loss: 0.1960 - accuracy: 0.9185 - val_loss: 0.3657 - val_accuracy: 0.8675\n",
      "Epoch 185/200\n",
      "211/211 [==============================] - 37s 177ms/step - loss: 0.2084 - accuracy: 0.9162 - val_loss: 0.3568 - val_accuracy: 0.8657\n",
      "Epoch 186/200\n",
      "211/211 [==============================] - 39s 183ms/step - loss: 0.2025 - accuracy: 0.9164 - val_loss: 0.4106 - val_accuracy: 0.8561\n",
      "Epoch 187/200\n",
      "211/211 [==============================] - 38s 181ms/step - loss: 0.2030 - accuracy: 0.9152 - val_loss: 0.3746 - val_accuracy: 0.8614\n",
      "Epoch 188/200\n",
      "211/211 [==============================] - 49s 234ms/step - loss: 0.2081 - accuracy: 0.9161 - val_loss: 0.3674 - val_accuracy: 0.8643\n",
      "Epoch 189/200\n",
      "211/211 [==============================] - 42s 200ms/step - loss: 0.2064 - accuracy: 0.9130 - val_loss: 0.3506 - val_accuracy: 0.8710\n",
      "Epoch 190/200\n",
      "211/211 [==============================] - 37s 173ms/step - loss: 0.1967 - accuracy: 0.9220 - val_loss: 0.3576 - val_accuracy: 0.8668\n",
      "Epoch 191/200\n",
      "211/211 [==============================] - 38s 180ms/step - loss: 0.1947 - accuracy: 0.9195 - val_loss: 0.3476 - val_accuracy: 0.8657\n",
      "Epoch 192/200\n",
      "211/211 [==============================] - 40s 190ms/step - loss: 0.1986 - accuracy: 0.9162 - val_loss: 0.3937 - val_accuracy: 0.8581\n",
      "Epoch 193/200\n",
      "211/211 [==============================] - 37s 177ms/step - loss: 0.1964 - accuracy: 0.9207 - val_loss: 0.3562 - val_accuracy: 0.8686\n",
      "Epoch 194/200\n",
      "211/211 [==============================] - 37s 176ms/step - loss: 0.2012 - accuracy: 0.9158 - val_loss: 0.3912 - val_accuracy: 0.8552\n",
      "Epoch 195/200\n",
      "211/211 [==============================] - 39s 183ms/step - loss: 0.1968 - accuracy: 0.9176 - val_loss: 0.3587 - val_accuracy: 0.8668\n",
      "Epoch 196/200\n",
      "211/211 [==============================] - 41s 193ms/step - loss: 0.1980 - accuracy: 0.9198 - val_loss: 0.3583 - val_accuracy: 0.8677\n",
      "Epoch 197/200\n",
      "211/211 [==============================] - 50s 236ms/step - loss: 0.1933 - accuracy: 0.9226 - val_loss: 0.4172 - val_accuracy: 0.8556\n",
      "Epoch 198/200\n",
      "211/211 [==============================] - 39s 186ms/step - loss: 0.1862 - accuracy: 0.9214 - val_loss: 0.3912 - val_accuracy: 0.8599\n",
      "Epoch 199/200\n",
      "211/211 [==============================] - 55s 261ms/step - loss: 0.2005 - accuracy: 0.9143 - val_loss: 0.3430 - val_accuracy: 0.8652\n",
      "Epoch 200/200\n",
      "211/211 [==============================] - 42s 200ms/step - loss: 0.1931 - accuracy: 0.9202 - val_loss: 0.3708 - val_accuracy: 0.8650\n"
     ]
    }
   ],
   "source": [
    "\n",
    "callback = tf.keras.callbacks.ModelCheckpoint('best_model.h5', monitor='val_accuracy', mode='max', save_best_only=True)\n",
    "\n",
    "historyf = model.fit(input_train1, output_train1, epochs= 200, batch_size = 32, \n",
    "                     validation_split = 0.4, shuffle= True, callbacks=[callback]) # validation_split = 0.33"
   ]
  },
  {
   "cell_type": "code",
   "execution_count": 24,
   "metadata": {},
   "outputs": [],
   "source": [
    "modelBest = keras.models.load_model('best_model_10050525.h5')\n",
    "\n"
   ]
  },
  {
   "cell_type": "code",
   "execution_count": 23,
   "metadata": {},
   "outputs": [
    {
     "name": "stdout",
     "output_type": "stream",
     "text": [
      "117/117 [==============================] - 1s 7ms/step - loss: 0.3812 - accuracy: 0.8460\n"
     ]
    },
    {
     "data": {
      "text/plain": [
       "[0.3812302052974701, 0.8460304737091064]"
      ]
     },
     "execution_count": 23,
     "metadata": {},
     "output_type": "execute_result"
    }
   ],
   "source": [
    "#model.evaluate([input_testR0, input_testR1], output_testConj, batch_size= 32)\n",
    "#modelBest.evaluate([input_testR0, input_testR1], output_testConj, batch_size= 32)"
   ]
  },
  {
   "cell_type": "code",
   "execution_count": 302,
   "metadata": {},
   "outputs": [
    {
     "data": {
      "image/png": "[encoded data removed]",
      "text/plain": [
       "<Figure size 640x480 with 1 Axes>"
      ]
     },
     "metadata": {},
     "output_type": "display_data"
    }
   ],
   "source": [
    "\n",
    "plt.plot(historyf.history['accuracy'])\n",
    "plt.plot(historyf.history['val_accuracy'])\n",
    "plt.title('model accuracy')\n",
    "plt.ylabel('accuracy')\n",
    "plt.xlabel('epoch')\n",
    "plt.legend(['train', 'validation'], loc='upper left')\n",
    "plt.show()"
   ]
  },
  {
   "cell_type": "code",
   "execution_count": 303,
   "metadata": {},
   "outputs": [
    {
     "name": "stdout",
     "output_type": "stream",
     "text": [
      "max val_accuracy :0.8761416673660278; min val_loss : 0.2969740331172943\n"
     ]
    }
   ],
   "source": [
    "print('max val_accuracy :' + str(max(historyf.history['val_accuracy'])) + '; ' + 'min val_loss : ' + str(min(historyf.history['val_loss'])) )"
   ]
  },
  {
   "cell_type": "code",
   "execution_count": 18,
   "metadata": {},
   "outputs": [
    {
     "data": {
      "text/plain": [
       "[0.7476052641868591,\n",
       " 0.7576297521591187,\n",
       " 0.7885943651199341,\n",
       " 0.7794609069824219,\n",
       " 0.7190911173820496,\n",
       " 0.7894853949546814,\n",
       " 0.7972822189331055,\n",
       " 0.7687680721282959,\n",
       " 0.8019603490829468,\n",
       " 0.7714412808418274,\n",
       " 0.8108710050582886,\n",
       " 0.8124303817749023,\n",
       " 0.8182223439216614,\n",
       " 0.8115392923355103,\n",
       " 0.8191133737564087,\n",
       " 0.8200044631958008,\n",
       " 0.8099799752235413,\n",
       " 0.8251280784606934,\n",
       " 0.8157718777656555,\n",
       " 0.7848073244094849,\n",
       " 0.8010692596435547,\n",
       " 0.8298062086105347,\n",
       " 0.8278012871742249,\n",
       " 0.8226776719093323,\n",
       " 0.8351525664329529,\n",
       " 0.8135442137718201,\n",
       " 0.8298062086105347,\n",
       " 0.8269101977348328,\n",
       " 0.8246825337409973,\n",
       " 0.8322566151618958,\n",
       " 0.8295834064483643,\n",
       " 0.8231232166290283,\n",
       " 0.8298062086105347,\n",
       " 0.8302517533302307,\n",
       " 0.8367119431495667,\n",
       " 0.8197816610336304,\n",
       " 0.8175539970397949,\n",
       " 0.8231232166290283,\n",
       " 0.8315883278846741,\n",
       " 0.8102027177810669,\n",
       " 0.824237048625946,\n",
       " 0.8313655853271484,\n",
       " 0.8322566151618958,\n",
       " 0.8304744958877563,\n",
       " 0.8135442137718201,\n",
       " 0.8398306965827942,\n",
       " 0.8088661432266235,\n",
       " 0.8327021598815918,\n",
       " 0.8282468318939209,\n",
       " 0.8324794173240662,\n",
       " 0.8211182951927185,\n",
       " 0.8213410377502441,\n",
       " 0.8329249024391174,\n",
       " 0.8322566151618958,\n",
       " 0.830697238445282,\n",
       " 0.8171085119247437,\n",
       " 0.8122076392173767,\n",
       " 0.8177767992019653,\n",
       " 0.8195589184761047,\n",
       " 0.8286923766136169,\n",
       " 0.8367119431495667,\n",
       " 0.8295834064483643,\n",
       " 0.8269101977348328,\n",
       " 0.8213410377502441,\n",
       " 0.8329249024391174,\n",
       " 0.8322566151618958,\n",
       " 0.8200044631958008,\n",
       " 0.8240142464637756,\n",
       " 0.8244597911834717,\n",
       " 0.8282468318939209,\n",
       " 0.8304744958877563,\n",
       " 0.8269101977348328,\n",
       " 0.818445086479187,\n",
       " 0.8251280784606934,\n",
       " 0.8093116283416748,\n",
       " 0.8251280784606934,\n",
       " 0.8159946799278259,\n",
       " 0.8340387344360352,\n",
       " 0.831142783164978,\n",
       " 0.8322566151618958,\n",
       " 0.836043655872345,\n",
       " 0.8327021598815918,\n",
       " 0.8324794173240662,\n",
       " 0.8275785446166992,\n",
       " 0.8211182951927185,\n",
       " 0.8347070813179016,\n",
       " 0.825796365737915,\n",
       " 0.8197816610336304,\n",
       " 0.8302517533302307,\n",
       " 0.8211182951927185,\n",
       " 0.8148808479309082,\n",
       " 0.8211182951927185,\n",
       " 0.8280240297317505,\n",
       " 0.8173312544822693,\n",
       " 0.8302517533302307,\n",
       " 0.8266874551773071,\n",
       " 0.8302517533302307,\n",
       " 0.8295834064483643,\n",
       " 0.8162174224853516,\n",
       " 0.8269101977348328]"
      ]
     },
     "execution_count": 18,
     "metadata": {},
     "output_type": "execute_result"
    }
   ],
   "source": [
    "historyf.history['val_accuracy']"
   ]
  },
  {
   "cell_type": "code",
   "execution_count": 52,
   "metadata": {},
   "outputs": [
    {
     "name": "stdout",
     "output_type": "stream",
     "text": [
      "117/117 [==============================] - 3s 6ms/step\n"
     ]
    },
    {
     "data": {
      "text/plain": [
       "array([[0.20535856],\n",
       "       [0.9682729 ],\n",
       "       [0.58951306],\n",
       "       ...,\n",
       "       [0.20562437],\n",
       "       [0.87147534],\n",
       "       [0.96062887]], dtype=float32)"
      ]
     },
     "execution_count": 52,
     "metadata": {},
     "output_type": "execute_result"
    }
   ],
   "source": [
    "predictOnTest = model.predict([input_testR0, input_testR1])\n",
    "predictOnTest"
   ]
  },
  {
   "cell_type": "code",
   "execution_count": 262,
   "metadata": {},
   "outputs": [
    {
     "data": {
      "text/plain": [
       "array([0, 1, 0, 1, 1, 0, 0, 1, 1, 0, 0, 1, 1, 0, 0, 1, 1, 0, 0, 0, 0, 1,\n",
       "       1, 0, 1, 1, 0])"
      ]
     },
     "execution_count": 262,
     "metadata": {},
     "output_type": "execute_result"
    }
   ],
   "source": [
    "output_test1"
   ]
  },
  {
   "cell_type": "code",
   "execution_count": 263,
   "metadata": {},
   "outputs": [
    {
     "data": {
      "text/plain": [
       "array([0, 1, 0, 1, 1, 0, 0, 1, 1, 0, 0, 1, 1, 0, 0, 0, 1, 0, 0, 0, 0, 1,\n",
       "       1, 0, 1, 1, 0])"
      ]
     },
     "execution_count": 263,
     "metadata": {},
     "output_type": "execute_result"
    }
   ],
   "source": [
    "classifiedArrayPredict = myClassify(predictOnTest, 0.5)\n",
    "np.array(classifiedArrayPredict)"
   ]
  },
  {
   "cell_type": "code",
   "execution_count": 264,
   "metadata": {},
   "outputs": [
    {
     "data": {
      "text/plain": [
       "['OK : agagggtgtactccaagaagaggaagatgaggctagacgtctctgcatggagtatga',\n",
       " 'OK : gcaaaaataaatgcttgactctgtagcgggaaggcgtattatgcacaccccgcgccg',\n",
       " 'OK : ttcgtctccgcgactacgatgagatgcctgagtgcttccgttactggattgtcacca',\n",
       " 'OK : gtactagagaactagtgcattagcttatttttttgttatcatgctaaccacccggcg',\n",
       " 'OK : aaattaaaattttattgacttaggtcactaaatactttaaccaatataggcatagcg',\n",
       " 'OK : tatgaccgaacgagtcaatcagaccgctttgactctggtattactgtgaacattatt',\n",
       " 'OK : taacattaataaataaggaggctctaatggcactcattagccaatcaatcaagaact',\n",
       " 'OK : tttctacaaaacacttgatactgtatgagcatacagtataattgcttcaacagaaca',\n",
       " 'OK : atgcatttttccgcttgtcttcctgagccgactccctataatgcgcctccatcgaca',\n",
       " 'OK : tattggcttgctcaagcatgaactcaaggctgatacggcgagacttgcgagccttgt',\n",
       " 'OK : aacgagtcaatcagaccgctttgactctggtattactgtgaacattattcgtctccg',\n",
       " 'OK : tctgaaatgagctgttgacaattaatcatcgaactagttaactagtacgcaagttca',\n",
       " 'OK : cactaatttattccatgtcacacttttcgcatctttgttatgctatggttatttcat',\n",
       " 'OK : gaggtggctatgtgtatgaccgaacgagtcaatcagaccgctttgactctggtatta',\n",
       " 'OK : catgtcagcctcgacaacttgcataaatgctttcttgtagacgtgccctacgcgctt',\n",
       " 'NOK : tcagaaatattatggtgatgaactgtttttttatccagtataatttgttggcataat',\n",
       " 'OK : ctgcaatttttctattgcggcctgcggagaactccctataatgcgcctccatcgaca',\n",
       " 'OK : tgctgaaaggaggaactatatgcgctcatacgatatgaacgttgagactgccgctga',\n",
       " 'OK : tctcgtggatggacgttcaacattgaggaaggcataacgctactacctgatgtttac',\n",
       " 'OK : cgaacgagtcaatcagaccgctttgactctggtattactgtgaacattattcgtctc',\n",
       " 'OK : cctcaatggcctctaaacgggtcttgaggggttttttgctgaaaggaggaactatat',\n",
       " 'OK : cgacttaatatactgcgacaggacgtccgttctgtgtaaatcgcaatgaaatggttt',\n",
       " 'OK : catcctcgcaccagtcgacgacggtttacgctttacgtatagtggcgacaatttttt',\n",
       " 'OK : aaccattccggttgactcaatgagcatctcgatgcagcgtactcctacatgaataga',\n",
       " 'OK : taaaaaactaacagttgtcagcctgtcccgcttataagatcatacgccgttatacgt',\n",
       " 'OK : aattgtgatgtgtatcgaagtgtgttgcggagtagatgttagaatactaacaaactc',\n",
       " 'OK : ttactgtgaacattattcgtctccgcgactacgatgagatgcctgagtgcttccgtt']"
      ]
     },
     "execution_count": 264,
     "metadata": {},
     "output_type": "execute_result"
    }
   ],
   "source": [
    "\n",
    "comparePredictOkNokWithSeq(classifiedArrayPredict, output_test, sequence_test)"
   ]
  },
  {
   "cell_type": "code",
   "execution_count": 94,
   "metadata": {},
   "outputs": [
    {
     "data": {
      "text/plain": [
       "array([[ 0.23533559,  0.42990232, -0.25082487, -0.15267515,  0.26705414,\n",
       "         0.41497964,  0.27988416,  0.37338895, -0.29958403, -0.04501176],\n",
       "       [ 0.42684212,  0.07528386,  0.28260273, -0.10901958, -0.15239488,\n",
       "         0.44041243,  0.01431945,  0.2730652 ,  0.4608476 ,  0.46495697],\n",
       "       [ 0.45438316,  0.02100177,  0.29724106, -0.24716143, -0.4676595 ,\n",
       "         0.4724816 , -0.3817394 ,  0.19320472,  0.42271256, -0.05679994],\n",
       "       [ 0.15253878, -0.10971248, -0.04070297, -0.21874414, -0.08176634,\n",
       "         0.28545243, -0.43704703,  0.18602677,  0.22525644,  0.47238237],\n",
       "       [-0.46574974, -0.4418646 , -0.38255867, -0.34078255, -0.23755996,\n",
       "         0.2713209 ,  0.27443305, -0.03233695,  0.24816659, -0.28621373],\n",
       "       [ 0.07085161,  0.39532802, -0.03007789, -0.32714292,  0.49284223,\n",
       "         0.18271512, -0.03359003, -0.21458982, -0.42486927,  0.06511235],\n",
       "       [ 0.2713358 , -0.27115414,  0.34532204, -0.23495436, -0.43641958,\n",
       "        -0.3368862 ,  0.12960823,  0.10995054, -0.19554421, -0.07720792],\n",
       "       [-0.04590143,  0.3942591 ,  0.00566856,  0.19669637, -0.06631317,\n",
       "        -0.42244568, -0.06407813, -0.1728232 ,  0.46452302,  0.21050097],\n",
       "       [ 0.08060884,  0.37193573, -0.354489  , -0.44815534, -0.00615418,\n",
       "        -0.2734092 ,  0.00961146,  0.40794468,  0.34805787,  0.3050058 ],\n",
       "       [-0.13335842, -0.24585015, -0.33572006, -0.45683667, -0.01444119,\n",
       "        -0.10833547, -0.05962682, -0.15336625, -0.36658153,  0.31347117],\n",
       "       [-0.19820169, -0.153704  , -0.04638202,  0.4839829 ,  0.26289713,\n",
       "        -0.2991848 ,  0.3665354 ,  0.22821838,  0.07212699, -0.3094584 ],\n",
       "       [-0.00911083,  0.29570737, -0.16099177, -0.26788437,  0.39560342,\n",
       "        -0.16354184, -0.44186142, -0.35942614,  0.35737228,  0.10719667],\n",
       "       [-0.15877792,  0.34966612,  0.01691701, -0.06887166,  0.12856776,\n",
       "        -0.33047417,  0.20484395,  0.02976446, -0.3235725 , -0.22644459],\n",
       "       [ 0.09975111,  0.4164229 , -0.05972092,  0.4724858 ,  0.07625274,\n",
       "        -0.37556273, -0.41675794,  0.1072961 , -0.22256404,  0.07434572],\n",
       "       [-0.33588484, -0.26314247,  0.48928934, -0.42041746,  0.49042416,\n",
       "        -0.07778177,  0.13300411,  0.34206462,  0.41866353,  0.38699016],\n",
       "       [ 0.25059113,  0.18620391,  0.01138588,  0.03915464, -0.4131867 ,\n",
       "        -0.11133797, -0.00348904,  0.08867157, -0.30682206,  0.0675555 ]],\n",
       "      dtype=float32)"
      ]
     },
     "execution_count": 94,
     "metadata": {},
     "output_type": "execute_result"
    }
   ],
   "source": [
    "model.layers[0].get_weights()[0][0]"
   ]
  }
 ],
 "metadata": {
  "kernelspec": {
   "display_name": "base",
   "language": "python",
   "name": "python3"
  },
  "language_info": {
   "codemirror_mode": {
    "name": "ipython",
    "version": 3
   },
   "file_extension": ".py",
   "mimetype": "text/x-python",
   "name": "python",
   "nbconvert_exporter": "python",
   "pygments_lexer": "ipython3",
   "version": "3.10.9"
  }
 },
 "nbformat": 4,
 "nbformat_minor": 2
}
