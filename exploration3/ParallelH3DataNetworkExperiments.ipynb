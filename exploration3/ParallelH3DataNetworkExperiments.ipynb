{
 "cells": [
  {
   "cell_type": "code",
   "execution_count": 3,
   "metadata": {},
   "outputs": [],
   "source": [
    "import numpy as np\n",
    "import pandas as pd\n",
    "import matplotlib.pyplot as plt\n",
    "import tensorflow as tf\n",
    "from tensorflow import keras\n",
    "from sklearn.model_selection import train_test_split\n",
    "from sklearn.preprocessing import StandardScaler\n",
    "import pickle\n"
   ]
  },
  {
   "cell_type": "code",
   "execution_count": 4,
   "metadata": {},
   "outputs": [],
   "source": [
    "#utils\n",
    "\n",
    "def carregar_pickle(nome_arquivo):\n",
    "  with open(nome_arquivo, 'rb') as arquivo:\n",
    "    objeto = pickle.load(arquivo)\n",
    "  return objeto"
   ]
  },
  {
   "cell_type": "markdown",
   "metadata": {},
   "source": [
    "#### carregando h3 w3_s1"
   ]
  },
  {
   "cell_type": "code",
   "execution_count": 4,
   "metadata": {},
   "outputs": [],
   "source": [
    "raw_data_set1 = carregar_pickle('dataset_H3_W3S1.pkl')\n",
    "input_full1 = raw_data_set1['inputs']\n",
    "output_full1 = raw_data_set1['outputs']\n",
    "sequences_full1 = raw_data_set1['sequences']"
   ]
  },
  {
   "cell_type": "markdown",
   "metadata": {},
   "source": [
    "#### carregando h3 w12_s4"
   ]
  },
  {
   "cell_type": "code",
   "execution_count": 5,
   "metadata": {},
   "outputs": [],
   "source": [
    "raw_data_set2 = carregar_pickle('dataset_H3_W12S4.pkl')\n",
    "input_full2 = raw_data_set2['inputs']\n",
    "output_full2 = raw_data_set2['outputs']\n",
    "sequences_full2 = raw_data_set2['sequences']"
   ]
  },
  {
   "cell_type": "markdown",
   "metadata": {},
   "source": [
    "#### carregando multiplas representações"
   ]
  },
  {
   "cell_type": "code",
   "execution_count": 5,
   "metadata": {},
   "outputs": [],
   "source": [
    "raw_data_setR0 = carregar_pickle('dataset_H3_W3S1.pkl')\n",
    "input_fullR0 = raw_data_setR0['inputs']\n",
    "output_fullR0 = raw_data_setR0['outputs']\n",
    "sequences_fullR0 = raw_data_setR0['sequences']\n",
    "\n",
    "raw_data_setR1 = carregar_pickle('dataset_H3_W4S2.pkl')\n",
    "input_fullR1 = raw_data_setR1['inputs']\n",
    "output_fullR1 = raw_data_setR1['outputs']\n",
    "sequences_fullR1 = raw_data_setR1['sequences']"
   ]
  },
  {
   "cell_type": "code",
   "execution_count": 7,
   "metadata": {},
   "outputs": [
    {
     "name": "stdout",
     "output_type": "stream",
     "text": [
      "n of difs: 0\n",
      "Ordem OK\n"
     ]
    }
   ],
   "source": [
    "validaSequencesOrder(sequences_fullR0, sequences_fullR1)"
   ]
  },
  {
   "cell_type": "code",
   "execution_count": 8,
   "metadata": {},
   "outputs": [
    {
     "data": {
      "text/plain": [
       "(14963, 497, 16)"
      ]
     },
     "execution_count": 8,
     "metadata": {},
     "output_type": "execute_result"
    }
   ],
   "source": [
    "input_fullR0.shape"
   ]
  },
  {
   "cell_type": "markdown",
   "metadata": {},
   "source": [
    "#### criando datasets w3_s1"
   ]
  },
  {
   "cell_type": "code",
   "execution_count": 22,
   "metadata": {},
   "outputs": [
    {
     "ename": "NameError",
     "evalue": "name 'input_full1' is not defined",
     "output_type": "error",
     "traceback": [
      "\u001b[1;31m---------------------------------------------------------------------------\u001b[0m",
      "\u001b[1;31mNameError\u001b[0m                                 Traceback (most recent call last)",
      "Cell \u001b[1;32mIn[22], line 1\u001b[0m\n\u001b[1;32m----> 1\u001b[0m input_train1, input_test1, output_train1, output_test1, sequence_train1, sequence_test1 \u001b[38;5;241m=\u001b[39m train_test_split(\u001b[43minput_full1\u001b[49m, output_full1, \n\u001b[0;32m      2\u001b[0m sequences_full1, train_size\u001b[38;5;241m=\u001b[39m\u001b[38;5;241m0.75\u001b[39m , shuffle\u001b[38;5;241m=\u001b[39m \u001b[38;5;28;01mTrue\u001b[39;00m, random_state \u001b[38;5;241m=\u001b[39m \u001b[38;5;241m0\u001b[39m)\n",
      "\u001b[1;31mNameError\u001b[0m: name 'input_full1' is not defined"
     ]
    }
   ],
   "source": [
    "input_train1, input_test1, output_train1, output_test1, sequence_train1, sequence_test1 = train_test_split(input_full1, output_full1, \n",
    "sequences_full1, train_size=0.75 , shuffle= True, random_state = 0);"
   ]
  },
  {
   "cell_type": "markdown",
   "metadata": {},
   "source": [
    "#### criando datasets w12_s4"
   ]
  },
  {
   "cell_type": "code",
   "execution_count": 10,
   "metadata": {},
   "outputs": [],
   "source": [
    "input_train2, input_test2, output_train2, output_test2, sequence_train2, sequence_test2 = train_test_split(input_full2, output_full2, \n",
    "sequences_full2, train_size=0.75 , shuffle= True, random_state = 0);"
   ]
  },
  {
   "cell_type": "markdown",
   "metadata": {},
   "source": [
    "#### criando dataset conjunto"
   ]
  },
  {
   "cell_type": "code",
   "execution_count": 93,
   "metadata": {},
   "outputs": [],
   "source": [
    "input_trainR0, input_testR0, input_trainR1, input_testR1, output_trainConj, output_testConj, sequence_trainConj, sequence_testConj = train_test_split(input_fullR0, input_fullR1, output_fullR0, \n",
    "sequences_fullR0, train_size=0.75 , shuffle= True, random_state = 0);"
   ]
  },
  {
   "cell_type": "code",
   "execution_count": 10,
   "metadata": {},
   "outputs": [
    {
     "data": {
      "text/plain": [
       "(11222, 122, 52)"
      ]
     },
     "execution_count": 10,
     "metadata": {},
     "output_type": "execute_result"
    }
   ],
   "source": [
    "input_trainR1.shape"
   ]
  },
  {
   "cell_type": "code",
   "execution_count": 7,
   "metadata": {},
   "outputs": [],
   "source": [
    "#utils\n",
    "\n",
    "# binariza resultado da classificação da RN. \n",
    "#param: array -> Rn output, corte -> x > corte significa 1\n",
    "def myClassify(array, corte):\n",
    "    classifiedArray = []\n",
    "    for x in array:\n",
    "        if(x > corte):\n",
    "            classifiedArray.append(1)\n",
    "        else:\n",
    "            classifiedArray.append(0)\n",
    "    \n",
    "    return classifiedArray\n",
    "\n",
    "# Retorna lista com Ok/Nok para predição binarizada  e valor real\n",
    "# param: arrPredict -> predict da rede\n",
    "# param: arrReal -> valores reais de referência\n",
    "def comparePredictOkNok(arrPredict, arrReal):\n",
    "\n",
    "    sizePredict = len(arrPredict)\n",
    "    sizeArrReal = len(arrReal)\n",
    "\n",
    "    if(sizePredict != sizeArrReal):\n",
    "        print('tamanho dos arrays é imcompatível')\n",
    "        return\n",
    "\n",
    "    size = sizeArrReal\n",
    "\n",
    "    arrOkNok = []\n",
    "    for i in range(0, size):\n",
    "        if(arrPredict[i] == arrReal[i]):\n",
    "            arrOkNok.append('OK')\n",
    "        else:\n",
    "            arrOkNok.append('NOK')\n",
    "    \n",
    "    return arrOkNok\n",
    "\n",
    "\n",
    "\n",
    "# Retorna lista com Ok/Nok para predição binarizada  e valor real\n",
    "# param: arrPredict -> predict da rede\n",
    "# param: arrReal -> valores reais de referência\n",
    "# param: sequenceTest -> sequencia correspondente\n",
    "def comparePredictOkNokWithSeq(arrPredict, arrReal, sequenceTest):\n",
    "\n",
    "    sizePredict = len(arrPredict)\n",
    "    sizeArrReal = len(arrReal)\n",
    "\n",
    "    if(sizePredict != sizeArrReal):\n",
    "        print('tamanho dos arrays é imcompatível')\n",
    "        return\n",
    "\n",
    "    size = sizeArrReal\n",
    "\n",
    "    arrOkNok = []\n",
    "    for i in range(0, size):\n",
    "        if(arrPredict[i] == arrReal[i]):\n",
    "            arrOkNok.append('OK' + ' : ' + sequenceTest[i])\n",
    "        else:\n",
    "            arrOkNok.append('NOK' + ' : ' + sequenceTest[i])\n",
    "    \n",
    "    return arrOkNok\n",
    "        \n"
   ]
  },
  {
   "cell_type": "code",
   "execution_count": 1,
   "metadata": {},
   "outputs": [],
   "source": [
    "def verifyIfSeqWindowAndStrideMatches(seqSize, windowSize, strideSize):\n",
    "    last_window_start = 0\n",
    "    nOfStrides = 0\n",
    "    while (last_window_start + windowSize - 1) < (seqSize - 1):\n",
    "        last_window_start = strideSize * nOfStrides\n",
    "        nOfStrides = nOfStrides + 1\n",
    "        #print(last_window_start)\n",
    "        #print(nOfStrides)\n",
    "        #print(' ')\n",
    "\n",
    "    print('n of windows: ' + str(nOfStrides))\n",
    "    print('last window start: ' + str(last_window_start))\n",
    "    print('last window end: ' + str(last_window_start + windowSize - 1))\n",
    "    print('max seq position: ' + str(seqSize - 1))\n",
    "\n",
    "\n",
    "\n",
    "def validaSequencesOrder(seq0, seq1):\n",
    "    i = 0\n",
    "    d = 0\n",
    "    while i < len(seq0):\n",
    "        #print(seq0[i][0:15] + ' - ' + seq1[i][0:15])\n",
    "        if(seq0[i] != seq1[i]):\n",
    "            d = d+1\n",
    "        i = i + 1\n",
    "\n",
    "    if d > 0:\n",
    "        print('n of difs: ' + str(d))\n",
    "        print('Ordem NOK')\n",
    "    else:\n",
    "        print('n of difs: ' + str(d))\n",
    "        print('Ordem OK')\n",
    "\n"
   ]
  },
  {
   "cell_type": "code",
   "execution_count": 4,
   "metadata": {},
   "outputs": [
    {
     "name": "stdout",
     "output_type": "stream",
     "text": [
      "n of windows: 7\n",
      "last window start: 126\n",
      "last window end: 162\n",
      "max seq position: 162\n"
     ]
    }
   ],
   "source": [
    "verifyIfSeqWindowAndStrideMatches(163,37,21)   # 38,8,5 -> 7    #163, 37, 21 => 7"
   ]
  },
  {
   "cell_type": "code",
   "execution_count": 16,
   "metadata": {},
   "outputs": [
    {
     "data": {
      "text/plain": [
       "(497, 16)"
      ]
     },
     "execution_count": 16,
     "metadata": {},
     "output_type": "execute_result"
    }
   ],
   "source": [
    "input_train1[0].shape"
   ]
  },
  {
   "cell_type": "markdown",
   "metadata": {},
   "source": [
    "#### implementação funcional paralela"
   ]
  },
  {
   "cell_type": "code",
   "execution_count": 94,
   "metadata": {},
   "outputs": [],
   "source": [
    "inputR0 = keras.Input(shape=(497, 16)) \n",
    "conv1R0 = keras.layers.Conv1D(10, kernel_size= 1, strides= 1, padding='valid', activation='relu', input_shape = (497, 16), use_bias= True)(inputR0)\n",
    "pool1R0 = keras.layers.AveragePooling1D(pool_size=11, strides= 3, padding='valid')(conv1R0)\n",
    "conv2R0 = keras.layers.Conv1D(35, kernel_size= 1, strides= 1, padding='valid', activation='relu', input_shape = (163, 10), use_bias= True)(pool1R0)\n",
    "pool2R0 = keras.layers.AveragePooling1D(pool_size=37, strides= 21, padding='valid')(conv2R0)\n",
    "#flatR0 = keras.layers.Flatten()(pool2R0)\n",
    "\n",
    "inputR1 = keras.Input(shape=(248, 18)) \n",
    "conv1R1 = keras.layers.Conv1D(5, kernel_size= 1, strides= 1, padding='valid', activation='relu', input_shape = (248, 18), use_bias= True)(inputR1)\n",
    "pool1R1 = keras.layers.AveragePooling1D(pool_size=11, strides= 3, padding='valid')(conv1R1)\n",
    "conv2R1 = keras.layers.Conv1D(10, kernel_size= 1, strides= 1, padding='valid', activation='relu', input_shape = (80, 10), use_bias= True)(pool1R1)\n",
    "pool2R1 = keras.layers.AveragePooling1D(pool_size=20, strides= 10, padding='valid')(conv2R1)\n",
    "#flatR1 =  keras.layers.Flatten()(pool2R1)\n",
    "\n",
    "concatenate_filters = keras.layers.concatenate([pool2R0, pool2R1])\n",
    "\n",
    "convOut = keras.layers.Conv1D(60, kernel_size= 1, strides= 1, \n",
    "                              padding='valid', activation='relu', use_bias= True)(concatenate_filters)\n",
    "\n",
    "poolOut = keras.layers.GlobalAveragePooling1D()(convOut)\n",
    "\n",
    "flatOut =  keras.layers.Flatten()(poolOut)\n",
    "\n",
    "dense1 = keras.layers.Dense(32, activation=keras.layers.LeakyReLU(alpha=0.3))(flatOut)  #keras.layers.LeakyReLU(alpha=0.3)\n",
    "dense2 = keras.layers.Dense(10, activation=keras.layers.LeakyReLU(alpha=0.3))(dense1)\n",
    "#dense3 = keras.layers.Dense(10, activation=keras.layers.LeakyReLU(alpha=0.3))(dense2)\n",
    "outpu1 = keras.layers.Dense(1, activation='sigmoid')(dense2)\n",
    "\n",
    "model = keras.Model(inputs= [inputR0, inputR1], outputs=outpu1)\n",
    "\n",
    "\n",
    "\n",
    "\n",
    "# CNN = keras.Sequential()\n",
    "\n",
    "# CNN.add(keras.layers.Conv1D(10, kernel_size= 1, strides= 1, padding='valid', activation='relu', input_shape = (122, 52), use_bias= True))    #activation='relu'\n",
    "# CNN.add(keras.layers.AveragePooling1D(pool_size=11, strides= 3, padding='valid'))\n",
    "\n",
    "# CNN.add(keras.layers.Conv1D(35, kernel_size= 1, strides= 1, padding='valid', \n",
    "#                             activation='relu', input_shape = (38, 10), use_bias= True))\n",
    "# #CNN.add(keras.layers.AveragePooling1D(pool_size=8, strides= 5, padding='valid'))\n",
    "# CNN.add(keras.layers.GlobalAveragePooling1D())\n"
   ]
  },
  {
   "cell_type": "code",
   "execution_count": 86,
   "metadata": {},
   "outputs": [
    {
     "name": "stdout",
     "output_type": "stream",
     "text": [
      "Model: \"model_19\"\n",
      "__________________________________________________________________________________________________\n",
      " Layer (type)                   Output Shape         Param #     Connected to                     \n",
      "==================================================================================================\n",
      " input_39 (InputLayer)          [(None, 497, 16)]    0           []                               \n",
      "                                                                                                  \n",
      " input_40 (InputLayer)          [(None, 248, 18)]    0           []                               \n",
      "                                                                                                  \n",
      " conv1d_95 (Conv1D)             (None, 497, 10)      170         ['input_39[0][0]']               \n",
      "                                                                                                  \n",
      " conv1d_97 (Conv1D)             (None, 248, 10)      190         ['input_40[0][0]']               \n",
      "                                                                                                  \n",
      " average_pooling1d_76 (AverageP  (None, 163, 10)     0           ['conv1d_95[0][0]']              \n",
      " ooling1D)                                                                                        \n",
      "                                                                                                  \n",
      " average_pooling1d_78 (AverageP  (None, 80, 10)      0           ['conv1d_97[0][0]']              \n",
      " ooling1D)                                                                                        \n",
      "                                                                                                  \n",
      " conv1d_96 (Conv1D)             (None, 163, 35)      385         ['average_pooling1d_76[0][0]']   \n",
      "                                                                                                  \n",
      " conv1d_98 (Conv1D)             (None, 80, 35)       385         ['average_pooling1d_78[0][0]']   \n",
      "                                                                                                  \n",
      " average_pooling1d_77 (AverageP  (None, 7, 35)       0           ['conv1d_96[0][0]']              \n",
      " ooling1D)                                                                                        \n",
      "                                                                                                  \n",
      " average_pooling1d_79 (AverageP  (None, 7, 35)       0           ['conv1d_98[0][0]']              \n",
      " ooling1D)                                                                                        \n",
      "                                                                                                  \n",
      " concatenate_19 (Concatenate)   (None, 7, 70)        0           ['average_pooling1d_77[0][0]',   \n",
      "                                                                  'average_pooling1d_79[0][0]']   \n",
      "                                                                                                  \n",
      " conv1d_99 (Conv1D)             (None, 7, 85)        6035        ['concatenate_19[0][0]']         \n",
      "                                                                                                  \n",
      " global_average_pooling1d_19 (G  (None, 85)          0           ['conv1d_99[0][0]']              \n",
      " lobalAveragePooling1D)                                                                           \n",
      "                                                                                                  \n",
      " flatten_19 (Flatten)           (None, 85)           0           ['global_average_pooling1d_19[0][\n",
      "                                                                 0]']                             \n",
      "                                                                                                  \n",
      " dense_57 (Dense)               (None, 32)           2752        ['flatten_19[0][0]']             \n",
      "                                                                                                  \n",
      " dense_58 (Dense)               (None, 10)           330         ['dense_57[0][0]']               \n",
      "                                                                                                  \n",
      " dense_59 (Dense)               (None, 1)            11          ['dense_58[0][0]']               \n",
      "                                                                                                  \n",
      "==================================================================================================\n",
      "Total params: 10,258\n",
      "Trainable params: 10,258\n",
      "Non-trainable params: 0\n",
      "__________________________________________________________________________________________________\n"
     ]
    }
   ],
   "source": [
    "model.summary();\n",
    "#keras.utils.plot_model(model);"
   ]
  },
  {
   "cell_type": "markdown",
   "metadata": {},
   "source": [
    "#### implemetação paralela"
   ]
  },
  {
   "cell_type": "code",
   "execution_count": 96,
   "metadata": {},
   "outputs": [],
   "source": [
    "model.compile(loss=keras.losses.BinaryCrossentropy(reduction='sum_over_batch_size'), metrics=['accuracy']\n",
    "            , optimizer= keras.optimizers.Adam(learning_rate=0.001))   #sum_over_batch_size"
   ]
  },
  {
   "cell_type": "code",
   "execution_count": 97,
   "metadata": {},
   "outputs": [
    {
     "name": "stdout",
     "output_type": "stream",
     "text": [
      "Epoch 1/200\n",
      "211/211 [==============================] - 26s 112ms/step - loss: 0.6224 - accuracy: 0.6522 - val_loss: 0.4876 - val_accuracy: 0.7752\n",
      "Epoch 2/200\n",
      "211/211 [==============================] - 24s 112ms/step - loss: 0.4752 - accuracy: 0.7808 - val_loss: 0.4803 - val_accuracy: 0.7812\n",
      "Epoch 3/200\n",
      "211/211 [==============================] - 24s 112ms/step - loss: 0.4649 - accuracy: 0.7878 - val_loss: 0.4563 - val_accuracy: 0.7873\n",
      "Epoch 4/200\n",
      "211/211 [==============================] - 23s 109ms/step - loss: 0.4524 - accuracy: 0.7933 - val_loss: 0.4679 - val_accuracy: 0.7855\n",
      "Epoch 5/200\n",
      "211/211 [==============================] - 23s 107ms/step - loss: 0.4490 - accuracy: 0.7947 - val_loss: 0.4442 - val_accuracy: 0.7982\n",
      "Epoch 6/200\n",
      "211/211 [==============================] - 23s 110ms/step - loss: 0.4478 - accuracy: 0.7919 - val_loss: 0.4481 - val_accuracy: 0.8000\n",
      "Epoch 7/200\n",
      "211/211 [==============================] - 24s 114ms/step - loss: 0.4379 - accuracy: 0.8026 - val_loss: 0.4393 - val_accuracy: 0.8013\n",
      "Epoch 8/200\n",
      "211/211 [==============================] - 24s 112ms/step - loss: 0.4296 - accuracy: 0.8037 - val_loss: 0.4251 - val_accuracy: 0.8057\n",
      "Epoch 9/200\n",
      "211/211 [==============================] - 23s 110ms/step - loss: 0.4278 - accuracy: 0.8074 - val_loss: 0.4202 - val_accuracy: 0.8102\n",
      "Epoch 10/200\n",
      "211/211 [==============================] - 34s 164ms/step - loss: 0.4202 - accuracy: 0.8072 - val_loss: 0.4226 - val_accuracy: 0.8109\n",
      "Epoch 11/200\n",
      "211/211 [==============================] - 36s 172ms/step - loss: 0.4165 - accuracy: 0.8118 - val_loss: 0.4549 - val_accuracy: 0.7935\n",
      "Epoch 12/200\n",
      "211/211 [==============================] - 37s 174ms/step - loss: 0.4103 - accuracy: 0.8127 - val_loss: 0.4204 - val_accuracy: 0.8127\n",
      "Epoch 13/200\n",
      "211/211 [==============================] - 35s 165ms/step - loss: 0.4057 - accuracy: 0.8169 - val_loss: 0.4193 - val_accuracy: 0.8173\n",
      "Epoch 14/200\n",
      "211/211 [==============================] - 35s 168ms/step - loss: 0.3973 - accuracy: 0.8224 - val_loss: 0.4218 - val_accuracy: 0.8129\n",
      "Epoch 15/200\n",
      "211/211 [==============================] - 39s 184ms/step - loss: 0.3967 - accuracy: 0.8276 - val_loss: 0.4015 - val_accuracy: 0.8267\n",
      "Epoch 16/200\n",
      "211/211 [==============================] - 49s 235ms/step - loss: 0.3970 - accuracy: 0.8256 - val_loss: 0.4038 - val_accuracy: 0.8278\n",
      "Epoch 17/200\n",
      "211/211 [==============================] - 27s 126ms/step - loss: 0.3923 - accuracy: 0.8304 - val_loss: 0.4418 - val_accuracy: 0.8062\n",
      "Epoch 18/200\n",
      "211/211 [==============================] - 26s 122ms/step - loss: 0.3892 - accuracy: 0.8301 - val_loss: 0.3951 - val_accuracy: 0.8336\n",
      "Epoch 19/200\n",
      "211/211 [==============================] - 30s 144ms/step - loss: 0.3835 - accuracy: 0.8320 - val_loss: 0.4099 - val_accuracy: 0.8205\n",
      "Epoch 20/200\n",
      "211/211 [==============================] - 26s 122ms/step - loss: 0.3798 - accuracy: 0.8357 - val_loss: 0.3981 - val_accuracy: 0.8267\n",
      "Epoch 21/200\n",
      "211/211 [==============================] - 24s 114ms/step - loss: 0.3796 - accuracy: 0.8344 - val_loss: 0.4029 - val_accuracy: 0.8289\n",
      "Epoch 22/200\n",
      "211/211 [==============================] - 29s 137ms/step - loss: 0.3825 - accuracy: 0.8353 - val_loss: 0.3903 - val_accuracy: 0.8338\n",
      "Epoch 23/200\n",
      "211/211 [==============================] - 27s 129ms/step - loss: 0.3791 - accuracy: 0.8384 - val_loss: 0.3845 - val_accuracy: 0.8376\n",
      "Epoch 24/200\n",
      "211/211 [==============================] - 25s 119ms/step - loss: 0.3809 - accuracy: 0.8317 - val_loss: 0.3997 - val_accuracy: 0.8258\n",
      "Epoch 25/200\n",
      "211/211 [==============================] - 22s 104ms/step - loss: 0.3755 - accuracy: 0.8399 - val_loss: 0.3864 - val_accuracy: 0.8385\n",
      "Epoch 26/200\n",
      "211/211 [==============================] - 24s 115ms/step - loss: 0.3738 - accuracy: 0.8360 - val_loss: 0.3865 - val_accuracy: 0.8352\n",
      "Epoch 27/200\n",
      "211/211 [==============================] - 27s 128ms/step - loss: 0.3734 - accuracy: 0.8390 - val_loss: 0.3858 - val_accuracy: 0.8394\n",
      "Epoch 28/200\n",
      "211/211 [==============================] - 34s 162ms/step - loss: 0.3746 - accuracy: 0.8369 - val_loss: 0.3958 - val_accuracy: 0.8314\n",
      "Epoch 29/200\n",
      "211/211 [==============================] - 25s 120ms/step - loss: 0.3804 - accuracy: 0.8377 - val_loss: 0.3876 - val_accuracy: 0.8372\n",
      "Epoch 30/200\n",
      "211/211 [==============================] - 24s 116ms/step - loss: 0.3723 - accuracy: 0.8415 - val_loss: 0.4075 - val_accuracy: 0.8256\n",
      "Epoch 31/200\n",
      "211/211 [==============================] - 29s 136ms/step - loss: 0.3712 - accuracy: 0.8381 - val_loss: 0.4132 - val_accuracy: 0.8200\n",
      "Epoch 32/200\n",
      "211/211 [==============================] - 24s 116ms/step - loss: 0.3683 - accuracy: 0.8418 - val_loss: 0.3792 - val_accuracy: 0.8383\n",
      "Epoch 33/200\n",
      "211/211 [==============================] - 25s 119ms/step - loss: 0.3705 - accuracy: 0.8429 - val_loss: 0.3807 - val_accuracy: 0.8394\n",
      "Epoch 34/200\n",
      "211/211 [==============================] - 25s 117ms/step - loss: 0.3685 - accuracy: 0.8411 - val_loss: 0.4001 - val_accuracy: 0.8294\n",
      "Epoch 35/200\n",
      "211/211 [==============================] - 25s 117ms/step - loss: 0.3733 - accuracy: 0.8408 - val_loss: 0.3942 - val_accuracy: 0.8352\n",
      "Epoch 36/200\n",
      "211/211 [==============================] - 25s 117ms/step - loss: 0.3699 - accuracy: 0.8427 - val_loss: 0.3786 - val_accuracy: 0.8412\n",
      "Epoch 37/200\n",
      "211/211 [==============================] - 25s 118ms/step - loss: 0.3682 - accuracy: 0.8423 - val_loss: 0.3747 - val_accuracy: 0.8438\n",
      "Epoch 38/200\n",
      "211/211 [==============================] - 25s 117ms/step - loss: 0.3702 - accuracy: 0.8403 - val_loss: 0.3851 - val_accuracy: 0.8394\n",
      "Epoch 39/200\n",
      "211/211 [==============================] - 26s 124ms/step - loss: 0.3641 - accuracy: 0.8435 - val_loss: 0.3854 - val_accuracy: 0.8376\n",
      "Epoch 40/200\n",
      "211/211 [==============================] - 24s 115ms/step - loss: 0.3655 - accuracy: 0.8435 - val_loss: 0.3828 - val_accuracy: 0.8354\n",
      "Epoch 41/200\n",
      "211/211 [==============================] - 24s 115ms/step - loss: 0.3673 - accuracy: 0.8403 - val_loss: 0.4055 - val_accuracy: 0.8296\n",
      "Epoch 42/200\n",
      "211/211 [==============================] - 28s 131ms/step - loss: 0.3627 - accuracy: 0.8442 - val_loss: 0.3907 - val_accuracy: 0.8378\n",
      "Epoch 43/200\n",
      "211/211 [==============================] - 23s 110ms/step - loss: 0.3606 - accuracy: 0.8461 - val_loss: 0.3752 - val_accuracy: 0.8438\n",
      "Epoch 44/200\n",
      "211/211 [==============================] - 28s 134ms/step - loss: 0.3622 - accuracy: 0.8414 - val_loss: 0.3706 - val_accuracy: 0.8441\n",
      "Epoch 45/200\n",
      "211/211 [==============================] - 24s 112ms/step - loss: 0.3629 - accuracy: 0.8426 - val_loss: 0.3686 - val_accuracy: 0.8476\n",
      "Epoch 46/200\n",
      "211/211 [==============================] - 24s 115ms/step - loss: 0.3653 - accuracy: 0.8426 - val_loss: 0.3737 - val_accuracy: 0.8396\n",
      "Epoch 47/200\n",
      "211/211 [==============================] - 24s 115ms/step - loss: 0.3548 - accuracy: 0.8473 - val_loss: 0.3705 - val_accuracy: 0.8445\n",
      "Epoch 48/200\n",
      "211/211 [==============================] - 24s 115ms/step - loss: 0.3547 - accuracy: 0.8466 - val_loss: 0.3791 - val_accuracy: 0.8374\n",
      "Epoch 49/200\n",
      "211/211 [==============================] - 23s 110ms/step - loss: 0.3560 - accuracy: 0.8472 - val_loss: 0.3984 - val_accuracy: 0.8271\n",
      "Epoch 50/200\n",
      "211/211 [==============================] - 24s 116ms/step - loss: 0.3602 - accuracy: 0.8458 - val_loss: 0.3696 - val_accuracy: 0.8407\n",
      "Epoch 51/200\n",
      "211/211 [==============================] - 24s 115ms/step - loss: 0.3570 - accuracy: 0.8487 - val_loss: 0.3622 - val_accuracy: 0.8494\n",
      "Epoch 52/200\n",
      "211/211 [==============================] - 24s 115ms/step - loss: 0.3534 - accuracy: 0.8463 - val_loss: 0.3584 - val_accuracy: 0.8516\n",
      "Epoch 53/200\n",
      "211/211 [==============================] - 24s 114ms/step - loss: 0.3531 - accuracy: 0.8507 - val_loss: 0.3901 - val_accuracy: 0.8300\n",
      "Epoch 54/200\n",
      "211/211 [==============================] - 24s 113ms/step - loss: 0.3526 - accuracy: 0.8497 - val_loss: 0.3715 - val_accuracy: 0.8398\n",
      "Epoch 55/200\n",
      "211/211 [==============================] - 25s 117ms/step - loss: 0.3506 - accuracy: 0.8494 - val_loss: 0.3602 - val_accuracy: 0.8450\n",
      "Epoch 56/200\n",
      "211/211 [==============================] - 25s 116ms/step - loss: 0.3496 - accuracy: 0.8482 - val_loss: 0.3630 - val_accuracy: 0.8470\n",
      "Epoch 57/200\n",
      "211/211 [==============================] - 29s 139ms/step - loss: 0.3444 - accuracy: 0.8527 - val_loss: 0.3965 - val_accuracy: 0.8282\n",
      "Epoch 58/200\n",
      "211/211 [==============================] - 25s 117ms/step - loss: 0.3465 - accuracy: 0.8501 - val_loss: 0.3636 - val_accuracy: 0.8481\n",
      "Epoch 59/200\n",
      "211/211 [==============================] - 26s 125ms/step - loss: 0.3546 - accuracy: 0.8445 - val_loss: 0.3600 - val_accuracy: 0.8447\n",
      "Epoch 60/200\n",
      "211/211 [==============================] - 24s 113ms/step - loss: 0.3474 - accuracy: 0.8516 - val_loss: 0.3612 - val_accuracy: 0.8414\n",
      "Epoch 61/200\n",
      "211/211 [==============================] - 25s 121ms/step - loss: 0.3407 - accuracy: 0.8555 - val_loss: 0.3474 - val_accuracy: 0.8501\n",
      "Epoch 62/200\n",
      "211/211 [==============================] - 23s 110ms/step - loss: 0.3412 - accuracy: 0.8577 - val_loss: 0.3482 - val_accuracy: 0.8507\n",
      "Epoch 63/200\n",
      "211/211 [==============================] - 24s 115ms/step - loss: 0.3435 - accuracy: 0.8559 - val_loss: 0.3622 - val_accuracy: 0.8438\n",
      "Epoch 64/200\n",
      "211/211 [==============================] - 24s 116ms/step - loss: 0.3367 - accuracy: 0.8559 - val_loss: 0.3717 - val_accuracy: 0.8385\n",
      "Epoch 65/200\n",
      "211/211 [==============================] - 26s 124ms/step - loss: 0.3421 - accuracy: 0.8570 - val_loss: 0.3669 - val_accuracy: 0.8412\n",
      "Epoch 66/200\n",
      "211/211 [==============================] - 24s 116ms/step - loss: 0.3438 - accuracy: 0.8527 - val_loss: 0.3428 - val_accuracy: 0.8494\n",
      "Epoch 67/200\n",
      "211/211 [==============================] - 25s 118ms/step - loss: 0.3334 - accuracy: 0.8591 - val_loss: 0.3710 - val_accuracy: 0.8392\n",
      "Epoch 68/200\n",
      "211/211 [==============================] - 24s 115ms/step - loss: 0.3460 - accuracy: 0.8491 - val_loss: 0.3592 - val_accuracy: 0.8427\n",
      "Epoch 69/200\n",
      "211/211 [==============================] - 27s 126ms/step - loss: 0.3392 - accuracy: 0.8547 - val_loss: 0.3414 - val_accuracy: 0.8523\n",
      "Epoch 70/200\n",
      "211/211 [==============================] - 27s 129ms/step - loss: 0.3431 - accuracy: 0.8530 - val_loss: 0.3628 - val_accuracy: 0.8407\n",
      "Epoch 71/200\n",
      "211/211 [==============================] - 28s 133ms/step - loss: 0.3447 - accuracy: 0.8533 - val_loss: 0.3402 - val_accuracy: 0.8539\n",
      "Epoch 72/200\n",
      "211/211 [==============================] - 37s 176ms/step - loss: 0.3342 - accuracy: 0.8574 - val_loss: 0.3545 - val_accuracy: 0.8427\n",
      "Epoch 73/200\n",
      "211/211 [==============================] - 31s 148ms/step - loss: 0.3321 - accuracy: 0.8555 - val_loss: 0.3406 - val_accuracy: 0.8528\n",
      "Epoch 74/200\n",
      "211/211 [==============================] - 27s 127ms/step - loss: 0.3336 - accuracy: 0.8599 - val_loss: 0.3518 - val_accuracy: 0.8472\n",
      "Epoch 75/200\n",
      "211/211 [==============================] - 24s 116ms/step - loss: 0.3306 - accuracy: 0.8622 - val_loss: 0.3461 - val_accuracy: 0.8554\n",
      "Epoch 76/200\n",
      "211/211 [==============================] - 25s 117ms/step - loss: 0.3333 - accuracy: 0.8573 - val_loss: 0.3705 - val_accuracy: 0.8429\n",
      "Epoch 77/200\n",
      "211/211 [==============================] - 24s 113ms/step - loss: 0.3355 - accuracy: 0.8595 - val_loss: 0.3579 - val_accuracy: 0.8429\n",
      "Epoch 78/200\n",
      "211/211 [==============================] - 27s 126ms/step - loss: 0.3295 - accuracy: 0.8596 - val_loss: 0.3378 - val_accuracy: 0.8552\n",
      "Epoch 79/200\n",
      "211/211 [==============================] - 26s 123ms/step - loss: 0.3290 - accuracy: 0.8651 - val_loss: 0.3502 - val_accuracy: 0.8481\n",
      "Epoch 80/200\n",
      "211/211 [==============================] - 25s 120ms/step - loss: 0.3293 - accuracy: 0.8631 - val_loss: 0.3627 - val_accuracy: 0.8427\n",
      "Epoch 81/200\n",
      "211/211 [==============================] - 31s 147ms/step - loss: 0.3411 - accuracy: 0.8530 - val_loss: 0.3947 - val_accuracy: 0.8294\n",
      "Epoch 82/200\n",
      "211/211 [==============================] - 28s 131ms/step - loss: 0.3335 - accuracy: 0.8591 - val_loss: 0.3855 - val_accuracy: 0.8298\n",
      "Epoch 83/200\n",
      "211/211 [==============================] - 29s 136ms/step - loss: 0.3282 - accuracy: 0.8605 - val_loss: 0.3389 - val_accuracy: 0.8534\n",
      "Epoch 84/200\n",
      "211/211 [==============================] - 29s 137ms/step - loss: 0.3279 - accuracy: 0.8625 - val_loss: 0.3344 - val_accuracy: 0.8556\n",
      "Epoch 85/200\n",
      "211/211 [==============================] - 34s 161ms/step - loss: 0.3276 - accuracy: 0.8623 - val_loss: 0.3362 - val_accuracy: 0.8550\n",
      "Epoch 86/200\n",
      "211/211 [==============================] - 49s 234ms/step - loss: 0.3283 - accuracy: 0.8585 - val_loss: 0.3622 - val_accuracy: 0.8380\n",
      "Epoch 87/200\n",
      "211/211 [==============================] - 42s 194ms/step - loss: 0.3283 - accuracy: 0.8602 - val_loss: 0.3341 - val_accuracy: 0.8556\n",
      "Epoch 88/200\n",
      "211/211 [==============================] - 34s 160ms/step - loss: 0.3281 - accuracy: 0.8585 - val_loss: 0.3454 - val_accuracy: 0.8483\n",
      "Epoch 89/200\n",
      "211/211 [==============================] - 33s 157ms/step - loss: 0.3232 - accuracy: 0.8659 - val_loss: 0.3453 - val_accuracy: 0.8514\n",
      "Epoch 90/200\n",
      "211/211 [==============================] - 31s 146ms/step - loss: 0.3298 - accuracy: 0.8582 - val_loss: 0.3562 - val_accuracy: 0.8470\n",
      "Epoch 91/200\n",
      "211/211 [==============================] - 38s 183ms/step - loss: 0.3218 - accuracy: 0.8626 - val_loss: 0.3414 - val_accuracy: 0.8528\n",
      "Epoch 92/200\n",
      "211/211 [==============================] - 32s 149ms/step - loss: 0.3244 - accuracy: 0.8648 - val_loss: 0.3560 - val_accuracy: 0.8438\n",
      "Epoch 93/200\n",
      "211/211 [==============================] - 43s 204ms/step - loss: 0.3227 - accuracy: 0.8643 - val_loss: 0.3427 - val_accuracy: 0.8501\n",
      "Epoch 94/200\n",
      "211/211 [==============================] - 27s 126ms/step - loss: 0.3218 - accuracy: 0.8654 - val_loss: 0.3473 - val_accuracy: 0.8463\n",
      "Epoch 95/200\n",
      "211/211 [==============================] - 36s 172ms/step - loss: 0.3252 - accuracy: 0.8579 - val_loss: 0.3520 - val_accuracy: 0.8441\n",
      "Epoch 96/200\n",
      "211/211 [==============================] - 33s 157ms/step - loss: 0.3303 - accuracy: 0.8601 - val_loss: 0.3604 - val_accuracy: 0.8380\n",
      "Epoch 97/200\n",
      "211/211 [==============================] - 34s 159ms/step - loss: 0.3265 - accuracy: 0.8643 - val_loss: 0.3724 - val_accuracy: 0.8360\n",
      "Epoch 98/200\n",
      "211/211 [==============================] - 35s 165ms/step - loss: 0.3185 - accuracy: 0.8671 - val_loss: 0.3367 - val_accuracy: 0.8521\n",
      "Epoch 99/200\n",
      "211/211 [==============================] - 26s 123ms/step - loss: 0.3162 - accuracy: 0.8656 - val_loss: 0.3401 - val_accuracy: 0.8543\n",
      "Epoch 100/200\n",
      "211/211 [==============================] - 23s 110ms/step - loss: 0.3227 - accuracy: 0.8601 - val_loss: 0.3369 - val_accuracy: 0.8548\n",
      "Epoch 101/200\n",
      "211/211 [==============================] - 28s 135ms/step - loss: 0.3262 - accuracy: 0.8634 - val_loss: 0.3514 - val_accuracy: 0.8476\n",
      "Epoch 102/200\n",
      "211/211 [==============================] - 23s 110ms/step - loss: 0.3188 - accuracy: 0.8632 - val_loss: 0.3386 - val_accuracy: 0.8530\n",
      "Epoch 103/200\n",
      "211/211 [==============================] - 29s 138ms/step - loss: 0.3280 - accuracy: 0.8591 - val_loss: 0.3251 - val_accuracy: 0.8623\n",
      "Epoch 104/200\n",
      "211/211 [==============================] - 41s 193ms/step - loss: 0.3122 - accuracy: 0.8697 - val_loss: 0.3252 - val_accuracy: 0.8590\n",
      "Epoch 105/200\n",
      "211/211 [==============================] - 35s 165ms/step - loss: 0.3181 - accuracy: 0.8660 - val_loss: 0.3256 - val_accuracy: 0.8572\n",
      "Epoch 106/200\n",
      "211/211 [==============================] - 27s 127ms/step - loss: 0.3190 - accuracy: 0.8632 - val_loss: 0.3197 - val_accuracy: 0.8626\n",
      "Epoch 107/200\n",
      "211/211 [==============================] - 32s 150ms/step - loss: 0.3135 - accuracy: 0.8665 - val_loss: 0.3352 - val_accuracy: 0.8565\n",
      "Epoch 108/200\n",
      "211/211 [==============================] - 24s 112ms/step - loss: 0.3223 - accuracy: 0.8662 - val_loss: 0.3272 - val_accuracy: 0.8579\n",
      "Epoch 109/200\n",
      "211/211 [==============================] - 27s 130ms/step - loss: 0.3155 - accuracy: 0.8644 - val_loss: 0.3214 - val_accuracy: 0.8632\n",
      "Epoch 110/200\n",
      "211/211 [==============================] - 29s 139ms/step - loss: 0.3133 - accuracy: 0.8663 - val_loss: 0.3466 - val_accuracy: 0.8523\n",
      "Epoch 111/200\n",
      "211/211 [==============================] - 26s 124ms/step - loss: 0.3179 - accuracy: 0.8620 - val_loss: 0.3561 - val_accuracy: 0.8454\n",
      "Epoch 112/200\n",
      "211/211 [==============================] - 28s 132ms/step - loss: 0.3166 - accuracy: 0.8653 - val_loss: 0.3198 - val_accuracy: 0.8623\n",
      "Epoch 113/200\n",
      "211/211 [==============================] - 24s 113ms/step - loss: 0.3110 - accuracy: 0.8715 - val_loss: 0.3325 - val_accuracy: 0.8532\n",
      "Epoch 114/200\n",
      "211/211 [==============================] - 26s 120ms/step - loss: 0.3107 - accuracy: 0.8718 - val_loss: 0.3286 - val_accuracy: 0.8585\n",
      "Epoch 115/200\n",
      "211/211 [==============================] - 27s 128ms/step - loss: 0.3140 - accuracy: 0.8680 - val_loss: 0.3201 - val_accuracy: 0.8605\n",
      "Epoch 116/200\n",
      "211/211 [==============================] - 26s 122ms/step - loss: 0.3121 - accuracy: 0.8681 - val_loss: 0.3535 - val_accuracy: 0.8436\n",
      "Epoch 117/200\n",
      "211/211 [==============================] - 25s 120ms/step - loss: 0.3136 - accuracy: 0.8672 - val_loss: 0.3440 - val_accuracy: 0.8503\n",
      "Epoch 118/200\n",
      "211/211 [==============================] - 25s 117ms/step - loss: 0.3099 - accuracy: 0.8714 - val_loss: 0.3561 - val_accuracy: 0.8416\n",
      "Epoch 119/200\n",
      "211/211 [==============================] - 26s 123ms/step - loss: 0.3098 - accuracy: 0.8699 - val_loss: 0.3326 - val_accuracy: 0.8570\n",
      "Epoch 120/200\n",
      "211/211 [==============================] - 24s 115ms/step - loss: 0.3131 - accuracy: 0.8680 - val_loss: 0.3231 - val_accuracy: 0.8603\n",
      "Epoch 121/200\n",
      "211/211 [==============================] - 24s 115ms/step - loss: 0.3094 - accuracy: 0.8690 - val_loss: 0.3195 - val_accuracy: 0.8617\n",
      "Epoch 122/200\n",
      "211/211 [==============================] - 25s 116ms/step - loss: 0.3138 - accuracy: 0.8657 - val_loss: 0.3405 - val_accuracy: 0.8516\n",
      "Epoch 123/200\n",
      "211/211 [==============================] - 26s 123ms/step - loss: 0.3127 - accuracy: 0.8693 - val_loss: 0.3375 - val_accuracy: 0.8492\n",
      "Epoch 124/200\n",
      "211/211 [==============================] - 24s 116ms/step - loss: 0.3149 - accuracy: 0.8684 - val_loss: 0.3227 - val_accuracy: 0.8599\n",
      "Epoch 125/200\n",
      "211/211 [==============================] - 28s 135ms/step - loss: 0.3088 - accuracy: 0.8705 - val_loss: 0.3202 - val_accuracy: 0.8590\n",
      "Epoch 126/200\n",
      "211/211 [==============================] - 24s 116ms/step - loss: 0.3099 - accuracy: 0.8669 - val_loss: 0.3224 - val_accuracy: 0.8588\n",
      "Epoch 127/200\n",
      "211/211 [==============================] - 25s 119ms/step - loss: 0.3100 - accuracy: 0.8711 - val_loss: 0.3282 - val_accuracy: 0.8574\n",
      "Epoch 128/200\n",
      "211/211 [==============================] - 26s 124ms/step - loss: 0.3087 - accuracy: 0.8684 - val_loss: 0.3370 - val_accuracy: 0.8543\n",
      "Epoch 129/200\n",
      "211/211 [==============================] - 26s 121ms/step - loss: 0.3091 - accuracy: 0.8702 - val_loss: 0.3252 - val_accuracy: 0.8648\n",
      "Epoch 130/200\n",
      "211/211 [==============================] - 24s 113ms/step - loss: 0.3085 - accuracy: 0.8696 - val_loss: 0.3265 - val_accuracy: 0.8570\n",
      "Epoch 131/200\n",
      "211/211 [==============================] - 22s 105ms/step - loss: 0.3068 - accuracy: 0.8721 - val_loss: 0.3230 - val_accuracy: 0.8605\n",
      "Epoch 132/200\n",
      "211/211 [==============================] - 23s 109ms/step - loss: 0.3051 - accuracy: 0.8752 - val_loss: 0.3211 - val_accuracy: 0.8630\n",
      "Epoch 133/200\n",
      "211/211 [==============================] - 22s 105ms/step - loss: 0.3082 - accuracy: 0.8705 - val_loss: 0.3331 - val_accuracy: 0.8541\n",
      "Epoch 134/200\n",
      "211/211 [==============================] - 22s 105ms/step - loss: 0.3083 - accuracy: 0.8708 - val_loss: 0.3198 - val_accuracy: 0.8597\n",
      "Epoch 135/200\n",
      "211/211 [==============================] - 22s 107ms/step - loss: 0.3031 - accuracy: 0.8732 - val_loss: 0.3305 - val_accuracy: 0.8568\n",
      "Epoch 136/200\n",
      "211/211 [==============================] - 22s 105ms/step - loss: 0.3036 - accuracy: 0.8746 - val_loss: 0.3402 - val_accuracy: 0.8568\n",
      "Epoch 137/200\n",
      "211/211 [==============================] - 23s 110ms/step - loss: 0.3065 - accuracy: 0.8735 - val_loss: 0.3174 - val_accuracy: 0.8619\n",
      "Epoch 138/200\n",
      "211/211 [==============================] - 27s 129ms/step - loss: 0.3034 - accuracy: 0.8736 - val_loss: 0.3226 - val_accuracy: 0.8628\n",
      "Epoch 139/200\n",
      "211/211 [==============================] - 23s 109ms/step - loss: 0.3057 - accuracy: 0.8736 - val_loss: 0.3300 - val_accuracy: 0.8570\n",
      "Epoch 140/200\n",
      "211/211 [==============================] - 23s 108ms/step - loss: 0.3043 - accuracy: 0.8715 - val_loss: 0.3243 - val_accuracy: 0.8581\n",
      "Epoch 141/200\n",
      "211/211 [==============================] - 32s 151ms/step - loss: 0.3047 - accuracy: 0.8723 - val_loss: 0.3239 - val_accuracy: 0.8590\n",
      "Epoch 142/200\n",
      "211/211 [==============================] - 32s 153ms/step - loss: 0.3027 - accuracy: 0.8738 - val_loss: 0.3404 - val_accuracy: 0.8485\n",
      "Epoch 143/200\n",
      "211/211 [==============================] - 31s 149ms/step - loss: 0.3076 - accuracy: 0.8696 - val_loss: 0.3232 - val_accuracy: 0.8579\n",
      "Epoch 144/200\n",
      "211/211 [==============================] - 37s 173ms/step - loss: 0.2982 - accuracy: 0.8764 - val_loss: 0.3391 - val_accuracy: 0.8550\n",
      "Epoch 145/200\n",
      "211/211 [==============================] - 40s 192ms/step - loss: 0.3048 - accuracy: 0.8714 - val_loss: 0.3177 - val_accuracy: 0.8630\n",
      "Epoch 146/200\n",
      "211/211 [==============================] - 35s 166ms/step - loss: 0.2986 - accuracy: 0.8746 - val_loss: 0.3189 - val_accuracy: 0.8599\n",
      "Epoch 147/200\n",
      "211/211 [==============================] - 40s 189ms/step - loss: 0.2955 - accuracy: 0.8781 - val_loss: 0.3266 - val_accuracy: 0.8550\n",
      "Epoch 148/200\n",
      "211/211 [==============================] - 54s 256ms/step - loss: 0.3018 - accuracy: 0.8739 - val_loss: 0.3192 - val_accuracy: 0.8603\n",
      "Epoch 149/200\n",
      "211/211 [==============================] - 25s 119ms/step - loss: 0.2986 - accuracy: 0.8727 - val_loss: 0.3226 - val_accuracy: 0.8574\n",
      "Epoch 150/200\n",
      "211/211 [==============================] - 27s 129ms/step - loss: 0.3047 - accuracy: 0.8730 - val_loss: 0.3206 - val_accuracy: 0.8608\n",
      "Epoch 151/200\n",
      "211/211 [==============================] - 23s 109ms/step - loss: 0.2955 - accuracy: 0.8735 - val_loss: 0.3262 - val_accuracy: 0.8590\n",
      "Epoch 152/200\n",
      "211/211 [==============================] - 23s 111ms/step - loss: 0.2992 - accuracy: 0.8736 - val_loss: 0.3161 - val_accuracy: 0.8641\n",
      "Epoch 153/200\n",
      "211/211 [==============================] - 24s 112ms/step - loss: 0.3043 - accuracy: 0.8742 - val_loss: 0.3442 - val_accuracy: 0.8525\n",
      "Epoch 154/200\n",
      "211/211 [==============================] - 23s 109ms/step - loss: 0.3019 - accuracy: 0.8726 - val_loss: 0.3621 - val_accuracy: 0.8458\n",
      "Epoch 155/200\n",
      "211/211 [==============================] - 23s 108ms/step - loss: 0.2975 - accuracy: 0.8751 - val_loss: 0.3189 - val_accuracy: 0.8585\n",
      "Epoch 156/200\n",
      "211/211 [==============================] - 23s 111ms/step - loss: 0.3066 - accuracy: 0.8690 - val_loss: 0.3268 - val_accuracy: 0.8574\n",
      "Epoch 157/200\n",
      "211/211 [==============================] - 23s 109ms/step - loss: 0.3008 - accuracy: 0.8727 - val_loss: 0.3242 - val_accuracy: 0.8554\n",
      "Epoch 158/200\n",
      "211/211 [==============================] - 23s 108ms/step - loss: 0.2978 - accuracy: 0.8749 - val_loss: 0.3183 - val_accuracy: 0.8617\n",
      "Epoch 159/200\n",
      "211/211 [==============================] - 24s 114ms/step - loss: 0.2985 - accuracy: 0.8741 - val_loss: 0.3329 - val_accuracy: 0.8530\n",
      "Epoch 160/200\n",
      "211/211 [==============================] - 24s 113ms/step - loss: 0.3040 - accuracy: 0.8739 - val_loss: 0.3271 - val_accuracy: 0.8563\n",
      "Epoch 161/200\n",
      "211/211 [==============================] - 36s 170ms/step - loss: 0.2987 - accuracy: 0.8781 - val_loss: 0.3135 - val_accuracy: 0.8668\n",
      "Epoch 162/200\n",
      "211/211 [==============================] - 25s 120ms/step - loss: 0.2936 - accuracy: 0.8749 - val_loss: 0.3365 - val_accuracy: 0.8534\n",
      "Epoch 163/200\n",
      "211/211 [==============================] - 24s 115ms/step - loss: 0.3000 - accuracy: 0.8735 - val_loss: 0.3499 - val_accuracy: 0.8521\n",
      "Epoch 164/200\n",
      "211/211 [==============================] - 24s 114ms/step - loss: 0.2970 - accuracy: 0.8767 - val_loss: 0.3221 - val_accuracy: 0.8610\n",
      "Epoch 165/200\n",
      "211/211 [==============================] - 25s 118ms/step - loss: 0.2948 - accuracy: 0.8746 - val_loss: 0.3368 - val_accuracy: 0.8541\n",
      "Epoch 166/200\n",
      "211/211 [==============================] - 26s 121ms/step - loss: 0.2957 - accuracy: 0.8726 - val_loss: 0.3318 - val_accuracy: 0.8603\n",
      "Epoch 167/200\n",
      "211/211 [==============================] - 25s 116ms/step - loss: 0.2918 - accuracy: 0.8755 - val_loss: 0.3282 - val_accuracy: 0.8610\n",
      "Epoch 168/200\n",
      "211/211 [==============================] - 30s 141ms/step - loss: 0.2900 - accuracy: 0.8797 - val_loss: 0.3280 - val_accuracy: 0.8592\n",
      "Epoch 169/200\n",
      "211/211 [==============================] - 25s 117ms/step - loss: 0.2943 - accuracy: 0.8718 - val_loss: 0.3263 - val_accuracy: 0.8563\n",
      "Epoch 170/200\n",
      "211/211 [==============================] - 25s 117ms/step - loss: 0.2910 - accuracy: 0.8775 - val_loss: 0.3170 - val_accuracy: 0.8614\n",
      "Epoch 171/200\n",
      "211/211 [==============================] - 25s 121ms/step - loss: 0.2888 - accuracy: 0.8788 - val_loss: 0.3199 - val_accuracy: 0.8590\n",
      "Epoch 172/200\n",
      "211/211 [==============================] - 25s 119ms/step - loss: 0.2946 - accuracy: 0.8763 - val_loss: 0.3153 - val_accuracy: 0.8652\n",
      "Epoch 173/200\n",
      "211/211 [==============================] - 29s 138ms/step - loss: 0.2964 - accuracy: 0.8729 - val_loss: 0.3460 - val_accuracy: 0.8521\n",
      "Epoch 174/200\n",
      "211/211 [==============================] - 25s 116ms/step - loss: 0.2954 - accuracy: 0.8757 - val_loss: 0.3139 - val_accuracy: 0.8621\n",
      "Epoch 175/200\n",
      "211/211 [==============================] - 25s 117ms/step - loss: 0.2957 - accuracy: 0.8760 - val_loss: 0.3279 - val_accuracy: 0.8594\n",
      "Epoch 176/200\n",
      "211/211 [==============================] - 24s 115ms/step - loss: 0.2980 - accuracy: 0.8741 - val_loss: 0.3239 - val_accuracy: 0.8630\n",
      "Epoch 177/200\n",
      "211/211 [==============================] - 24s 115ms/step - loss: 0.2894 - accuracy: 0.8748 - val_loss: 0.3255 - val_accuracy: 0.8601\n",
      "Epoch 178/200\n",
      "211/211 [==============================] - 25s 117ms/step - loss: 0.2979 - accuracy: 0.8730 - val_loss: 0.3211 - val_accuracy: 0.8634\n",
      "Epoch 179/200\n",
      "211/211 [==============================] - 25s 119ms/step - loss: 0.2897 - accuracy: 0.8748 - val_loss: 0.3485 - val_accuracy: 0.8496\n",
      "Epoch 180/200\n",
      "211/211 [==============================] - 25s 117ms/step - loss: 0.2871 - accuracy: 0.8754 - val_loss: 0.3260 - val_accuracy: 0.8626\n",
      "Epoch 181/200\n",
      "211/211 [==============================] - 25s 118ms/step - loss: 0.2882 - accuracy: 0.8801 - val_loss: 0.3156 - val_accuracy: 0.8617\n",
      "Epoch 182/200\n",
      "211/211 [==============================] - 25s 116ms/step - loss: 0.2890 - accuracy: 0.8793 - val_loss: 0.3261 - val_accuracy: 0.8581\n",
      "Epoch 183/200\n",
      "211/211 [==============================] - 26s 122ms/step - loss: 0.2912 - accuracy: 0.8781 - val_loss: 0.3214 - val_accuracy: 0.8588\n",
      "Epoch 184/200\n",
      "211/211 [==============================] - 24s 114ms/step - loss: 0.2915 - accuracy: 0.8788 - val_loss: 0.3208 - val_accuracy: 0.8643\n",
      "Epoch 185/200\n",
      "211/211 [==============================] - 25s 118ms/step - loss: 0.2837 - accuracy: 0.8812 - val_loss: 0.3179 - val_accuracy: 0.8648\n",
      "Epoch 186/200\n",
      "211/211 [==============================] - 29s 136ms/step - loss: 0.2913 - accuracy: 0.8769 - val_loss: 0.3310 - val_accuracy: 0.8581\n",
      "Epoch 187/200\n",
      "211/211 [==============================] - 26s 122ms/step - loss: 0.2882 - accuracy: 0.8764 - val_loss: 0.3295 - val_accuracy: 0.8592\n",
      "Epoch 188/200\n",
      "211/211 [==============================] - 25s 117ms/step - loss: 0.2862 - accuracy: 0.8812 - val_loss: 0.3414 - val_accuracy: 0.8543\n",
      "Epoch 189/200\n",
      "211/211 [==============================] - 26s 120ms/step - loss: 0.2905 - accuracy: 0.8766 - val_loss: 0.3193 - val_accuracy: 0.8585\n",
      "Epoch 190/200\n",
      "211/211 [==============================] - 25s 118ms/step - loss: 0.2847 - accuracy: 0.8806 - val_loss: 0.3239 - val_accuracy: 0.8614\n",
      "Epoch 191/200\n",
      "211/211 [==============================] - 25s 119ms/step - loss: 0.2855 - accuracy: 0.8797 - val_loss: 0.3190 - val_accuracy: 0.8641\n",
      "Epoch 192/200\n",
      "211/211 [==============================] - 27s 129ms/step - loss: 0.2882 - accuracy: 0.8773 - val_loss: 0.3296 - val_accuracy: 0.8603\n",
      "Epoch 193/200\n",
      "211/211 [==============================] - 27s 128ms/step - loss: 0.2830 - accuracy: 0.8830 - val_loss: 0.3382 - val_accuracy: 0.8519\n",
      "Epoch 194/200\n",
      "211/211 [==============================] - 28s 133ms/step - loss: 0.2816 - accuracy: 0.8813 - val_loss: 0.3519 - val_accuracy: 0.8472\n",
      "Epoch 195/200\n",
      "211/211 [==============================] - 34s 163ms/step - loss: 0.2864 - accuracy: 0.8752 - val_loss: 0.3216 - val_accuracy: 0.8641\n",
      "Epoch 196/200\n",
      "211/211 [==============================] - 34s 162ms/step - loss: 0.2814 - accuracy: 0.8812 - val_loss: 0.3214 - val_accuracy: 0.8654\n",
      "Epoch 197/200\n",
      "211/211 [==============================] - 25s 118ms/step - loss: 0.2802 - accuracy: 0.8825 - val_loss: 0.3390 - val_accuracy: 0.8585\n",
      "Epoch 198/200\n",
      "211/211 [==============================] - 30s 141ms/step - loss: 0.2868 - accuracy: 0.8787 - val_loss: 0.3517 - val_accuracy: 0.8456\n",
      "Epoch 199/200\n",
      "211/211 [==============================] - 26s 122ms/step - loss: 0.2844 - accuracy: 0.8801 - val_loss: 0.3216 - val_accuracy: 0.8592\n",
      "Epoch 200/200\n",
      "211/211 [==============================] - 27s 128ms/step - loss: 0.2863 - accuracy: 0.8779 - val_loss: 0.3271 - val_accuracy: 0.8603\n"
     ]
    }
   ],
   "source": [
    "\n",
    "callback = tf.keras.callbacks.ModelCheckpoint('best_model.h5', monitor='val_accuracy', mode='max', save_best_only=True)\n",
    "\n",
    "historyf = model.fit([input_trainR0, input_trainR1], output_trainConj, epochs= 200, batch_size = 32, \n",
    "                     validation_split = 0.4, shuffle= True, callbacks=[callback]) # validation_split = 0.33"
   ]
  },
  {
   "cell_type": "code",
   "execution_count": 24,
   "metadata": {},
   "outputs": [],
   "source": [
    "modelBest = keras.models.load_model('best_model_10050525.h5')\n",
    "\n"
   ]
  },
  {
   "cell_type": "code",
   "execution_count": 23,
   "metadata": {},
   "outputs": [
    {
     "name": "stdout",
     "output_type": "stream",
     "text": [
      "117/117 [==============================] - 1s 7ms/step - loss: 0.3812 - accuracy: 0.8460\n"
     ]
    },
    {
     "data": {
      "text/plain": [
       "[0.3812302052974701, 0.8460304737091064]"
      ]
     },
     "execution_count": 23,
     "metadata": {},
     "output_type": "execute_result"
    }
   ],
   "source": [
    "#model.evaluate([input_testR0, input_testR1], output_testConj, batch_size= 32)\n",
    "#modelBest.evaluate([input_testR0, input_testR1], output_testConj, batch_size= 32)"
   ]
  },
  {
   "cell_type": "code",
   "execution_count": 98,
   "metadata": {},
   "outputs": [
    {
     "data": {
      "image/png": "[encoded data removed]",
      "text/plain": [
       "<Figure size 640x480 with 1 Axes>"
      ]
     },
     "metadata": {},
     "output_type": "display_data"
    }
   ],
   "source": [
    "\n",
    "plt.plot(historyf.history['accuracy'])\n",
    "plt.plot(historyf.history['val_accuracy'])\n",
    "plt.title('model accuracy')\n",
    "plt.ylabel('accuracy')\n",
    "plt.xlabel('epoch')\n",
    "plt.legend(['train', 'validation'], loc='upper left')\n",
    "plt.show()"
   ]
  },
  {
   "cell_type": "code",
   "execution_count": 99,
   "metadata": {},
   "outputs": [
    {
     "name": "stdout",
     "output_type": "stream",
     "text": [
      "max val_accuracy :0.86678546667099; min val_loss : 0.3135331869125366\n"
     ]
    }
   ],
   "source": [
    "print('max val_accuracy :' + str(max(historyf.history['val_accuracy'])) + '; ' + 'min val_loss : ' + str(min(historyf.history['val_loss'])) )"
   ]
  },
  {
   "cell_type": "code",
   "execution_count": 18,
   "metadata": {},
   "outputs": [
    {
     "data": {
      "text/plain": [
       "[0.7476052641868591,\n",
       " 0.7576297521591187,\n",
       " 0.7885943651199341,\n",
       " 0.7794609069824219,\n",
       " 0.7190911173820496,\n",
       " 0.7894853949546814,\n",
       " 0.7972822189331055,\n",
       " 0.7687680721282959,\n",
       " 0.8019603490829468,\n",
       " 0.7714412808418274,\n",
       " 0.8108710050582886,\n",
       " 0.8124303817749023,\n",
       " 0.8182223439216614,\n",
       " 0.8115392923355103,\n",
       " 0.8191133737564087,\n",
       " 0.8200044631958008,\n",
       " 0.8099799752235413,\n",
       " 0.8251280784606934,\n",
       " 0.8157718777656555,\n",
       " 0.7848073244094849,\n",
       " 0.8010692596435547,\n",
       " 0.8298062086105347,\n",
       " 0.8278012871742249,\n",
       " 0.8226776719093323,\n",
       " 0.8351525664329529,\n",
       " 0.8135442137718201,\n",
       " 0.8298062086105347,\n",
       " 0.8269101977348328,\n",
       " 0.8246825337409973,\n",
       " 0.8322566151618958,\n",
       " 0.8295834064483643,\n",
       " 0.8231232166290283,\n",
       " 0.8298062086105347,\n",
       " 0.8302517533302307,\n",
       " 0.8367119431495667,\n",
       " 0.8197816610336304,\n",
       " 0.8175539970397949,\n",
       " 0.8231232166290283,\n",
       " 0.8315883278846741,\n",
       " 0.8102027177810669,\n",
       " 0.824237048625946,\n",
       " 0.8313655853271484,\n",
       " 0.8322566151618958,\n",
       " 0.8304744958877563,\n",
       " 0.8135442137718201,\n",
       " 0.8398306965827942,\n",
       " 0.8088661432266235,\n",
       " 0.8327021598815918,\n",
       " 0.8282468318939209,\n",
       " 0.8324794173240662,\n",
       " 0.8211182951927185,\n",
       " 0.8213410377502441,\n",
       " 0.8329249024391174,\n",
       " 0.8322566151618958,\n",
       " 0.830697238445282,\n",
       " 0.8171085119247437,\n",
       " 0.8122076392173767,\n",
       " 0.8177767992019653,\n",
       " 0.8195589184761047,\n",
       " 0.8286923766136169,\n",
       " 0.8367119431495667,\n",
       " 0.8295834064483643,\n",
       " 0.8269101977348328,\n",
       " 0.8213410377502441,\n",
       " 0.8329249024391174,\n",
       " 0.8322566151618958,\n",
       " 0.8200044631958008,\n",
       " 0.8240142464637756,\n",
       " 0.8244597911834717,\n",
       " 0.8282468318939209,\n",
       " 0.8304744958877563,\n",
       " 0.8269101977348328,\n",
       " 0.818445086479187,\n",
       " 0.8251280784606934,\n",
       " 0.8093116283416748,\n",
       " 0.8251280784606934,\n",
       " 0.8159946799278259,\n",
       " 0.8340387344360352,\n",
       " 0.831142783164978,\n",
       " 0.8322566151618958,\n",
       " 0.836043655872345,\n",
       " 0.8327021598815918,\n",
       " 0.8324794173240662,\n",
       " 0.8275785446166992,\n",
       " 0.8211182951927185,\n",
       " 0.8347070813179016,\n",
       " 0.825796365737915,\n",
       " 0.8197816610336304,\n",
       " 0.8302517533302307,\n",
       " 0.8211182951927185,\n",
       " 0.8148808479309082,\n",
       " 0.8211182951927185,\n",
       " 0.8280240297317505,\n",
       " 0.8173312544822693,\n",
       " 0.8302517533302307,\n",
       " 0.8266874551773071,\n",
       " 0.8302517533302307,\n",
       " 0.8295834064483643,\n",
       " 0.8162174224853516,\n",
       " 0.8269101977348328]"
      ]
     },
     "execution_count": 18,
     "metadata": {},
     "output_type": "execute_result"
    }
   ],
   "source": [
    "historyf.history['val_accuracy']"
   ]
  },
  {
   "cell_type": "code",
   "execution_count": 52,
   "metadata": {},
   "outputs": [
    {
     "name": "stdout",
     "output_type": "stream",
     "text": [
      "117/117 [==============================] - 3s 6ms/step\n"
     ]
    },
    {
     "data": {
      "text/plain": [
       "array([[0.20535856],\n",
       "       [0.9682729 ],\n",
       "       [0.58951306],\n",
       "       ...,\n",
       "       [0.20562437],\n",
       "       [0.87147534],\n",
       "       [0.96062887]], dtype=float32)"
      ]
     },
     "execution_count": 52,
     "metadata": {},
     "output_type": "execute_result"
    }
   ],
   "source": [
    "predictOnTest = model.predict([input_testR0, input_testR1])\n",
    "predictOnTest"
   ]
  },
  {
   "cell_type": "code",
   "execution_count": 262,
   "metadata": {},
   "outputs": [
    {
     "data": {
      "text/plain": [
       "array([0, 1, 0, 1, 1, 0, 0, 1, 1, 0, 0, 1, 1, 0, 0, 1, 1, 0, 0, 0, 0, 1,\n",
       "       1, 0, 1, 1, 0])"
      ]
     },
     "execution_count": 262,
     "metadata": {},
     "output_type": "execute_result"
    }
   ],
   "source": [
    "output_test1"
   ]
  },
  {
   "cell_type": "code",
   "execution_count": 263,
   "metadata": {},
   "outputs": [
    {
     "data": {
      "text/plain": [
       "array([0, 1, 0, 1, 1, 0, 0, 1, 1, 0, 0, 1, 1, 0, 0, 0, 1, 0, 0, 0, 0, 1,\n",
       "       1, 0, 1, 1, 0])"
      ]
     },
     "execution_count": 263,
     "metadata": {},
     "output_type": "execute_result"
    }
   ],
   "source": [
    "classifiedArrayPredict = myClassify(predictOnTest, 0.5)\n",
    "np.array(classifiedArrayPredict)"
   ]
  },
  {
   "cell_type": "code",
   "execution_count": 264,
   "metadata": {},
   "outputs": [
    {
     "data": {
      "text/plain": [
       "['OK : agagggtgtactccaagaagaggaagatgaggctagacgtctctgcatggagtatga',\n",
       " 'OK : gcaaaaataaatgcttgactctgtagcgggaaggcgtattatgcacaccccgcgccg',\n",
       " 'OK : ttcgtctccgcgactacgatgagatgcctgagtgcttccgttactggattgtcacca',\n",
       " 'OK : gtactagagaactagtgcattagcttatttttttgttatcatgctaaccacccggcg',\n",
       " 'OK : aaattaaaattttattgacttaggtcactaaatactttaaccaatataggcatagcg',\n",
       " 'OK : tatgaccgaacgagtcaatcagaccgctttgactctggtattactgtgaacattatt',\n",
       " 'OK : taacattaataaataaggaggctctaatggcactcattagccaatcaatcaagaact',\n",
       " 'OK : tttctacaaaacacttgatactgtatgagcatacagtataattgcttcaacagaaca',\n",
       " 'OK : atgcatttttccgcttgtcttcctgagccgactccctataatgcgcctccatcgaca',\n",
       " 'OK : tattggcttgctcaagcatgaactcaaggctgatacggcgagacttgcgagccttgt',\n",
       " 'OK : aacgagtcaatcagaccgctttgactctggtattactgtgaacattattcgtctccg',\n",
       " 'OK : tctgaaatgagctgttgacaattaatcatcgaactagttaactagtacgcaagttca',\n",
       " 'OK : cactaatttattccatgtcacacttttcgcatctttgttatgctatggttatttcat',\n",
       " 'OK : gaggtggctatgtgtatgaccgaacgagtcaatcagaccgctttgactctggtatta',\n",
       " 'OK : catgtcagcctcgacaacttgcataaatgctttcttgtagacgtgccctacgcgctt',\n",
       " 'NOK : tcagaaatattatggtgatgaactgtttttttatccagtataatttgttggcataat',\n",
       " 'OK : ctgcaatttttctattgcggcctgcggagaactccctataatgcgcctccatcgaca',\n",
       " 'OK : tgctgaaaggaggaactatatgcgctcatacgatatgaacgttgagactgccgctga',\n",
       " 'OK : tctcgtggatggacgttcaacattgaggaaggcataacgctactacctgatgtttac',\n",
       " 'OK : cgaacgagtcaatcagaccgctttgactctggtattactgtgaacattattcgtctc',\n",
       " 'OK : cctcaatggcctctaaacgggtcttgaggggttttttgctgaaaggaggaactatat',\n",
       " 'OK : cgacttaatatactgcgacaggacgtccgttctgtgtaaatcgcaatgaaatggttt',\n",
       " 'OK : catcctcgcaccagtcgacgacggtttacgctttacgtatagtggcgacaatttttt',\n",
       " 'OK : aaccattccggttgactcaatgagcatctcgatgcagcgtactcctacatgaataga',\n",
       " 'OK : taaaaaactaacagttgtcagcctgtcccgcttataagatcatacgccgttatacgt',\n",
       " 'OK : aattgtgatgtgtatcgaagtgtgttgcggagtagatgttagaatactaacaaactc',\n",
       " 'OK : ttactgtgaacattattcgtctccgcgactacgatgagatgcctgagtgcttccgtt']"
      ]
     },
     "execution_count": 264,
     "metadata": {},
     "output_type": "execute_result"
    }
   ],
   "source": [
    "\n",
    "comparePredictOkNokWithSeq(classifiedArrayPredict, output_test, sequence_test)"
   ]
  },
  {
   "cell_type": "code",
   "execution_count": 94,
   "metadata": {},
   "outputs": [
    {
     "data": {
      "text/plain": [
       "array([[ 0.23533559,  0.42990232, -0.25082487, -0.15267515,  0.26705414,\n",
       "         0.41497964,  0.27988416,  0.37338895, -0.29958403, -0.04501176],\n",
       "       [ 0.42684212,  0.07528386,  0.28260273, -0.10901958, -0.15239488,\n",
       "         0.44041243,  0.01431945,  0.2730652 ,  0.4608476 ,  0.46495697],\n",
       "       [ 0.45438316,  0.02100177,  0.29724106, -0.24716143, -0.4676595 ,\n",
       "         0.4724816 , -0.3817394 ,  0.19320472,  0.42271256, -0.05679994],\n",
       "       [ 0.15253878, -0.10971248, -0.04070297, -0.21874414, -0.08176634,\n",
       "         0.28545243, -0.43704703,  0.18602677,  0.22525644,  0.47238237],\n",
       "       [-0.46574974, -0.4418646 , -0.38255867, -0.34078255, -0.23755996,\n",
       "         0.2713209 ,  0.27443305, -0.03233695,  0.24816659, -0.28621373],\n",
       "       [ 0.07085161,  0.39532802, -0.03007789, -0.32714292,  0.49284223,\n",
       "         0.18271512, -0.03359003, -0.21458982, -0.42486927,  0.06511235],\n",
       "       [ 0.2713358 , -0.27115414,  0.34532204, -0.23495436, -0.43641958,\n",
       "        -0.3368862 ,  0.12960823,  0.10995054, -0.19554421, -0.07720792],\n",
       "       [-0.04590143,  0.3942591 ,  0.00566856,  0.19669637, -0.06631317,\n",
       "        -0.42244568, -0.06407813, -0.1728232 ,  0.46452302,  0.21050097],\n",
       "       [ 0.08060884,  0.37193573, -0.354489  , -0.44815534, -0.00615418,\n",
       "        -0.2734092 ,  0.00961146,  0.40794468,  0.34805787,  0.3050058 ],\n",
       "       [-0.13335842, -0.24585015, -0.33572006, -0.45683667, -0.01444119,\n",
       "        -0.10833547, -0.05962682, -0.15336625, -0.36658153,  0.31347117],\n",
       "       [-0.19820169, -0.153704  , -0.04638202,  0.4839829 ,  0.26289713,\n",
       "        -0.2991848 ,  0.3665354 ,  0.22821838,  0.07212699, -0.3094584 ],\n",
       "       [-0.00911083,  0.29570737, -0.16099177, -0.26788437,  0.39560342,\n",
       "        -0.16354184, -0.44186142, -0.35942614,  0.35737228,  0.10719667],\n",
       "       [-0.15877792,  0.34966612,  0.01691701, -0.06887166,  0.12856776,\n",
       "        -0.33047417,  0.20484395,  0.02976446, -0.3235725 , -0.22644459],\n",
       "       [ 0.09975111,  0.4164229 , -0.05972092,  0.4724858 ,  0.07625274,\n",
       "        -0.37556273, -0.41675794,  0.1072961 , -0.22256404,  0.07434572],\n",
       "       [-0.33588484, -0.26314247,  0.48928934, -0.42041746,  0.49042416,\n",
       "        -0.07778177,  0.13300411,  0.34206462,  0.41866353,  0.38699016],\n",
       "       [ 0.25059113,  0.18620391,  0.01138588,  0.03915464, -0.4131867 ,\n",
       "        -0.11133797, -0.00348904,  0.08867157, -0.30682206,  0.0675555 ]],\n",
       "      dtype=float32)"
      ]
     },
     "execution_count": 94,
     "metadata": {},
     "output_type": "execute_result"
    }
   ],
   "source": [
    "model.layers[0].get_weights()[0][0]"
   ]
  }
 ],
 "metadata": {
  "kernelspec": {
   "display_name": "base",
   "language": "python",
   "name": "python3"
  },
  "language_info": {
   "codemirror_mode": {
    "name": "ipython",
    "version": 3
   },
   "file_extension": ".py",
   "mimetype": "text/x-python",
   "name": "python",
   "nbconvert_exporter": "python",
   "pygments_lexer": "ipython3",
   "version": "3.10.9"
  }
 },
 "nbformat": 4,
 "nbformat_minor": 2
}
