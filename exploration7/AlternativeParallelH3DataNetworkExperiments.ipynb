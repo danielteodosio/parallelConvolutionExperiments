{
 "cells": [
  {
   "cell_type": "code",
   "execution_count": 1,
   "metadata": {},
   "outputs": [],
   "source": [
    "import numpy as np\n",
    "import pandas as pd\n",
    "import matplotlib.pyplot as plt\n",
    "import tensorflow as tf\n",
    "from tensorflow import keras\n",
    "from sklearn.model_selection import train_test_split\n",
    "from sklearn.preprocessing import StandardScaler\n",
    "import pickle\n"
   ]
  },
  {
   "cell_type": "code",
   "execution_count": 10,
   "metadata": {},
   "outputs": [],
   "source": [
    "#utils\n",
    "\n",
    "def carregar_pickle(nome_arquivo):\n",
    "  with open(nome_arquivo, 'rb') as arquivo:\n",
    "    objeto = pickle.load(arquivo)\n",
    "  return objeto"
   ]
  },
  {
   "cell_type": "markdown",
   "metadata": {},
   "source": [
    "#### carregando h3 w3_s1"
   ]
  },
  {
   "cell_type": "code",
   "execution_count": 4,
   "metadata": {},
   "outputs": [],
   "source": [
    "raw_data_set1 = carregar_pickle('dataset_H3_W3S1.pkl')\n",
    "input_full1 = raw_data_set1['inputs']\n",
    "output_full1 = raw_data_set1['outputs']\n",
    "sequences_full1 = raw_data_set1['sequences']"
   ]
  },
  {
   "cell_type": "markdown",
   "metadata": {},
   "source": [
    "#### carregando h3 w12_s4"
   ]
  },
  {
   "cell_type": "code",
   "execution_count": 5,
   "metadata": {},
   "outputs": [],
   "source": [
    "raw_data_set2 = carregar_pickle('dataset_H3_W12S4.pkl')\n",
    "input_full2 = raw_data_set2['inputs']\n",
    "output_full2 = raw_data_set2['outputs']\n",
    "sequences_full2 = raw_data_set2['sequences']"
   ]
  },
  {
   "cell_type": "markdown",
   "metadata": {},
   "source": [
    "#### carregando multiplas representações"
   ]
  },
  {
   "cell_type": "code",
   "execution_count": 11,
   "metadata": {},
   "outputs": [],
   "source": [
    "raw_data_setR0 = carregar_pickle('dataset_H3_W3S1.pkl')\n",
    "input_fullR0 = raw_data_setR0['inputs']\n",
    "output_fullR0 = raw_data_setR0['outputs']\n",
    "sequences_fullR0 = raw_data_setR0['sequences']\n",
    "\n",
    "raw_data_setR1 = carregar_pickle('dataset_H3_W4S2.pkl')\n",
    "input_fullR1 = raw_data_setR1['inputs']\n",
    "output_fullR1 = raw_data_setR1['outputs']\n",
    "sequences_fullR1 = raw_data_setR1['sequences']"
   ]
  },
  {
   "cell_type": "code",
   "execution_count": 7,
   "metadata": {},
   "outputs": [
    {
     "name": "stdout",
     "output_type": "stream",
     "text": [
      "n of difs: 0\n",
      "Ordem OK\n"
     ]
    }
   ],
   "source": [
    "validaSequencesOrder(sequences_fullR0, sequences_fullR1)"
   ]
  },
  {
   "cell_type": "code",
   "execution_count": 8,
   "metadata": {},
   "outputs": [
    {
     "data": {
      "text/plain": [
       "(14963, 497, 16)"
      ]
     },
     "execution_count": 8,
     "metadata": {},
     "output_type": "execute_result"
    }
   ],
   "source": [
    "input_fullR0.shape"
   ]
  },
  {
   "cell_type": "markdown",
   "metadata": {},
   "source": [
    "#### criando datasets w3_s1"
   ]
  },
  {
   "cell_type": "code",
   "execution_count": 22,
   "metadata": {},
   "outputs": [
    {
     "ename": "NameError",
     "evalue": "name 'input_full1' is not defined",
     "output_type": "error",
     "traceback": [
      "\u001b[1;31m---------------------------------------------------------------------------\u001b[0m",
      "\u001b[1;31mNameError\u001b[0m                                 Traceback (most recent call last)",
      "Cell \u001b[1;32mIn[22], line 1\u001b[0m\n\u001b[1;32m----> 1\u001b[0m input_train1, input_test1, output_train1, output_test1, sequence_train1, sequence_test1 \u001b[38;5;241m=\u001b[39m train_test_split(\u001b[43minput_full1\u001b[49m, output_full1, \n\u001b[0;32m      2\u001b[0m sequences_full1, train_size\u001b[38;5;241m=\u001b[39m\u001b[38;5;241m0.75\u001b[39m , shuffle\u001b[38;5;241m=\u001b[39m \u001b[38;5;28;01mTrue\u001b[39;00m, random_state \u001b[38;5;241m=\u001b[39m \u001b[38;5;241m0\u001b[39m)\n",
      "\u001b[1;31mNameError\u001b[0m: name 'input_full1' is not defined"
     ]
    }
   ],
   "source": [
    "input_train1, input_test1, output_train1, output_test1, sequence_train1, sequence_test1 = train_test_split(input_full1, output_full1, \n",
    "sequences_full1, train_size=0.75 , shuffle= True, random_state = 0);"
   ]
  },
  {
   "cell_type": "markdown",
   "metadata": {},
   "source": [
    "#### criando datasets w12_s4"
   ]
  },
  {
   "cell_type": "code",
   "execution_count": 12,
   "metadata": {},
   "outputs": [
    {
     "ename": "NameError",
     "evalue": "name 'input_full2' is not defined",
     "output_type": "error",
     "traceback": [
      "\u001b[1;31m---------------------------------------------------------------------------\u001b[0m",
      "\u001b[1;31mNameError\u001b[0m                                 Traceback (most recent call last)",
      "Cell \u001b[1;32mIn[12], line 1\u001b[0m\n\u001b[1;32m----> 1\u001b[0m input_train2, input_test2, output_train2, output_test2, sequence_train2, sequence_test2 \u001b[38;5;241m=\u001b[39m train_test_split(\u001b[43minput_full2\u001b[49m, output_full2, \n\u001b[0;32m      2\u001b[0m sequences_full2, train_size\u001b[38;5;241m=\u001b[39m\u001b[38;5;241m0.75\u001b[39m , shuffle\u001b[38;5;241m=\u001b[39m \u001b[38;5;28;01mTrue\u001b[39;00m, random_state \u001b[38;5;241m=\u001b[39m \u001b[38;5;241m0\u001b[39m)\n",
      "\u001b[1;31mNameError\u001b[0m: name 'input_full2' is not defined"
     ]
    }
   ],
   "source": [
    "input_train2, input_test2, output_train2, output_test2, sequence_train2, sequence_test2 = train_test_split(input_full2, output_full2, \n",
    "sequences_full2, train_size=0.75 , shuffle= True, random_state = 0);"
   ]
  },
  {
   "cell_type": "markdown",
   "metadata": {},
   "source": [
    "#### criando dataset conjunto"
   ]
  },
  {
   "cell_type": "code",
   "execution_count": 14,
   "metadata": {},
   "outputs": [],
   "source": [
    "input_trainR0, input_testR0, input_trainR1, input_testR1, output_trainConj, output_testConj, sequence_trainConj, sequence_testConj = train_test_split(input_fullR0, input_fullR1, output_fullR0, \n",
    "sequences_fullR0, train_size=0.75 , shuffle= True, random_state = 0);"
   ]
  },
  {
   "cell_type": "code",
   "execution_count": 10,
   "metadata": {},
   "outputs": [
    {
     "data": {
      "text/plain": [
       "(11222, 122, 52)"
      ]
     },
     "execution_count": 10,
     "metadata": {},
     "output_type": "execute_result"
    }
   ],
   "source": [
    "input_trainR1.shape"
   ]
  },
  {
   "cell_type": "code",
   "execution_count": 7,
   "metadata": {},
   "outputs": [],
   "source": [
    "#utils\n",
    "\n",
    "# binariza resultado da classificação da RN. \n",
    "#param: array -> Rn output, corte -> x > corte significa 1\n",
    "def myClassify(array, corte):\n",
    "    classifiedArray = []\n",
    "    for x in array:\n",
    "        if(x > corte):\n",
    "            classifiedArray.append(1)\n",
    "        else:\n",
    "            classifiedArray.append(0)\n",
    "    \n",
    "    return classifiedArray\n",
    "\n",
    "# Retorna lista com Ok/Nok para predição binarizada  e valor real\n",
    "# param: arrPredict -> predict da rede\n",
    "# param: arrReal -> valores reais de referência\n",
    "def comparePredictOkNok(arrPredict, arrReal):\n",
    "\n",
    "    sizePredict = len(arrPredict)\n",
    "    sizeArrReal = len(arrReal)\n",
    "\n",
    "    if(sizePredict != sizeArrReal):\n",
    "        print('tamanho dos arrays é imcompatível')\n",
    "        return\n",
    "\n",
    "    size = sizeArrReal\n",
    "\n",
    "    arrOkNok = []\n",
    "    for i in range(0, size):\n",
    "        if(arrPredict[i] == arrReal[i]):\n",
    "            arrOkNok.append('OK')\n",
    "        else:\n",
    "            arrOkNok.append('NOK')\n",
    "    \n",
    "    return arrOkNok\n",
    "\n",
    "\n",
    "\n",
    "# Retorna lista com Ok/Nok para predição binarizada  e valor real\n",
    "# param: arrPredict -> predict da rede\n",
    "# param: arrReal -> valores reais de referência\n",
    "# param: sequenceTest -> sequencia correspondente\n",
    "def comparePredictOkNokWithSeq(arrPredict, arrReal, sequenceTest):\n",
    "\n",
    "    sizePredict = len(arrPredict)\n",
    "    sizeArrReal = len(arrReal)\n",
    "\n",
    "    if(sizePredict != sizeArrReal):\n",
    "        print('tamanho dos arrays é imcompatível')\n",
    "        return\n",
    "\n",
    "    size = sizeArrReal\n",
    "\n",
    "    arrOkNok = []\n",
    "    for i in range(0, size):\n",
    "        if(arrPredict[i] == arrReal[i]):\n",
    "            arrOkNok.append('OK' + ' : ' + sequenceTest[i])\n",
    "        else:\n",
    "            arrOkNok.append('NOK' + ' : ' + sequenceTest[i])\n",
    "    \n",
    "    return arrOkNok\n",
    "        \n"
   ]
  },
  {
   "cell_type": "code",
   "execution_count": 8,
   "metadata": {},
   "outputs": [],
   "source": [
    "def verifyIfSeqWindowAndStrideMatches(seqSize, windowSize, strideSize):\n",
    "    last_window_start = 0\n",
    "    nOfStrides = 0\n",
    "    while (last_window_start + windowSize - 1) < (seqSize - 1):\n",
    "        last_window_start = strideSize * nOfStrides\n",
    "        nOfStrides = nOfStrides + 1\n",
    "        #print(last_window_start)\n",
    "        #print(nOfStrides)\n",
    "        #print(' ')\n",
    "\n",
    "    print('n of windows: ' + str(nOfStrides))\n",
    "    print('last window start: ' + str(last_window_start))\n",
    "    print('last window end: ' + str(last_window_start + windowSize - 1))\n",
    "    print('max seq position: ' + str(seqSize - 1))\n",
    "\n",
    "\n",
    "\n",
    "def validaSequencesOrder(seq0, seq1):\n",
    "    i = 0\n",
    "    d = 0\n",
    "    while i < len(seq0):\n",
    "        #print(seq0[i][0:15] + ' - ' + seq1[i][0:15])\n",
    "        if(seq0[i] != seq1[i]):\n",
    "            d = d+1\n",
    "        i = i + 1\n",
    "\n",
    "    if d > 0:\n",
    "        print('n of difs: ' + str(d))\n",
    "        print('Ordem NOK')\n",
    "    else:\n",
    "        print('n of difs: ' + str(d))\n",
    "        print('Ordem OK')\n",
    "\n"
   ]
  },
  {
   "cell_type": "code",
   "execution_count": 1,
   "metadata": {},
   "outputs": [
    {
     "ename": "NameError",
     "evalue": "name 'verifyIfSeqWindowAndStrideMatches' is not defined",
     "output_type": "error",
     "traceback": [
      "\u001b[1;31m---------------------------------------------------------------------------\u001b[0m",
      "\u001b[1;31mNameError\u001b[0m                                 Traceback (most recent call last)",
      "Cell \u001b[1;32mIn[1], line 1\u001b[0m\n\u001b[1;32m----> 1\u001b[0m \u001b[43mverifyIfSeqWindowAndStrideMatches\u001b[49m(\u001b[38;5;241m38\u001b[39m,\u001b[38;5;241m8\u001b[39m,\u001b[38;5;241m5\u001b[39m)\n",
      "\u001b[1;31mNameError\u001b[0m: name 'verifyIfSeqWindowAndStrideMatches' is not defined"
     ]
    }
   ],
   "source": [
    "verifyIfSeqWindowAndStrideMatches(38,8,5)   # 38,8,5 -> 7    #163, 37, 21 => 7"
   ]
  },
  {
   "cell_type": "code",
   "execution_count": 16,
   "metadata": {},
   "outputs": [
    {
     "data": {
      "text/plain": [
       "(497, 16)"
      ]
     },
     "execution_count": 16,
     "metadata": {},
     "output_type": "execute_result"
    }
   ],
   "source": [
    "input_train1[0].shape"
   ]
  },
  {
   "cell_type": "markdown",
   "metadata": {},
   "source": [
    "#### implementação funcional paralela"
   ]
  },
  {
   "cell_type": "code",
   "execution_count": 24,
   "metadata": {},
   "outputs": [],
   "source": [
    "inputR0 = keras.Input(shape=(497, 16)) \n",
    "conv1R0 = keras.layers.Conv1D(10, kernel_size= 1, strides= 1, padding='valid', activation='relu', input_shape = (497, 16), use_bias= True)(inputR0)\n",
    "pool1R0 = keras.layers.AveragePooling1D(pool_size=11, strides= 3, padding='valid')(conv1R0)\n",
    "conv2R0 = keras.layers.Conv1D(35, kernel_size= 1, strides= 1, padding='valid', activation='relu', input_shape = (163, 10), use_bias= True)(pool1R0)\n",
    "pool2R0 = keras.layers.GlobalAveragePooling1D()(conv2R0)\n",
    "flatR0 = keras.layers.Flatten()(pool2R0)\n",
    "\n",
    "subDense0 = keras.layers.Dense(35, activation=keras.layers.LeakyReLU(alpha=0.3))(flatR0)  #keras.layers.LeakyReLU(alpha=0.3)\n",
    "outputSubDense0 = keras.layers.Dense(10, activation='sigmoid')(subDense0)\n",
    "\n",
    "flatDense0 = keras.layers.Flatten()(outputSubDense0)\n",
    "\n",
    "\n",
    "\n",
    "inputR1 = keras.Input(shape=(248, 18)) \n",
    "conv1R1 = keras.layers.Conv1D(10, kernel_size= 1, strides= 1, padding='valid', activation='relu', input_shape = (248, 18), use_bias= True)(inputR1)\n",
    "pool1R1 = keras.layers.AveragePooling1D(pool_size=11, strides= 3, padding='valid')(conv1R1)\n",
    "conv2R1 = keras.layers.Conv1D(35, kernel_size= 1, strides= 1, padding='valid', activation='relu', input_shape = (80, 10), use_bias= True)(pool1R1)\n",
    "pool2R1 = keras.layers.GlobalAveragePooling1D()(conv2R1)\n",
    "flatR1 =  keras.layers.Flatten()(pool2R1)\n",
    "\n",
    "subDense1 = keras.layers.Dense(35, activation=keras.layers.LeakyReLU(alpha=0.3))(flatR1)  #keras.layers.LeakyReLU(alpha=0.3)\n",
    "outputSubDense1 = keras.layers.Dense(10, activation='sigmoid')(subDense1)\n",
    "\n",
    "flatDense1 = keras.layers.Flatten()(outputSubDense1)\n",
    "\n",
    "concatenated_layers = keras.layers.concatenate([flatDense0, flatDense1])\n",
    "\n",
    "# convOut = keras.layers.Conv1D(60, kernel_size= 1, strides= 1, \n",
    "#                               padding='valid', activation='relu', use_bias= True)(concatenate_filters)\n",
    "\n",
    "#poolOut = keras.layers.GlobalAveragePooling1D()(convOut)\n",
    "\n",
    "# flatOut =  keras.layers.Flatten()(concatenate_filters)\n",
    "\n",
    "dense1 = keras.layers.Dense(20, activation=keras.layers.LeakyReLU(alpha=0.3))(concatenated_layers)  #keras.layers.LeakyReLU(alpha=0.3)\n",
    "dense2 = keras.layers.Dense(10, activation=keras.layers.LeakyReLU(alpha=0.3))(dense1)\n",
    "#dense3 = keras.layers.Dense(10, activation=keras.layers.LeakyReLU(alpha=0.3))(dense2)\n",
    "outpu1 = keras.layers.Dense(1, activation='sigmoid')(dense2)\n",
    "\n",
    "model = keras.Model(inputs= [inputR0, inputR1], outputs=outpu1)\n",
    "\n",
    "\n",
    "\n",
    "\n",
    "# CNN = keras.Sequential()\n",
    "\n",
    "# CNN.add(keras.layers.Conv1D(10, kernel_size= 1, strides= 1, padding='valid', activation='relu', input_shape = (122, 52), use_bias= True))    #activation='relu'\n",
    "# CNN.add(keras.layers.AveragePooling1D(pool_size=11, strides= 3, padding='valid'))\n",
    "\n",
    "# CNN.add(keras.layers.Conv1D(35, kernel_size= 1, strides= 1, padding='valid', \n",
    "#                             activation='relu', input_shape = (38, 10), use_bias= True))\n",
    "# #CNN.add(keras.layers.AveragePooling1D(pool_size=8, strides= 5, padding='valid'))\n",
    "# CNN.add(keras.layers.GlobalAveragePooling1D())\n"
   ]
  },
  {
   "cell_type": "code",
   "execution_count": 25,
   "metadata": {},
   "outputs": [
    {
     "name": "stdout",
     "output_type": "stream",
     "text": [
      "Model: \"model_5\"\n",
      "__________________________________________________________________________________________________\n",
      " Layer (type)                   Output Shape         Param #     Connected to                     \n",
      "==================================================================================================\n",
      " input_11 (InputLayer)          [(None, 497, 16)]    0           []                               \n",
      "                                                                                                  \n",
      " input_12 (InputLayer)          [(None, 248, 18)]    0           []                               \n",
      "                                                                                                  \n",
      " conv1d_20 (Conv1D)             (None, 497, 10)      170         ['input_11[0][0]']               \n",
      "                                                                                                  \n",
      " conv1d_22 (Conv1D)             (None, 248, 10)      190         ['input_12[0][0]']               \n",
      "                                                                                                  \n",
      " average_pooling1d_10 (AverageP  (None, 163, 10)     0           ['conv1d_20[0][0]']              \n",
      " ooling1D)                                                                                        \n",
      "                                                                                                  \n",
      " average_pooling1d_11 (AverageP  (None, 80, 10)      0           ['conv1d_22[0][0]']              \n",
      " ooling1D)                                                                                        \n",
      "                                                                                                  \n",
      " conv1d_21 (Conv1D)             (None, 163, 35)      385         ['average_pooling1d_10[0][0]']   \n",
      "                                                                                                  \n",
      " conv1d_23 (Conv1D)             (None, 80, 35)       385         ['average_pooling1d_11[0][0]']   \n",
      "                                                                                                  \n",
      " global_average_pooling1d_10 (G  (None, 35)          0           ['conv1d_21[0][0]']              \n",
      " lobalAveragePooling1D)                                                                           \n",
      "                                                                                                  \n",
      " global_average_pooling1d_11 (G  (None, 35)          0           ['conv1d_23[0][0]']              \n",
      " lobalAveragePooling1D)                                                                           \n",
      "                                                                                                  \n",
      " flatten_9 (Flatten)            (None, 35)           0           ['global_average_pooling1d_10[0][\n",
      "                                                                 0]']                             \n",
      "                                                                                                  \n",
      " flatten_11 (Flatten)           (None, 35)           0           ['global_average_pooling1d_11[0][\n",
      "                                                                 0]']                             \n",
      "                                                                                                  \n",
      " dense_19 (Dense)               (None, 35)           1260        ['flatten_9[0][0]']              \n",
      "                                                                                                  \n",
      " dense_21 (Dense)               (None, 35)           1260        ['flatten_11[0][0]']             \n",
      "                                                                                                  \n",
      " dense_20 (Dense)               (None, 10)           360         ['dense_19[0][0]']               \n",
      "                                                                                                  \n",
      " dense_22 (Dense)               (None, 10)           360         ['dense_21[0][0]']               \n",
      "                                                                                                  \n",
      " flatten_10 (Flatten)           (None, 10)           0           ['dense_20[0][0]']               \n",
      "                                                                                                  \n",
      " flatten_12 (Flatten)           (None, 10)           0           ['dense_22[0][0]']               \n",
      "                                                                                                  \n",
      " concatenate_5 (Concatenate)    (None, 20)           0           ['flatten_10[0][0]',             \n",
      "                                                                  'flatten_12[0][0]']             \n",
      "                                                                                                  \n",
      " dense_23 (Dense)               (None, 20)           420         ['concatenate_5[0][0]']          \n",
      "                                                                                                  \n",
      " dense_24 (Dense)               (None, 10)           210         ['dense_23[0][0]']               \n",
      "                                                                                                  \n",
      " dense_25 (Dense)               (None, 1)            11          ['dense_24[0][0]']               \n",
      "                                                                                                  \n",
      "==================================================================================================\n",
      "Total params: 5,011\n",
      "Trainable params: 5,011\n",
      "Non-trainable params: 0\n",
      "__________________________________________________________________________________________________\n"
     ]
    }
   ],
   "source": [
    "model.summary();\n",
    "keras.utils.plot_model(model);"
   ]
  },
  {
   "cell_type": "markdown",
   "metadata": {},
   "source": [
    "#### implemetação paralela"
   ]
  },
  {
   "cell_type": "code",
   "execution_count": 26,
   "metadata": {},
   "outputs": [],
   "source": [
    "model.compile(loss=keras.losses.BinaryCrossentropy(reduction='sum_over_batch_size'), metrics=['accuracy']\n",
    "            , optimizer= keras.optimizers.Adam(learning_rate=0.001))   #sum_over_batch_size"
   ]
  },
  {
   "cell_type": "code",
   "execution_count": 27,
   "metadata": {},
   "outputs": [
    {
     "name": "stdout",
     "output_type": "stream",
     "text": [
      "Epoch 1/200\n",
      "211/211 [==============================] - 27s 111ms/step - loss: 0.6910 - accuracy: 0.5047 - val_loss: 0.6820 - val_accuracy: 0.5086\n",
      "Epoch 2/200\n",
      "211/211 [==============================] - 24s 112ms/step - loss: 0.5831 - accuracy: 0.7120 - val_loss: 0.4923 - val_accuracy: 0.7761\n",
      "Epoch 3/200\n",
      "211/211 [==============================] - 21s 101ms/step - loss: 0.4969 - accuracy: 0.7665 - val_loss: 0.4811 - val_accuracy: 0.7788\n",
      "Epoch 4/200\n",
      "211/211 [==============================] - 21s 98ms/step - loss: 0.4803 - accuracy: 0.7783 - val_loss: 0.4714 - val_accuracy: 0.7866\n",
      "Epoch 5/200\n",
      "211/211 [==============================] - 21s 101ms/step - loss: 0.4760 - accuracy: 0.7803 - val_loss: 0.4632 - val_accuracy: 0.7886\n",
      "Epoch 6/200\n",
      "211/211 [==============================] - 21s 101ms/step - loss: 0.4702 - accuracy: 0.7846 - val_loss: 0.4592 - val_accuracy: 0.7919\n",
      "Epoch 7/200\n",
      "211/211 [==============================] - 21s 100ms/step - loss: 0.4704 - accuracy: 0.7818 - val_loss: 0.4567 - val_accuracy: 0.7942\n",
      "Epoch 8/200\n",
      "211/211 [==============================] - 30s 141ms/step - loss: 0.4647 - accuracy: 0.7851 - val_loss: 0.4691 - val_accuracy: 0.7877\n",
      "Epoch 9/200\n",
      "211/211 [==============================] - 20s 96ms/step - loss: 0.4665 - accuracy: 0.7838 - val_loss: 0.4912 - val_accuracy: 0.7712\n",
      "Epoch 10/200\n",
      "211/211 [==============================] - 21s 102ms/step - loss: 0.4583 - accuracy: 0.7876 - val_loss: 0.4535 - val_accuracy: 0.7988\n",
      "Epoch 11/200\n",
      "211/211 [==============================] - 20s 96ms/step - loss: 0.4503 - accuracy: 0.7955 - val_loss: 0.4511 - val_accuracy: 0.7973\n",
      "Epoch 12/200\n",
      "211/211 [==============================] - 21s 98ms/step - loss: 0.4498 - accuracy: 0.7927 - val_loss: 0.4455 - val_accuracy: 0.8013\n",
      "Epoch 13/200\n",
      "211/211 [==============================] - 21s 98ms/step - loss: 0.4467 - accuracy: 0.7931 - val_loss: 0.4785 - val_accuracy: 0.7755\n",
      "Epoch 14/200\n",
      "211/211 [==============================] - 21s 99ms/step - loss: 0.4476 - accuracy: 0.7968 - val_loss: 0.4418 - val_accuracy: 0.8031\n",
      "Epoch 15/200\n",
      "211/211 [==============================] - 21s 100ms/step - loss: 0.4415 - accuracy: 0.7940 - val_loss: 0.4674 - val_accuracy: 0.7877\n",
      "Epoch 16/200\n",
      "211/211 [==============================] - 21s 99ms/step - loss: 0.4370 - accuracy: 0.8017 - val_loss: 0.4487 - val_accuracy: 0.7975\n",
      "Epoch 17/200\n",
      "211/211 [==============================] - 21s 98ms/step - loss: 0.4352 - accuracy: 0.8014 - val_loss: 0.4433 - val_accuracy: 0.8006\n",
      "Epoch 18/200\n",
      "211/211 [==============================] - 21s 99ms/step - loss: 0.4325 - accuracy: 0.8014 - val_loss: 0.4337 - val_accuracy: 0.8057\n",
      "Epoch 19/200\n",
      "211/211 [==============================] - 21s 98ms/step - loss: 0.4299 - accuracy: 0.8025 - val_loss: 0.4512 - val_accuracy: 0.7953\n",
      "Epoch 20/200\n",
      "211/211 [==============================] - 23s 109ms/step - loss: 0.4304 - accuracy: 0.8050 - val_loss: 0.4286 - val_accuracy: 0.8078\n",
      "Epoch 21/200\n",
      "211/211 [==============================] - 21s 98ms/step - loss: 0.4230 - accuracy: 0.8048 - val_loss: 0.4334 - val_accuracy: 0.8093\n",
      "Epoch 22/200\n",
      "211/211 [==============================] - 21s 100ms/step - loss: 0.4273 - accuracy: 0.8044 - val_loss: 0.4605 - val_accuracy: 0.7942\n",
      "Epoch 23/200\n",
      "211/211 [==============================] - 23s 108ms/step - loss: 0.4253 - accuracy: 0.8090 - val_loss: 0.4353 - val_accuracy: 0.8024\n",
      "Epoch 24/200\n",
      "211/211 [==============================] - 21s 101ms/step - loss: 0.4171 - accuracy: 0.8086 - val_loss: 0.4210 - val_accuracy: 0.8135\n",
      "Epoch 25/200\n",
      "211/211 [==============================] - 21s 98ms/step - loss: 0.4194 - accuracy: 0.8099 - val_loss: 0.4290 - val_accuracy: 0.8147\n",
      "Epoch 26/200\n",
      "211/211 [==============================] - 21s 101ms/step - loss: 0.4137 - accuracy: 0.8129 - val_loss: 0.4261 - val_accuracy: 0.8176\n",
      "Epoch 27/200\n",
      "211/211 [==============================] - 21s 100ms/step - loss: 0.4166 - accuracy: 0.8163 - val_loss: 0.4668 - val_accuracy: 0.7917\n",
      "Epoch 28/200\n",
      "211/211 [==============================] - 22s 102ms/step - loss: 0.4127 - accuracy: 0.8169 - val_loss: 0.4256 - val_accuracy: 0.8091\n",
      "Epoch 29/200\n",
      "211/211 [==============================] - 21s 101ms/step - loss: 0.4109 - accuracy: 0.8158 - val_loss: 0.4287 - val_accuracy: 0.8095\n",
      "Epoch 30/200\n",
      "211/211 [==============================] - 22s 106ms/step - loss: 0.4081 - accuracy: 0.8166 - val_loss: 0.4384 - val_accuracy: 0.8024\n",
      "Epoch 31/200\n",
      "211/211 [==============================] - 21s 99ms/step - loss: 0.4043 - accuracy: 0.8175 - val_loss: 0.4453 - val_accuracy: 0.8049\n",
      "Epoch 32/200\n",
      "211/211 [==============================] - 21s 101ms/step - loss: 0.4070 - accuracy: 0.8213 - val_loss: 0.4318 - val_accuracy: 0.8155\n",
      "Epoch 33/200\n",
      "211/211 [==============================] - 21s 99ms/step - loss: 0.4027 - accuracy: 0.8256 - val_loss: 0.4158 - val_accuracy: 0.8147\n",
      "Epoch 34/200\n",
      "211/211 [==============================] - 21s 98ms/step - loss: 0.3994 - accuracy: 0.8219 - val_loss: 0.4095 - val_accuracy: 0.8187\n",
      "Epoch 35/200\n",
      "211/211 [==============================] - 21s 99ms/step - loss: 0.4066 - accuracy: 0.8198 - val_loss: 0.4228 - val_accuracy: 0.8198\n",
      "Epoch 36/200\n",
      "211/211 [==============================] - 21s 100ms/step - loss: 0.4022 - accuracy: 0.8240 - val_loss: 0.4238 - val_accuracy: 0.8104\n",
      "Epoch 37/200\n",
      "211/211 [==============================] - 21s 99ms/step - loss: 0.3966 - accuracy: 0.8252 - val_loss: 0.4086 - val_accuracy: 0.8242\n",
      "Epoch 38/200\n",
      "211/211 [==============================] - 23s 108ms/step - loss: 0.3945 - accuracy: 0.8277 - val_loss: 0.4064 - val_accuracy: 0.8222\n",
      "Epoch 39/200\n",
      "211/211 [==============================] - 21s 100ms/step - loss: 0.3941 - accuracy: 0.8250 - val_loss: 0.4039 - val_accuracy: 0.8262\n",
      "Epoch 40/200\n",
      "211/211 [==============================] - 22s 106ms/step - loss: 0.3933 - accuracy: 0.8274 - val_loss: 0.4048 - val_accuracy: 0.8231\n",
      "Epoch 41/200\n",
      "211/211 [==============================] - 22s 102ms/step - loss: 0.3999 - accuracy: 0.8271 - val_loss: 0.4353 - val_accuracy: 0.8049\n",
      "Epoch 42/200\n",
      "211/211 [==============================] - 21s 100ms/step - loss: 0.3978 - accuracy: 0.8262 - val_loss: 0.4296 - val_accuracy: 0.8089\n",
      "Epoch 43/200\n",
      "211/211 [==============================] - 21s 101ms/step - loss: 0.3907 - accuracy: 0.8274 - val_loss: 0.4035 - val_accuracy: 0.8256\n",
      "Epoch 44/200\n",
      "211/211 [==============================] - 21s 100ms/step - loss: 0.3926 - accuracy: 0.8271 - val_loss: 0.4062 - val_accuracy: 0.8211\n",
      "Epoch 45/200\n",
      "211/211 [==============================] - 21s 99ms/step - loss: 0.3888 - accuracy: 0.8298 - val_loss: 0.4077 - val_accuracy: 0.8227\n",
      "Epoch 46/200\n",
      "211/211 [==============================] - 21s 101ms/step - loss: 0.3935 - accuracy: 0.8286 - val_loss: 0.4073 - val_accuracy: 0.8209\n",
      "Epoch 47/200\n",
      "211/211 [==============================] - 22s 102ms/step - loss: 0.3903 - accuracy: 0.8299 - val_loss: 0.4022 - val_accuracy: 0.8271\n",
      "Epoch 48/200\n",
      "211/211 [==============================] - 21s 99ms/step - loss: 0.3827 - accuracy: 0.8354 - val_loss: 0.4036 - val_accuracy: 0.8240\n",
      "Epoch 49/200\n",
      "211/211 [==============================] - 20s 96ms/step - loss: 0.3897 - accuracy: 0.8296 - val_loss: 0.4218 - val_accuracy: 0.8205\n",
      "Epoch 50/200\n",
      "211/211 [==============================] - 22s 103ms/step - loss: 0.3863 - accuracy: 0.8305 - val_loss: 0.4078 - val_accuracy: 0.8220\n",
      "Epoch 51/200\n",
      "211/211 [==============================] - 21s 101ms/step - loss: 0.3844 - accuracy: 0.8319 - val_loss: 0.4058 - val_accuracy: 0.8280\n",
      "Epoch 52/200\n",
      "211/211 [==============================] - 21s 100ms/step - loss: 0.3833 - accuracy: 0.8340 - val_loss: 0.4355 - val_accuracy: 0.8100\n",
      "Epoch 53/200\n",
      "211/211 [==============================] - 23s 109ms/step - loss: 0.3824 - accuracy: 0.8362 - val_loss: 0.3991 - val_accuracy: 0.8318\n",
      "Epoch 54/200\n",
      "211/211 [==============================] - 21s 101ms/step - loss: 0.3839 - accuracy: 0.8317 - val_loss: 0.4011 - val_accuracy: 0.8314\n",
      "Epoch 55/200\n",
      "211/211 [==============================] - 21s 102ms/step - loss: 0.3806 - accuracy: 0.8344 - val_loss: 0.4011 - val_accuracy: 0.8316\n",
      "Epoch 56/200\n",
      "211/211 [==============================] - 21s 99ms/step - loss: 0.3784 - accuracy: 0.8345 - val_loss: 0.3955 - val_accuracy: 0.8291\n",
      "Epoch 57/200\n",
      "211/211 [==============================] - 21s 100ms/step - loss: 0.3874 - accuracy: 0.8329 - val_loss: 0.3970 - val_accuracy: 0.8287\n",
      "Epoch 58/200\n",
      "211/211 [==============================] - 21s 101ms/step - loss: 0.3823 - accuracy: 0.8344 - val_loss: 0.3954 - val_accuracy: 0.8325\n",
      "Epoch 59/200\n",
      "211/211 [==============================] - 21s 99ms/step - loss: 0.3836 - accuracy: 0.8328 - val_loss: 0.3971 - val_accuracy: 0.8276\n",
      "Epoch 60/200\n",
      "211/211 [==============================] - 21s 99ms/step - loss: 0.3786 - accuracy: 0.8322 - val_loss: 0.3933 - val_accuracy: 0.8300\n",
      "Epoch 61/200\n",
      "211/211 [==============================] - 22s 106ms/step - loss: 0.3819 - accuracy: 0.8348 - val_loss: 0.3988 - val_accuracy: 0.8314\n",
      "Epoch 62/200\n",
      "211/211 [==============================] - 26s 122ms/step - loss: 0.3789 - accuracy: 0.8335 - val_loss: 0.4136 - val_accuracy: 0.8207\n",
      "Epoch 63/200\n",
      "211/211 [==============================] - 25s 120ms/step - loss: 0.3818 - accuracy: 0.8351 - val_loss: 0.4115 - val_accuracy: 0.8209\n",
      "Epoch 64/200\n",
      "211/211 [==============================] - 36s 171ms/step - loss: 0.3824 - accuracy: 0.8331 - val_loss: 0.4042 - val_accuracy: 0.8209\n",
      "Epoch 65/200\n",
      "211/211 [==============================] - 36s 170ms/step - loss: 0.3770 - accuracy: 0.8348 - val_loss: 0.3997 - val_accuracy: 0.8229\n",
      "Epoch 66/200\n",
      "211/211 [==============================] - 39s 186ms/step - loss: 0.3754 - accuracy: 0.8380 - val_loss: 0.4030 - val_accuracy: 0.8285\n",
      "Epoch 67/200\n",
      "211/211 [==============================] - 37s 177ms/step - loss: 0.3800 - accuracy: 0.8353 - val_loss: 0.3944 - val_accuracy: 0.8352\n",
      "Epoch 68/200\n",
      "211/211 [==============================] - 36s 169ms/step - loss: 0.3787 - accuracy: 0.8353 - val_loss: 0.3923 - val_accuracy: 0.8352\n",
      "Epoch 69/200\n",
      "211/211 [==============================] - 35s 166ms/step - loss: 0.3782 - accuracy: 0.8369 - val_loss: 0.3910 - val_accuracy: 0.8323\n",
      "Epoch 70/200\n",
      "211/211 [==============================] - 37s 173ms/step - loss: 0.3760 - accuracy: 0.8368 - val_loss: 0.4000 - val_accuracy: 0.8289\n",
      "Epoch 71/200\n",
      "211/211 [==============================] - 35s 168ms/step - loss: 0.3724 - accuracy: 0.8384 - val_loss: 0.3923 - val_accuracy: 0.8303\n",
      "Epoch 72/200\n",
      "211/211 [==============================] - 35s 166ms/step - loss: 0.3748 - accuracy: 0.8331 - val_loss: 0.3971 - val_accuracy: 0.8245\n",
      "Epoch 73/200\n",
      "211/211 [==============================] - 37s 176ms/step - loss: 0.3738 - accuracy: 0.8392 - val_loss: 0.3924 - val_accuracy: 0.8287\n",
      "Epoch 74/200\n",
      "211/211 [==============================] - 37s 174ms/step - loss: 0.3773 - accuracy: 0.8360 - val_loss: 0.3898 - val_accuracy: 0.8305\n",
      "Epoch 75/200\n",
      "211/211 [==============================] - 39s 186ms/step - loss: 0.3714 - accuracy: 0.8387 - val_loss: 0.3948 - val_accuracy: 0.8356\n",
      "Epoch 76/200\n",
      "211/211 [==============================] - 36s 171ms/step - loss: 0.3767 - accuracy: 0.8403 - val_loss: 0.3928 - val_accuracy: 0.8383\n",
      "Epoch 77/200\n",
      "211/211 [==============================] - 36s 170ms/step - loss: 0.3747 - accuracy: 0.8397 - val_loss: 0.4005 - val_accuracy: 0.8227\n",
      "Epoch 78/200\n",
      "211/211 [==============================] - 36s 170ms/step - loss: 0.3732 - accuracy: 0.8408 - val_loss: 0.4272 - val_accuracy: 0.8158\n",
      "Epoch 79/200\n",
      "211/211 [==============================] - 37s 177ms/step - loss: 0.3690 - accuracy: 0.8424 - val_loss: 0.3921 - val_accuracy: 0.8278\n",
      "Epoch 80/200\n",
      "211/211 [==============================] - 35s 168ms/step - loss: 0.3690 - accuracy: 0.8418 - val_loss: 0.3924 - val_accuracy: 0.8358\n",
      "Epoch 81/200\n",
      "211/211 [==============================] - 35s 167ms/step - loss: 0.3741 - accuracy: 0.8360 - val_loss: 0.3916 - val_accuracy: 0.8334\n",
      "Epoch 82/200\n",
      "211/211 [==============================] - 36s 170ms/step - loss: 0.3694 - accuracy: 0.8406 - val_loss: 0.3868 - val_accuracy: 0.8352\n",
      "Epoch 83/200\n",
      "211/211 [==============================] - 37s 174ms/step - loss: 0.3719 - accuracy: 0.8411 - val_loss: 0.4163 - val_accuracy: 0.8193\n",
      "Epoch 84/200\n",
      "211/211 [==============================] - 40s 189ms/step - loss: 0.3680 - accuracy: 0.8371 - val_loss: 0.3858 - val_accuracy: 0.8367\n",
      "Epoch 85/200\n",
      "211/211 [==============================] - 38s 181ms/step - loss: 0.3720 - accuracy: 0.8402 - val_loss: 0.3881 - val_accuracy: 0.8380\n",
      "Epoch 86/200\n",
      "211/211 [==============================] - 36s 169ms/step - loss: 0.3736 - accuracy: 0.8365 - val_loss: 0.4182 - val_accuracy: 0.8205\n",
      "Epoch 87/200\n",
      "211/211 [==============================] - 37s 173ms/step - loss: 0.3700 - accuracy: 0.8418 - val_loss: 0.3870 - val_accuracy: 0.8329\n",
      "Epoch 88/200\n",
      "211/211 [==============================] - 36s 173ms/step - loss: 0.3654 - accuracy: 0.8418 - val_loss: 0.4753 - val_accuracy: 0.7881\n",
      "Epoch 89/200\n",
      "211/211 [==============================] - 35s 166ms/step - loss: 0.3751 - accuracy: 0.8357 - val_loss: 0.4634 - val_accuracy: 0.8002\n",
      "Epoch 90/200\n",
      "211/211 [==============================] - 36s 172ms/step - loss: 0.3670 - accuracy: 0.8455 - val_loss: 0.3857 - val_accuracy: 0.8316\n",
      "Epoch 91/200\n",
      "211/211 [==============================] - 37s 175ms/step - loss: 0.3647 - accuracy: 0.8426 - val_loss: 0.4132 - val_accuracy: 0.8164\n",
      "Epoch 92/200\n",
      "211/211 [==============================] - 37s 177ms/step - loss: 0.3754 - accuracy: 0.8341 - val_loss: 0.3875 - val_accuracy: 0.8376\n",
      "Epoch 93/200\n",
      "211/211 [==============================] - 41s 193ms/step - loss: 0.3673 - accuracy: 0.8420 - val_loss: 0.3997 - val_accuracy: 0.8249\n",
      "Epoch 94/200\n",
      "211/211 [==============================] - 36s 169ms/step - loss: 0.3675 - accuracy: 0.8423 - val_loss: 0.3873 - val_accuracy: 0.8345\n",
      "Epoch 95/200\n",
      "211/211 [==============================] - 43s 203ms/step - loss: 0.3660 - accuracy: 0.8446 - val_loss: 0.3855 - val_accuracy: 0.8380\n",
      "Epoch 96/200\n",
      "211/211 [==============================] - 40s 187ms/step - loss: 0.3657 - accuracy: 0.8421 - val_loss: 0.3969 - val_accuracy: 0.8260\n",
      "Epoch 97/200\n",
      "211/211 [==============================] - 38s 182ms/step - loss: 0.3668 - accuracy: 0.8381 - val_loss: 0.3868 - val_accuracy: 0.8356\n",
      "Epoch 98/200\n",
      "211/211 [==============================] - 37s 175ms/step - loss: 0.3623 - accuracy: 0.8436 - val_loss: 0.3863 - val_accuracy: 0.8325\n",
      "Epoch 99/200\n",
      "211/211 [==============================] - 37s 177ms/step - loss: 0.3623 - accuracy: 0.8421 - val_loss: 0.3883 - val_accuracy: 0.8327\n",
      "Epoch 100/200\n",
      "211/211 [==============================] - 44s 208ms/step - loss: 0.3637 - accuracy: 0.8415 - val_loss: 0.3822 - val_accuracy: 0.8376\n",
      "Epoch 101/200\n",
      "211/211 [==============================] - 52s 244ms/step - loss: 0.3626 - accuracy: 0.8461 - val_loss: 0.3895 - val_accuracy: 0.8336\n",
      "Epoch 102/200\n",
      "211/211 [==============================] - 49s 230ms/step - loss: 0.3617 - accuracy: 0.8454 - val_loss: 0.3834 - val_accuracy: 0.8387\n",
      "Epoch 103/200\n",
      "211/211 [==============================] - 43s 206ms/step - loss: 0.3622 - accuracy: 0.8435 - val_loss: 0.3845 - val_accuracy: 0.8363\n",
      "Epoch 104/200\n",
      "211/211 [==============================] - 45s 214ms/step - loss: 0.3596 - accuracy: 0.8454 - val_loss: 0.3883 - val_accuracy: 0.8363\n",
      "Epoch 105/200\n",
      "211/211 [==============================] - 43s 203ms/step - loss: 0.3636 - accuracy: 0.8427 - val_loss: 0.3946 - val_accuracy: 0.8280\n",
      "Epoch 106/200\n",
      "211/211 [==============================] - 49s 233ms/step - loss: 0.3585 - accuracy: 0.8451 - val_loss: 0.4165 - val_accuracy: 0.8178\n",
      "Epoch 107/200\n",
      "211/211 [==============================] - 51s 243ms/step - loss: 0.3655 - accuracy: 0.8452 - val_loss: 0.4035 - val_accuracy: 0.8256\n",
      "Epoch 108/200\n",
      "211/211 [==============================] - 52s 245ms/step - loss: 0.3623 - accuracy: 0.8424 - val_loss: 0.3823 - val_accuracy: 0.8340\n",
      "Epoch 109/200\n",
      "211/211 [==============================] - 48s 225ms/step - loss: 0.3640 - accuracy: 0.8423 - val_loss: 0.3811 - val_accuracy: 0.8354\n",
      "Epoch 110/200\n",
      "211/211 [==============================] - 40s 190ms/step - loss: 0.3557 - accuracy: 0.8490 - val_loss: 0.4027 - val_accuracy: 0.8327\n",
      "Epoch 111/200\n",
      "211/211 [==============================] - 38s 180ms/step - loss: 0.3567 - accuracy: 0.8495 - val_loss: 0.3820 - val_accuracy: 0.8349\n",
      "Epoch 112/200\n",
      "211/211 [==============================] - 38s 178ms/step - loss: 0.3549 - accuracy: 0.8460 - val_loss: 0.3819 - val_accuracy: 0.8367\n",
      "Epoch 113/200\n",
      "211/211 [==============================] - 38s 182ms/step - loss: 0.3613 - accuracy: 0.8396 - val_loss: 0.4291 - val_accuracy: 0.8138\n",
      "Epoch 114/200\n",
      "211/211 [==============================] - 40s 190ms/step - loss: 0.3552 - accuracy: 0.8482 - val_loss: 0.3833 - val_accuracy: 0.8343\n",
      "Epoch 115/200\n",
      "211/211 [==============================] - 39s 187ms/step - loss: 0.3553 - accuracy: 0.8492 - val_loss: 0.3825 - val_accuracy: 0.8409\n",
      "Epoch 116/200\n",
      "211/211 [==============================] - 42s 201ms/step - loss: 0.3531 - accuracy: 0.8448 - val_loss: 0.3932 - val_accuracy: 0.8345\n",
      "Epoch 117/200\n",
      "211/211 [==============================] - 41s 195ms/step - loss: 0.3589 - accuracy: 0.8472 - val_loss: 0.4096 - val_accuracy: 0.8280\n",
      "Epoch 118/200\n",
      "211/211 [==============================] - 41s 196ms/step - loss: 0.3534 - accuracy: 0.8470 - val_loss: 0.3874 - val_accuracy: 0.8367\n",
      "Epoch 119/200\n",
      "211/211 [==============================] - 41s 194ms/step - loss: 0.3594 - accuracy: 0.8441 - val_loss: 0.3886 - val_accuracy: 0.8325\n",
      "Epoch 120/200\n",
      "211/211 [==============================] - 42s 201ms/step - loss: 0.3587 - accuracy: 0.8449 - val_loss: 0.3854 - val_accuracy: 0.8387\n",
      "Epoch 121/200\n",
      "211/211 [==============================] - 38s 182ms/step - loss: 0.3538 - accuracy: 0.8479 - val_loss: 0.4439 - val_accuracy: 0.8073\n",
      "Epoch 122/200\n",
      "211/211 [==============================] - 40s 188ms/step - loss: 0.3558 - accuracy: 0.8507 - val_loss: 0.3924 - val_accuracy: 0.8267\n",
      "Epoch 123/200\n",
      "211/211 [==============================] - 39s 186ms/step - loss: 0.3510 - accuracy: 0.8495 - val_loss: 0.3861 - val_accuracy: 0.8365\n",
      "Epoch 124/200\n",
      "211/211 [==============================] - 40s 188ms/step - loss: 0.3517 - accuracy: 0.8495 - val_loss: 0.3873 - val_accuracy: 0.8334\n",
      "Epoch 125/200\n",
      "211/211 [==============================] - 50s 238ms/step - loss: 0.3568 - accuracy: 0.8454 - val_loss: 0.4065 - val_accuracy: 0.8227\n",
      "Epoch 126/200\n",
      "211/211 [==============================] - 42s 198ms/step - loss: 0.3493 - accuracy: 0.8487 - val_loss: 0.3777 - val_accuracy: 0.8409\n",
      "Epoch 127/200\n",
      "211/211 [==============================] - 40s 189ms/step - loss: 0.3562 - accuracy: 0.8432 - val_loss: 0.3845 - val_accuracy: 0.8376\n",
      "Epoch 128/200\n",
      "211/211 [==============================] - 42s 201ms/step - loss: 0.3610 - accuracy: 0.8458 - val_loss: 0.3864 - val_accuracy: 0.8345\n",
      "Epoch 129/200\n",
      "211/211 [==============================] - 43s 206ms/step - loss: 0.3540 - accuracy: 0.8469 - val_loss: 0.3939 - val_accuracy: 0.8354\n",
      "Epoch 130/200\n",
      "211/211 [==============================] - 42s 197ms/step - loss: 0.3549 - accuracy: 0.8482 - val_loss: 0.4230 - val_accuracy: 0.8153\n",
      "Epoch 131/200\n",
      "211/211 [==============================] - 38s 179ms/step - loss: 0.3558 - accuracy: 0.8467 - val_loss: 0.3950 - val_accuracy: 0.8329\n",
      "Epoch 132/200\n",
      "211/211 [==============================] - 37s 177ms/step - loss: 0.3509 - accuracy: 0.8519 - val_loss: 0.4253 - val_accuracy: 0.8129\n",
      "Epoch 133/200\n",
      "211/211 [==============================] - 45s 213ms/step - loss: 0.3514 - accuracy: 0.8507 - val_loss: 0.3891 - val_accuracy: 0.8314\n",
      "Epoch 134/200\n",
      "211/211 [==============================] - 42s 198ms/step - loss: 0.3474 - accuracy: 0.8527 - val_loss: 0.4005 - val_accuracy: 0.8316\n",
      "Epoch 135/200\n",
      "211/211 [==============================] - 43s 202ms/step - loss: 0.3518 - accuracy: 0.8487 - val_loss: 0.3789 - val_accuracy: 0.8412\n",
      "Epoch 136/200\n",
      "211/211 [==============================] - 35s 167ms/step - loss: 0.3516 - accuracy: 0.8479 - val_loss: 0.4237 - val_accuracy: 0.8149\n",
      "Epoch 137/200\n",
      "211/211 [==============================] - 23s 108ms/step - loss: 0.3563 - accuracy: 0.8500 - val_loss: 0.3914 - val_accuracy: 0.8320\n",
      "Epoch 138/200\n",
      "211/211 [==============================] - 21s 98ms/step - loss: 0.3479 - accuracy: 0.8527 - val_loss: 0.3852 - val_accuracy: 0.8360\n",
      "Epoch 139/200\n",
      "211/211 [==============================] - 21s 99ms/step - loss: 0.3506 - accuracy: 0.8519 - val_loss: 0.3943 - val_accuracy: 0.8325\n",
      "Epoch 140/200\n",
      "211/211 [==============================] - 21s 98ms/step - loss: 0.3478 - accuracy: 0.8507 - val_loss: 0.3939 - val_accuracy: 0.8303\n",
      "Epoch 141/200\n",
      "211/211 [==============================] - 21s 99ms/step - loss: 0.3514 - accuracy: 0.8452 - val_loss: 0.3806 - val_accuracy: 0.8389\n",
      "Epoch 142/200\n",
      "211/211 [==============================] - 21s 102ms/step - loss: 0.3510 - accuracy: 0.8509 - val_loss: 0.3956 - val_accuracy: 0.8363\n",
      "Epoch 143/200\n",
      "211/211 [==============================] - 21s 99ms/step - loss: 0.3507 - accuracy: 0.8509 - val_loss: 0.4233 - val_accuracy: 0.8167\n",
      "Epoch 144/200\n",
      "211/211 [==============================] - 22s 103ms/step - loss: 0.3509 - accuracy: 0.8470 - val_loss: 0.3863 - val_accuracy: 0.8325\n",
      "Epoch 145/200\n",
      "211/211 [==============================] - 23s 109ms/step - loss: 0.3487 - accuracy: 0.8530 - val_loss: 0.4078 - val_accuracy: 0.8196\n",
      "Epoch 146/200\n",
      "211/211 [==============================] - 21s 99ms/step - loss: 0.3516 - accuracy: 0.8476 - val_loss: 0.3921 - val_accuracy: 0.8318\n",
      "Epoch 147/200\n",
      "211/211 [==============================] - 22s 103ms/step - loss: 0.3500 - accuracy: 0.8519 - val_loss: 0.3799 - val_accuracy: 0.8398\n",
      "Epoch 148/200\n",
      "211/211 [==============================] - 21s 98ms/step - loss: 0.3497 - accuracy: 0.8515 - val_loss: 0.3769 - val_accuracy: 0.8409\n",
      "Epoch 149/200\n",
      "211/211 [==============================] - 22s 103ms/step - loss: 0.3503 - accuracy: 0.8506 - val_loss: 0.4045 - val_accuracy: 0.8274\n",
      "Epoch 150/200\n",
      "211/211 [==============================] - 21s 99ms/step - loss: 0.3428 - accuracy: 0.8525 - val_loss: 0.3798 - val_accuracy: 0.8396\n",
      "Epoch 151/200\n",
      "211/211 [==============================] - 21s 100ms/step - loss: 0.3470 - accuracy: 0.8507 - val_loss: 0.3899 - val_accuracy: 0.8294\n",
      "Epoch 152/200\n",
      "211/211 [==============================] - 21s 98ms/step - loss: 0.3449 - accuracy: 0.8546 - val_loss: 0.3765 - val_accuracy: 0.8387\n",
      "Epoch 153/200\n",
      "211/211 [==============================] - 23s 107ms/step - loss: 0.3444 - accuracy: 0.8512 - val_loss: 0.3790 - val_accuracy: 0.8421\n",
      "Epoch 154/200\n",
      "211/211 [==============================] - 21s 100ms/step - loss: 0.3472 - accuracy: 0.8552 - val_loss: 0.3778 - val_accuracy: 0.8409\n",
      "Epoch 155/200\n",
      "211/211 [==============================] - 20s 97ms/step - loss: 0.3472 - accuracy: 0.8518 - val_loss: 0.3770 - val_accuracy: 0.8421\n",
      "Epoch 156/200\n",
      "211/211 [==============================] - 21s 99ms/step - loss: 0.3422 - accuracy: 0.8574 - val_loss: 0.3785 - val_accuracy: 0.8414\n",
      "Epoch 157/200\n",
      "211/211 [==============================] - 21s 99ms/step - loss: 0.3431 - accuracy: 0.8519 - val_loss: 0.3861 - val_accuracy: 0.8356\n",
      "Epoch 158/200\n",
      "211/211 [==============================] - 21s 99ms/step - loss: 0.3417 - accuracy: 0.8559 - val_loss: 0.3812 - val_accuracy: 0.8369\n",
      "Epoch 159/200\n",
      "211/211 [==============================] - 21s 100ms/step - loss: 0.3461 - accuracy: 0.8522 - val_loss: 0.4147 - val_accuracy: 0.8207\n",
      "Epoch 160/200\n",
      "211/211 [==============================] - 23s 110ms/step - loss: 0.3457 - accuracy: 0.8542 - val_loss: 0.4034 - val_accuracy: 0.8296\n",
      "Epoch 161/200\n",
      "211/211 [==============================] - 23s 105ms/step - loss: 0.3569 - accuracy: 0.8432 - val_loss: 0.3795 - val_accuracy: 0.8387\n",
      "Epoch 162/200\n",
      "211/211 [==============================] - 20s 97ms/step - loss: 0.3436 - accuracy: 0.8552 - val_loss: 0.3882 - val_accuracy: 0.8374\n",
      "Epoch 163/200\n",
      "211/211 [==============================] - 21s 98ms/step - loss: 0.3451 - accuracy: 0.8539 - val_loss: 0.4057 - val_accuracy: 0.8245\n",
      "Epoch 164/200\n",
      "211/211 [==============================] - 21s 99ms/step - loss: 0.3509 - accuracy: 0.8497 - val_loss: 0.4086 - val_accuracy: 0.8245\n",
      "Epoch 165/200\n",
      "211/211 [==============================] - 21s 99ms/step - loss: 0.3441 - accuracy: 0.8546 - val_loss: 0.3900 - val_accuracy: 0.8318\n",
      "Epoch 166/200\n",
      "211/211 [==============================] - 21s 100ms/step - loss: 0.3461 - accuracy: 0.8533 - val_loss: 0.3779 - val_accuracy: 0.8423\n",
      "Epoch 167/200\n",
      "211/211 [==============================] - 21s 101ms/step - loss: 0.3443 - accuracy: 0.8515 - val_loss: 0.3898 - val_accuracy: 0.8314\n",
      "Epoch 168/200\n",
      "211/211 [==============================] - 21s 101ms/step - loss: 0.3393 - accuracy: 0.8528 - val_loss: 0.3790 - val_accuracy: 0.8389\n",
      "Epoch 169/200\n",
      "211/211 [==============================] - 22s 103ms/step - loss: 0.3417 - accuracy: 0.8537 - val_loss: 0.3955 - val_accuracy: 0.8305\n",
      "Epoch 170/200\n",
      "211/211 [==============================] - 21s 101ms/step - loss: 0.3415 - accuracy: 0.8537 - val_loss: 0.3787 - val_accuracy: 0.8376\n",
      "Epoch 171/200\n",
      "211/211 [==============================] - 22s 103ms/step - loss: 0.3418 - accuracy: 0.8542 - val_loss: 0.3947 - val_accuracy: 0.8314\n",
      "Epoch 172/200\n",
      "211/211 [==============================] - 22s 106ms/step - loss: 0.3407 - accuracy: 0.8549 - val_loss: 0.3952 - val_accuracy: 0.8309\n",
      "Epoch 173/200\n",
      "211/211 [==============================] - 22s 102ms/step - loss: 0.3546 - accuracy: 0.8464 - val_loss: 0.3771 - val_accuracy: 0.8356\n",
      "Epoch 174/200\n",
      "211/211 [==============================] - 22s 102ms/step - loss: 0.3452 - accuracy: 0.8510 - val_loss: 0.3894 - val_accuracy: 0.8314\n",
      "Epoch 175/200\n",
      "211/211 [==============================] - 23s 107ms/step - loss: 0.3448 - accuracy: 0.8515 - val_loss: 0.3793 - val_accuracy: 0.8407\n",
      "Epoch 176/200\n",
      "211/211 [==============================] - 22s 104ms/step - loss: 0.3429 - accuracy: 0.8521 - val_loss: 0.3839 - val_accuracy: 0.8369\n",
      "Epoch 177/200\n",
      "211/211 [==============================] - 23s 110ms/step - loss: 0.3418 - accuracy: 0.8568 - val_loss: 0.3770 - val_accuracy: 0.8392\n",
      "Epoch 178/200\n",
      "211/211 [==============================] - 22s 102ms/step - loss: 0.3355 - accuracy: 0.8577 - val_loss: 0.3794 - val_accuracy: 0.8367\n",
      "Epoch 179/200\n",
      "211/211 [==============================] - 21s 100ms/step - loss: 0.3452 - accuracy: 0.8488 - val_loss: 0.3879 - val_accuracy: 0.8347\n",
      "Epoch 180/200\n",
      "211/211 [==============================] - 22s 104ms/step - loss: 0.3410 - accuracy: 0.8519 - val_loss: 0.3960 - val_accuracy: 0.8327\n",
      "Epoch 181/200\n",
      "211/211 [==============================] - 23s 108ms/step - loss: 0.3418 - accuracy: 0.8562 - val_loss: 0.3967 - val_accuracy: 0.8265\n",
      "Epoch 182/200\n",
      "211/211 [==============================] - 22s 102ms/step - loss: 0.3485 - accuracy: 0.8504 - val_loss: 0.3906 - val_accuracy: 0.8327\n",
      "Epoch 183/200\n",
      "211/211 [==============================] - 22s 106ms/step - loss: 0.3390 - accuracy: 0.8559 - val_loss: 0.3829 - val_accuracy: 0.8418\n",
      "Epoch 184/200\n",
      "211/211 [==============================] - 21s 102ms/step - loss: 0.3391 - accuracy: 0.8564 - val_loss: 0.3908 - val_accuracy: 0.8305\n",
      "Epoch 185/200\n",
      "211/211 [==============================] - 22s 102ms/step - loss: 0.3370 - accuracy: 0.8568 - val_loss: 0.3867 - val_accuracy: 0.8349\n",
      "Epoch 186/200\n",
      "211/211 [==============================] - 22s 103ms/step - loss: 0.3365 - accuracy: 0.8540 - val_loss: 0.4132 - val_accuracy: 0.8307\n",
      "Epoch 187/200\n",
      "211/211 [==============================] - 23s 108ms/step - loss: 0.3384 - accuracy: 0.8576 - val_loss: 0.3797 - val_accuracy: 0.8407\n",
      "Epoch 188/200\n",
      "211/211 [==============================] - 22s 104ms/step - loss: 0.3386 - accuracy: 0.8531 - val_loss: 0.4045 - val_accuracy: 0.8260\n",
      "Epoch 189/200\n",
      "211/211 [==============================] - 21s 100ms/step - loss: 0.3362 - accuracy: 0.8555 - val_loss: 0.3834 - val_accuracy: 0.8376\n",
      "Epoch 190/200\n",
      "211/211 [==============================] - 24s 112ms/step - loss: 0.3440 - accuracy: 0.8507 - val_loss: 0.3790 - val_accuracy: 0.8432\n",
      "Epoch 191/200\n",
      "211/211 [==============================] - 22s 103ms/step - loss: 0.3388 - accuracy: 0.8576 - val_loss: 0.3841 - val_accuracy: 0.8380\n",
      "Epoch 192/200\n",
      "211/211 [==============================] - 25s 117ms/step - loss: 0.3339 - accuracy: 0.8592 - val_loss: 0.3858 - val_accuracy: 0.8378\n",
      "Epoch 193/200\n",
      "211/211 [==============================] - 22s 102ms/step - loss: 0.3448 - accuracy: 0.8509 - val_loss: 0.3844 - val_accuracy: 0.8380\n",
      "Epoch 194/200\n",
      "211/211 [==============================] - 22s 103ms/step - loss: 0.3365 - accuracy: 0.8589 - val_loss: 0.3833 - val_accuracy: 0.8385\n",
      "Epoch 195/200\n",
      "211/211 [==============================] - 22s 106ms/step - loss: 0.3332 - accuracy: 0.8608 - val_loss: 0.3954 - val_accuracy: 0.8323\n",
      "Epoch 196/200\n",
      "211/211 [==============================] - 22s 102ms/step - loss: 0.3330 - accuracy: 0.8574 - val_loss: 0.3860 - val_accuracy: 0.8392\n",
      "Epoch 197/200\n",
      "211/211 [==============================] - 22s 102ms/step - loss: 0.3321 - accuracy: 0.8588 - val_loss: 0.3854 - val_accuracy: 0.8356\n",
      "Epoch 198/200\n",
      "211/211 [==============================] - 22s 102ms/step - loss: 0.3369 - accuracy: 0.8577 - val_loss: 0.3764 - val_accuracy: 0.8414\n",
      "Epoch 199/200\n",
      "211/211 [==============================] - 21s 101ms/step - loss: 0.3315 - accuracy: 0.8558 - val_loss: 0.3888 - val_accuracy: 0.8358\n",
      "Epoch 200/200\n",
      "211/211 [==============================] - 21s 101ms/step - loss: 0.3429 - accuracy: 0.8536 - val_loss: 0.4160 - val_accuracy: 0.8229\n"
     ]
    }
   ],
   "source": [
    "\n",
    "callback = tf.keras.callbacks.ModelCheckpoint('best_model.h5', monitor='val_accuracy', mode='max', save_best_only=True)\n",
    "\n",
    "historyf = model.fit([input_trainR0, input_trainR1], output_trainConj, epochs= 200, batch_size = 32, \n",
    "                     validation_split = 0.4, shuffle= True, callbacks=[callback]) # validation_split = 0.33"
   ]
  },
  {
   "cell_type": "code",
   "execution_count": 24,
   "metadata": {},
   "outputs": [],
   "source": [
    "modelBest = keras.models.load_model('best_model_10050525.h5')\n",
    "\n"
   ]
  },
  {
   "cell_type": "code",
   "execution_count": 23,
   "metadata": {},
   "outputs": [
    {
     "name": "stdout",
     "output_type": "stream",
     "text": [
      "117/117 [==============================] - 1s 7ms/step - loss: 0.3812 - accuracy: 0.8460\n"
     ]
    },
    {
     "data": {
      "text/plain": [
       "[0.3812302052974701, 0.8460304737091064]"
      ]
     },
     "execution_count": 23,
     "metadata": {},
     "output_type": "execute_result"
    }
   ],
   "source": [
    "#model.evaluate([input_testR0, input_testR1], output_testConj, batch_size= 32)\n",
    "#modelBest.evaluate([input_testR0, input_testR1], output_testConj, batch_size= 32)"
   ]
  },
  {
   "cell_type": "code",
   "execution_count": 28,
   "metadata": {},
   "outputs": [
    {
     "data": {
      "image/png": "[encoded data removed]",
      "text/plain": [
       "<Figure size 640x480 with 1 Axes>"
      ]
     },
     "metadata": {},
     "output_type": "display_data"
    }
   ],
   "source": [
    "\n",
    "plt.plot(historyf.history['accuracy'])\n",
    "plt.plot(historyf.history['val_accuracy'])\n",
    "plt.title('model accuracy')\n",
    "plt.ylabel('accuracy')\n",
    "plt.xlabel('epoch')\n",
    "plt.legend(['train', 'validation'], loc='upper left')\n",
    "plt.show()"
   ]
  },
  {
   "cell_type": "code",
   "execution_count": 29,
   "metadata": {},
   "outputs": [
    {
     "name": "stdout",
     "output_type": "stream",
     "text": [
      "max val_accuracy :0.8431721925735474; min val_loss : 0.3764280378818512\n"
     ]
    }
   ],
   "source": [
    "print('max val_accuracy :' + str(max(historyf.history['val_accuracy'])) + '; ' + 'min val_loss : ' + str(min(historyf.history['val_loss'])) )"
   ]
  },
  {
   "cell_type": "code",
   "execution_count": 18,
   "metadata": {},
   "outputs": [
    {
     "data": {
      "text/plain": [
       "[0.7476052641868591,\n",
       " 0.7576297521591187,\n",
       " 0.7885943651199341,\n",
       " 0.7794609069824219,\n",
       " 0.7190911173820496,\n",
       " 0.7894853949546814,\n",
       " 0.7972822189331055,\n",
       " 0.7687680721282959,\n",
       " 0.8019603490829468,\n",
       " 0.7714412808418274,\n",
       " 0.8108710050582886,\n",
       " 0.8124303817749023,\n",
       " 0.8182223439216614,\n",
       " 0.8115392923355103,\n",
       " 0.8191133737564087,\n",
       " 0.8200044631958008,\n",
       " 0.8099799752235413,\n",
       " 0.8251280784606934,\n",
       " 0.8157718777656555,\n",
       " 0.7848073244094849,\n",
       " 0.8010692596435547,\n",
       " 0.8298062086105347,\n",
       " 0.8278012871742249,\n",
       " 0.8226776719093323,\n",
       " 0.8351525664329529,\n",
       " 0.8135442137718201,\n",
       " 0.8298062086105347,\n",
       " 0.8269101977348328,\n",
       " 0.8246825337409973,\n",
       " 0.8322566151618958,\n",
       " 0.8295834064483643,\n",
       " 0.8231232166290283,\n",
       " 0.8298062086105347,\n",
       " 0.8302517533302307,\n",
       " 0.8367119431495667,\n",
       " 0.8197816610336304,\n",
       " 0.8175539970397949,\n",
       " 0.8231232166290283,\n",
       " 0.8315883278846741,\n",
       " 0.8102027177810669,\n",
       " 0.824237048625946,\n",
       " 0.8313655853271484,\n",
       " 0.8322566151618958,\n",
       " 0.8304744958877563,\n",
       " 0.8135442137718201,\n",
       " 0.8398306965827942,\n",
       " 0.8088661432266235,\n",
       " 0.8327021598815918,\n",
       " 0.8282468318939209,\n",
       " 0.8324794173240662,\n",
       " 0.8211182951927185,\n",
       " 0.8213410377502441,\n",
       " 0.8329249024391174,\n",
       " 0.8322566151618958,\n",
       " 0.830697238445282,\n",
       " 0.8171085119247437,\n",
       " 0.8122076392173767,\n",
       " 0.8177767992019653,\n",
       " 0.8195589184761047,\n",
       " 0.8286923766136169,\n",
       " 0.8367119431495667,\n",
       " 0.8295834064483643,\n",
       " 0.8269101977348328,\n",
       " 0.8213410377502441,\n",
       " 0.8329249024391174,\n",
       " 0.8322566151618958,\n",
       " 0.8200044631958008,\n",
       " 0.8240142464637756,\n",
       " 0.8244597911834717,\n",
       " 0.8282468318939209,\n",
       " 0.8304744958877563,\n",
       " 0.8269101977348328,\n",
       " 0.818445086479187,\n",
       " 0.8251280784606934,\n",
       " 0.8093116283416748,\n",
       " 0.8251280784606934,\n",
       " 0.8159946799278259,\n",
       " 0.8340387344360352,\n",
       " 0.831142783164978,\n",
       " 0.8322566151618958,\n",
       " 0.836043655872345,\n",
       " 0.8327021598815918,\n",
       " 0.8324794173240662,\n",
       " 0.8275785446166992,\n",
       " 0.8211182951927185,\n",
       " 0.8347070813179016,\n",
       " 0.825796365737915,\n",
       " 0.8197816610336304,\n",
       " 0.8302517533302307,\n",
       " 0.8211182951927185,\n",
       " 0.8148808479309082,\n",
       " 0.8211182951927185,\n",
       " 0.8280240297317505,\n",
       " 0.8173312544822693,\n",
       " 0.8302517533302307,\n",
       " 0.8266874551773071,\n",
       " 0.8302517533302307,\n",
       " 0.8295834064483643,\n",
       " 0.8162174224853516,\n",
       " 0.8269101977348328]"
      ]
     },
     "execution_count": 18,
     "metadata": {},
     "output_type": "execute_result"
    }
   ],
   "source": [
    "historyf.history['val_accuracy']"
   ]
  },
  {
   "cell_type": "code",
   "execution_count": 52,
   "metadata": {},
   "outputs": [
    {
     "name": "stdout",
     "output_type": "stream",
     "text": [
      "117/117 [==============================] - 3s 6ms/step\n"
     ]
    },
    {
     "data": {
      "text/plain": [
       "array([[0.20535856],\n",
       "       [0.9682729 ],\n",
       "       [0.58951306],\n",
       "       ...,\n",
       "       [0.20562437],\n",
       "       [0.87147534],\n",
       "       [0.96062887]], dtype=float32)"
      ]
     },
     "execution_count": 52,
     "metadata": {},
     "output_type": "execute_result"
    }
   ],
   "source": [
    "predictOnTest = model.predict([input_testR0, input_testR1])\n",
    "predictOnTest"
   ]
  },
  {
   "cell_type": "code",
   "execution_count": 262,
   "metadata": {},
   "outputs": [
    {
     "data": {
      "text/plain": [
       "array([0, 1, 0, 1, 1, 0, 0, 1, 1, 0, 0, 1, 1, 0, 0, 1, 1, 0, 0, 0, 0, 1,\n",
       "       1, 0, 1, 1, 0])"
      ]
     },
     "execution_count": 262,
     "metadata": {},
     "output_type": "execute_result"
    }
   ],
   "source": [
    "output_test1"
   ]
  },
  {
   "cell_type": "code",
   "execution_count": 263,
   "metadata": {},
   "outputs": [
    {
     "data": {
      "text/plain": [
       "array([0, 1, 0, 1, 1, 0, 0, 1, 1, 0, 0, 1, 1, 0, 0, 0, 1, 0, 0, 0, 0, 1,\n",
       "       1, 0, 1, 1, 0])"
      ]
     },
     "execution_count": 263,
     "metadata": {},
     "output_type": "execute_result"
    }
   ],
   "source": [
    "classifiedArrayPredict = myClassify(predictOnTest, 0.5)\n",
    "np.array(classifiedArrayPredict)"
   ]
  },
  {
   "cell_type": "code",
   "execution_count": 264,
   "metadata": {},
   "outputs": [
    {
     "data": {
      "text/plain": [
       "['OK : agagggtgtactccaagaagaggaagatgaggctagacgtctctgcatggagtatga',\n",
       " 'OK : gcaaaaataaatgcttgactctgtagcgggaaggcgtattatgcacaccccgcgccg',\n",
       " 'OK : ttcgtctccgcgactacgatgagatgcctgagtgcttccgttactggattgtcacca',\n",
       " 'OK : gtactagagaactagtgcattagcttatttttttgttatcatgctaaccacccggcg',\n",
       " 'OK : aaattaaaattttattgacttaggtcactaaatactttaaccaatataggcatagcg',\n",
       " 'OK : tatgaccgaacgagtcaatcagaccgctttgactctggtattactgtgaacattatt',\n",
       " 'OK : taacattaataaataaggaggctctaatggcactcattagccaatcaatcaagaact',\n",
       " 'OK : tttctacaaaacacttgatactgtatgagcatacagtataattgcttcaacagaaca',\n",
       " 'OK : atgcatttttccgcttgtcttcctgagccgactccctataatgcgcctccatcgaca',\n",
       " 'OK : tattggcttgctcaagcatgaactcaaggctgatacggcgagacttgcgagccttgt',\n",
       " 'OK : aacgagtcaatcagaccgctttgactctggtattactgtgaacattattcgtctccg',\n",
       " 'OK : tctgaaatgagctgttgacaattaatcatcgaactagttaactagtacgcaagttca',\n",
       " 'OK : cactaatttattccatgtcacacttttcgcatctttgttatgctatggttatttcat',\n",
       " 'OK : gaggtggctatgtgtatgaccgaacgagtcaatcagaccgctttgactctggtatta',\n",
       " 'OK : catgtcagcctcgacaacttgcataaatgctttcttgtagacgtgccctacgcgctt',\n",
       " 'NOK : tcagaaatattatggtgatgaactgtttttttatccagtataatttgttggcataat',\n",
       " 'OK : ctgcaatttttctattgcggcctgcggagaactccctataatgcgcctccatcgaca',\n",
       " 'OK : tgctgaaaggaggaactatatgcgctcatacgatatgaacgttgagactgccgctga',\n",
       " 'OK : tctcgtggatggacgttcaacattgaggaaggcataacgctactacctgatgtttac',\n",
       " 'OK : cgaacgagtcaatcagaccgctttgactctggtattactgtgaacattattcgtctc',\n",
       " 'OK : cctcaatggcctctaaacgggtcttgaggggttttttgctgaaaggaggaactatat',\n",
       " 'OK : cgacttaatatactgcgacaggacgtccgttctgtgtaaatcgcaatgaaatggttt',\n",
       " 'OK : catcctcgcaccagtcgacgacggtttacgctttacgtatagtggcgacaatttttt',\n",
       " 'OK : aaccattccggttgactcaatgagcatctcgatgcagcgtactcctacatgaataga',\n",
       " 'OK : taaaaaactaacagttgtcagcctgtcccgcttataagatcatacgccgttatacgt',\n",
       " 'OK : aattgtgatgtgtatcgaagtgtgttgcggagtagatgttagaatactaacaaactc',\n",
       " 'OK : ttactgtgaacattattcgtctccgcgactacgatgagatgcctgagtgcttccgtt']"
      ]
     },
     "execution_count": 264,
     "metadata": {},
     "output_type": "execute_result"
    }
   ],
   "source": [
    "\n",
    "comparePredictOkNokWithSeq(classifiedArrayPredict, output_test, sequence_test)"
   ]
  },
  {
   "cell_type": "code",
   "execution_count": 94,
   "metadata": {},
   "outputs": [
    {
     "data": {
      "text/plain": [
       "array([[ 0.23533559,  0.42990232, -0.25082487, -0.15267515,  0.26705414,\n",
       "         0.41497964,  0.27988416,  0.37338895, -0.29958403, -0.04501176],\n",
       "       [ 0.42684212,  0.07528386,  0.28260273, -0.10901958, -0.15239488,\n",
       "         0.44041243,  0.01431945,  0.2730652 ,  0.4608476 ,  0.46495697],\n",
       "       [ 0.45438316,  0.02100177,  0.29724106, -0.24716143, -0.4676595 ,\n",
       "         0.4724816 , -0.3817394 ,  0.19320472,  0.42271256, -0.05679994],\n",
       "       [ 0.15253878, -0.10971248, -0.04070297, -0.21874414, -0.08176634,\n",
       "         0.28545243, -0.43704703,  0.18602677,  0.22525644,  0.47238237],\n",
       "       [-0.46574974, -0.4418646 , -0.38255867, -0.34078255, -0.23755996,\n",
       "         0.2713209 ,  0.27443305, -0.03233695,  0.24816659, -0.28621373],\n",
       "       [ 0.07085161,  0.39532802, -0.03007789, -0.32714292,  0.49284223,\n",
       "         0.18271512, -0.03359003, -0.21458982, -0.42486927,  0.06511235],\n",
       "       [ 0.2713358 , -0.27115414,  0.34532204, -0.23495436, -0.43641958,\n",
       "        -0.3368862 ,  0.12960823,  0.10995054, -0.19554421, -0.07720792],\n",
       "       [-0.04590143,  0.3942591 ,  0.00566856,  0.19669637, -0.06631317,\n",
       "        -0.42244568, -0.06407813, -0.1728232 ,  0.46452302,  0.21050097],\n",
       "       [ 0.08060884,  0.37193573, -0.354489  , -0.44815534, -0.00615418,\n",
       "        -0.2734092 ,  0.00961146,  0.40794468,  0.34805787,  0.3050058 ],\n",
       "       [-0.13335842, -0.24585015, -0.33572006, -0.45683667, -0.01444119,\n",
       "        -0.10833547, -0.05962682, -0.15336625, -0.36658153,  0.31347117],\n",
       "       [-0.19820169, -0.153704  , -0.04638202,  0.4839829 ,  0.26289713,\n",
       "        -0.2991848 ,  0.3665354 ,  0.22821838,  0.07212699, -0.3094584 ],\n",
       "       [-0.00911083,  0.29570737, -0.16099177, -0.26788437,  0.39560342,\n",
       "        -0.16354184, -0.44186142, -0.35942614,  0.35737228,  0.10719667],\n",
       "       [-0.15877792,  0.34966612,  0.01691701, -0.06887166,  0.12856776,\n",
       "        -0.33047417,  0.20484395,  0.02976446, -0.3235725 , -0.22644459],\n",
       "       [ 0.09975111,  0.4164229 , -0.05972092,  0.4724858 ,  0.07625274,\n",
       "        -0.37556273, -0.41675794,  0.1072961 , -0.22256404,  0.07434572],\n",
       "       [-0.33588484, -0.26314247,  0.48928934, -0.42041746,  0.49042416,\n",
       "        -0.07778177,  0.13300411,  0.34206462,  0.41866353,  0.38699016],\n",
       "       [ 0.25059113,  0.18620391,  0.01138588,  0.03915464, -0.4131867 ,\n",
       "        -0.11133797, -0.00348904,  0.08867157, -0.30682206,  0.0675555 ]],\n",
       "      dtype=float32)"
      ]
     },
     "execution_count": 94,
     "metadata": {},
     "output_type": "execute_result"
    }
   ],
   "source": [
    "model.layers[0].get_weights()[0][0]"
   ]
  }
 ],
 "metadata": {
  "kernelspec": {
   "display_name": "base",
   "language": "python",
   "name": "python3"
  },
  "language_info": {
   "codemirror_mode": {
    "name": "ipython",
    "version": 3
   },
   "file_extension": ".py",
   "mimetype": "text/x-python",
   "name": "python",
   "nbconvert_exporter": "python",
   "pygments_lexer": "ipython3",
   "version": "3.10.9"
  }
 },
 "nbformat": 4,
 "nbformat_minor": 2
}
