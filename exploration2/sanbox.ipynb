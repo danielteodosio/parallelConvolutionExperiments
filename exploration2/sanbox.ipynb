{
 "cells": [
  {
   "cell_type": "code",
   "execution_count": 1,
   "metadata": {},
   "outputs": [],
   "source": [
    "import numpy as np\n",
    "import pandas as pd\n",
    "import matplotlib.pyplot as plt\n",
    "import tensorflow as tf\n",
    "from tensorflow import keras\n",
    "from sklearn.model_selection import train_test_split\n",
    "from sklearn.preprocessing import StandardScaler\n",
    "import pickle"
   ]
  },
  {
   "cell_type": "code",
   "execution_count": 3,
   "metadata": {},
   "outputs": [],
   "source": [
    "def verifyIfSeqWindowAndStrideMatches(seqSize, windowSize, strideSize):\n",
    "    last_window_start = 0\n",
    "    nOfStrides = 0\n",
    "    while (last_window_start + windowSize - 1) < (seqSize - 1):\n",
    "        last_window_start = strideSize * nOfStrides\n",
    "        nOfStrides = nOfStrides + 1\n",
    "        #print(last_window_start)\n",
    "        #print(nOfStrides)\n",
    "        #print(' ')\n",
    "\n",
    "    print('n of windows: ' + str(nOfStrides))\n",
    "    print('last window start: ' + str(last_window_start))\n",
    "    print('last window end: ' + str(last_window_start + windowSize - 1))\n",
    "    print('max seq position: ' + str(seqSize - 1))"
   ]
  },
  {
   "cell_type": "code",
   "execution_count": 9,
   "metadata": {},
   "outputs": [
    {
     "name": "stdout",
     "output_type": "stream",
     "text": [
      "n of windows: 55\n",
      "last window start: 54\n",
      "last window end: 56\n",
      "max seq position: 56\n"
     ]
    }
   ],
   "source": [
    "verifyIfSeqWindowAndStrideMatches(57, 3, 1)"
   ]
  }
 ],
 "metadata": {
  "kernelspec": {
   "display_name": "base",
   "language": "python",
   "name": "python3"
  },
  "language_info": {
   "codemirror_mode": {
    "name": "ipython",
    "version": 3
   },
   "file_extension": ".py",
   "mimetype": "text/x-python",
   "name": "python",
   "nbconvert_exporter": "python",
   "pygments_lexer": "ipython3",
   "version": "3.10.9"
  }
 },
 "nbformat": 4,
 "nbformat_minor": 2
}
